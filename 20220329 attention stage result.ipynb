{
 "cells": [
  {
   "cell_type": "code",
   "execution_count": 1,
   "id": "c00ef93e",
   "metadata": {},
   "outputs": [],
   "source": [
    "from tsfresh_feature_extraction import *"
   ]
  },
  {
   "cell_type": "code",
   "execution_count": 2,
   "id": "937f0a50",
   "metadata": {},
   "outputs": [],
   "source": [
    "set_seed(612)"
   ]
  },
  {
   "cell_type": "code",
   "execution_count": 3,
   "id": "a3af53a1",
   "metadata": {},
   "outputs": [],
   "source": [
    "device=CFG.device\n",
    "CFG.epoches=350"
   ]
  },
  {
   "cell_type": "code",
   "execution_count": 4,
   "id": "bb5bd91a",
   "metadata": {},
   "outputs": [],
   "source": [
    "train_extracted_minmax_large=np.load(\"./numpy/train_extracted_minmax_train_0322.npy\")\n",
    "test_extracted_minmax_large=np.load(\"./numpy/test_extracted_minmax_train_0322.npy\")\n",
    "device=CFG.device\n",
    "CFG.epoches=350\n",
    "longlist=np.concatenate((train_extracted_minmax_large,test_extracted_minmax_large),axis=\\\n",
    "                        0)[:,np.random.permutation(100)]\n",
    "train_extracted_minmax_large,test_extracted_minmax_large=np.vsplit(longlist,np.array([24020]))\n",
    "device=CFG.device\n",
    "train_dataset_expend_encoded = AircraftDataset_expend_feature_extraction(df_train, train_label, torch.FloatTensor(train_extracted_minmax_large),False)\n",
    "train_encoded_loader = DataLoader(\n",
    "    train_dataset_expend_encoded,\n",
    "    batch_size=CFG.batch_size,\n",
    "    shuffle=True,\n",
    "    drop_last=True,\n",
    ")\n",
    "test_dataset = AircraftDataset_no_expend_feature_extraction(df_test, test_label, torch.FloatTensor(test_extracted_minmax_large))\n",
    "test_encoded_loader = DataLoader(\n",
    "    test_dataset,\n",
    "    batch_size=1,\n",
    "    shuffle=False)\n",
    "for train_data in train_encoded_loader:None\n",
    "for test_data in test_encoded_loader:None"
   ]
  },
  {
   "cell_type": "markdown",
   "id": "65fa556f",
   "metadata": {},
   "source": [
    "# no cls"
   ]
  },
  {
   "cell_type": "code",
   "execution_count": 5,
   "id": "ca36b1c8",
   "metadata": {},
   "outputs": [],
   "source": [
    "def fit_his_unit(train_loader,path, RESUME=False, shared=True, attention=True, expand=True):\n",
    "    model=AML_model(100,100,100,128,2,20,shared=shared,attention=attention,expand = expand).to(device)\n",
    "    #model=AML_model(99,99,99).to(device)\n",
    "    optimizer = getattr(torch.optim, CFG.optimizer)(model.parameters(), lr=CFG.lr)  # 优化器\n",
    "    scheduler = getattr(torch.optim.lr_scheduler, CFG.scheduler)(optimizer, gamma=CFG.sc_Gamma)  # 指数型学习率\n",
    "    start_epoch=-1\n",
    "    if RESUME:\n",
    "        path_checkpoint = path+'/ckpt.pth'   # 断点路径\n",
    "        checkpoint = torch.load(path_checkpoint)  # 加载断点\n",
    "\n",
    "        model.load_state_dict(checkpoint['net'])  # 加载模型可学习参数\n",
    "\n",
    "        optimizer.load_state_dict(checkpoint['optimizer'])  # 加载优化器参数\n",
    "        start_epoch = checkpoint['epoch']  # 设置开始的epoch\n",
    "        scheduler.load_state_dict(checkpoint['scheduler'])\n",
    "\n",
    "\n",
    "    for epoch in range(start_epoch+1,CFG.epoches):\n",
    "        for data in train_loader:\n",
    "            if attention:\n",
    "                pred_batch = model(data[\"input\"].to(device))[0]\n",
    "            elif not attention:\n",
    "                pred_batch = model(data[\"input\"].to(device))\n",
    "            target_batch = data[\"RUL\"].unsqueeze(-1).to(device)\n",
    "            loss = F.mse_loss(pred_batch, target_batch.float())\n",
    "        # loss = loss_function(pred_batch, target_batch, train_data, test_data)\n",
    "            optimizer.zero_grad()\n",
    "            loss.backward()\n",
    "            optimizer.step()\n",
    "            scheduler.step()\n",
    "        # scheduler.step(loss,last_loss)\n",
    "        # last_loss = loss\n",
    "        if CFG.print_training_process and epoch % 100 == 0:\n",
    "            print(f\"epoch:{epoch}, loss:{loss.item()},lr:{optimizer.state_dict()['param_groups'][0]['lr']}\")\n",
    "            checkpoint = {\n",
    "                \"net\": model.state_dict(),\n",
    "                'optimizer': optimizer.state_dict(),\n",
    "                \"epoch\": epoch,\n",
    "                'scheduler': scheduler.state_dict()\n",
    "            }\n",
    "            if not os.path.isdir(path):\n",
    "                os.mkdir(path)\n",
    "            torch.save(checkpoint,\n",
    "                       path+'/ckpt.pth')\n",
    "        if loss.mean() < CFG.jump_out_value:\n",
    "            save_model_weights(model, \"model_his.pt\",\n",
    "                               cp_folder=path)\n",
    "            break\n",
    "        elif epoch == (CFG.epoches - 1):\n",
    "            print(f\"epoch:{epoch}, loss:{loss.item()}\")\n",
    "            save_model_weights(model, \"model_his.pt\",\n",
    "                               cp_folder=path)"
   ]
  },
  {
   "cell_type": "code",
   "execution_count": 28,
   "id": "16b86bcb",
   "metadata": {},
   "outputs": [
    {
     "name": "stdout",
     "output_type": "stream",
     "text": [
      "epoch:0, loss:4683.556640625,lr:0.09890548353295386\n",
      "epoch:100, loss:88.21176147460938,lr:0.032904660865335375\n",
      "\n",
      " -> Saving weights to ./model_checkpoints_at\\model_his.pt\n",
      "\n"
     ]
    }
   ],
   "source": [
    "fit_his_unit(train_encoded_loader,\"./model_checkpoints_at\", RESUME=False, shared=False, attention=True,expand=False)"
   ]
  },
  {
   "cell_type": "code",
   "execution_count": 29,
   "id": "cf6ce0d5",
   "metadata": {},
   "outputs": [
    {
     "data": {
      "text/plain": [
       "[<matplotlib.lines.Line2D at 0x1a918df6a00>]"
      ]
     },
     "execution_count": 29,
     "metadata": {},
     "output_type": "execute_result"
    },
    {
     "data": {
      "image/png": "[encoded data removed]",
      "text/plain": [
       "<Figure size 432x288 with 1 Axes>"
      ]
     },
     "metadata": {
      "needs_background": "light"
     },
     "output_type": "display_data"
    }
   ],
   "source": [
    "aml_model=AML_model(100,100,100,128,2,20,shared=False,attention=True,expand = False).to(device)\n",
    "aml_model.load_state_dict(torch.load(\"./model_checkpoints_at/model_his.pt\"))\n",
    "plt.plot(aml_model(train_data[\"input\"].to(device))[1].cpu().detach().numpy())"
   ]
  },
  {
   "cell_type": "code",
   "execution_count": 30,
   "id": "2815ad00",
   "metadata": {},
   "outputs": [
    {
     "data": {
      "text/plain": [
       "2353.0"
      ]
     },
     "execution_count": 30,
     "metadata": {},
     "output_type": "execute_result"
    }
   ],
   "source": [
    "pred_1=[]\n",
    "for idx,test_data in enumerate(test_encoded_loader):\n",
    "    pred_1_q=aml_model(test_data[\"input\"].to(device))[0].item()\n",
    "    pred_1.append(pred_1_q)\n",
    "#RUL\n",
    "path = DATA_PATH+'RUL.csv'\n",
    "RUL_frame = pd.read_csv(path, header=None)\n",
    "RUL = RUL_frame.values[:, 0]\n",
    "RUL_y=pd.Series(RUL)\n",
    "RUL_y.index+=1\n",
    "np.sum(np.ceil((abs(np.array(pred_1)-RUL))))#目测结果"
   ]
  },
  {
   "cell_type": "markdown",
   "id": "fca370d5",
   "metadata": {},
   "source": [
    "# have cls"
   ]
  },
  {
   "cell_type": "markdown",
   "id": "922f9740",
   "metadata": {},
   "source": [
    "## mode part fix (get fix)"
   ]
  },
  {
   "cell_type": "code",
   "execution_count": 31,
   "id": "8444972b",
   "metadata": {},
   "outputs": [],
   "source": [
    "def fit_AML_model2_cls(train_loader,path, RESUME=False):\n",
    "    model=AML_model2(100,100,100,128,2,20).to(device)\n",
    "    #model=AML_model(99,99,99).to(device)\n",
    "    optimizer = getattr(torch.optim, CFG.optimizer)(model.parameters(), lr=0.001,weight_decay=0.001)  # 优化器\n",
    "    scheduler = getattr(torch.optim.lr_scheduler, CFG.scheduler)(optimizer, gamma=CFG.sc_Gamma)  # 指数型学习率\n",
    "    start_epoch=-1\n",
    "    if RESUME:\n",
    "        path_checkpoint = path+'/ckpt_aml_cls.pth'   # 断点路径\n",
    "        checkpoint = torch.load(path_checkpoint)  # 加载断点\n",
    "\n",
    "        model.load_state_dict(checkpoint['net'])  # 加载模型可学习参数\n",
    "\n",
    "        optimizer.load_state_dict(checkpoint['optimizer'])  # 加载优化器参数\n",
    "        start_epoch = checkpoint['epoch']  # 设置开始的epoch\n",
    "        #scheduler.load_state_dict(checkpoint['scheduler'])\n",
    "\n",
    "\n",
    "    for epoch in range(start_epoch+1,CFG.epoches):\n",
    "        for data in train_loader:\n",
    "            y_pred,cls_pred,weight_list=model(train_data[\"input\"].to(device))\n",
    "            y_pred=y_pred.unsqueeze(-1)\n",
    "            y_target=train_data[\"RUL\"].to(device).unsqueeze(-1).float()\n",
    "            cls_target=train_data[\"mode\"].to(device)\n",
    "            #loss=100*(-torch.sum(cls_pred*cls_target)/len(cls_pred))+F.mse_loss(y_pred,y_target)\n",
    "            loss=-torch.sum(cls_pred*cls_target)/len(cls_pred)\n",
    "        # loss = loss_function(pred_batch, target_batch, train_data, test_data)\n",
    "            optimizer.zero_grad()\n",
    "            loss.backward()\n",
    "            optimizer.step()\n",
    "            #scheduler.step()\n",
    "        # scheduler.step(loss,last_loss)\n",
    "        # last_loss = loss\n",
    "        if CFG.print_training_process and epoch % 100 == 0:\n",
    "            print(f\"epoch:{epoch}, loss:{loss.item()},lr:{optimizer.state_dict()['param_groups'][0]['lr']}\")\n",
    "            checkpoint = {\n",
    "                \"net\": model.state_dict(),\n",
    "                'optimizer': optimizer.state_dict(),\n",
    "                \"epoch\": epoch,\n",
    "                #'scheduler': scheduler.state_dict()\n",
    "            }\n",
    "            if not os.path.isdir(path):\n",
    "                os.mkdir(path)\n",
    "            torch.save(checkpoint,\n",
    "                       path+'/ckpt_aml_cls.pth')\n",
    "        if loss.mean() < 0.006:\n",
    "            save_model_weights(model, \"model_his_aml_cls.pt\",\n",
    "                               cp_folder=path)\n",
    "            break\n",
    "        elif epoch == (CFG.epoches - 1):\n",
    "            print(f\"epoch:{epoch}, loss:{loss.item()}\")\n",
    "            save_model_weights(model, \"model_his_aml_cls.pt\",\n",
    "                               cp_folder=path)"
   ]
  },
  {
   "cell_type": "code",
   "execution_count": 6,
   "id": "e3d388b4",
   "metadata": {},
   "outputs": [
    {
     "name": "stdout",
     "output_type": "stream",
     "text": [
      "epoch:0, loss:0.42799481749534607,lr:0.001\n",
      "\n",
      " -> Saving weights to ./model_checkpoints_at\\model_his_aml_cls.pt\n",
      "\n"
     ]
    }
   ],
   "source": [
    "fit_AML_model2_cls(train_encoded_loader,\"./model_checkpoints_at\", RESUME=False)"
   ]
  },
  {
   "cell_type": "markdown",
   "id": "f167594b",
   "metadata": {},
   "source": [
    "## with mode part fixed , train other part"
   ]
  },
  {
   "cell_type": "code",
   "execution_count": 181,
   "id": "9e817767",
   "metadata": {},
   "outputs": [],
   "source": [
    "def fit_AML_model2(train_loader,path, num_head,RESUME=False,shared=False, attention=True, expand=False):\n",
    "    model=AML_model2(100,100,100,128,2,num_head,shared=shared,attention=attention,expand = expand,\n",
    "                    fix_mode_part=False).to(device)\n",
    "    #model.load_state_dict(torch.load(\"./model_checkpoints_at/model_his_aml_cls.pt\"))\n",
    "    #model=AML_model(99,99,99).to(device)\n",
    "    optimizer = getattr(torch.optim, CFG.optimizer)(filter(lambda p: p.requires_grad, model.parameters()), \n",
    "                                                    lr=CFG.lr,weight_decay=0.1)  # 优化器\n",
    "    scheduler = getattr(torch.optim.lr_scheduler, CFG.scheduler)(optimizer, gamma=CFG.sc_Gamma)  # 指数型学习率\n",
    "    start_epoch=-1\n",
    "    if RESUME:\n",
    "        path_checkpoint = path+'/ckpt_aml.pth'   # 断点路径\n",
    "        checkpoint = torch.load(path_checkpoint)  # 加载断点\n",
    "\n",
    "        model.load_state_dict(checkpoint['net'])  # 加载模型可学习参数\n",
    "\n",
    "        optimizer.load_state_dict(checkpoint['optimizer'])  # 加载优化器参数\n",
    "        start_epoch = checkpoint['epoch']  # 设置开始的epoch\n",
    "        scheduler.load_state_dict(checkpoint['scheduler'])\n",
    "\n",
    "\n",
    "    for epoch in range(start_epoch+1,CFG.epoches):\n",
    "        for data in train_loader:\n",
    "            if attention:\n",
    "                y_pred,cls_pred,weight_list=model(train_data[\"input\"].to(device))\n",
    "            else:\n",
    "                y_pred,cls_pred=model(train_data[\"input\"].to(device))\n",
    "            y_pred=y_pred.unsqueeze(-1)\n",
    "            y_target=train_data[\"RUL\"].to(device).unsqueeze(-1).float()\n",
    "            #y_target=train_data[\"RUL\"].to(device).float()\n",
    "            cls_target=train_data[\"mode\"].to(device)\n",
    "#             y_pred_=y_pred[torch.where(y_target>300)]\n",
    "#             y_target_=y_target[torch.where(y_target>300)]\n",
    "            loss=F.mse_loss(y_pred,y_target)+10*(-torch.sum(cls_pred*cls_target)/len(cls_pred)) #+\\\n",
    "                        #3 * F.mse_loss(y_pred_,y_target_)\n",
    "        # loss = loss_function(pred_batch, target_batch, train_data, test_data)\n",
    "            optimizer.zero_grad()\n",
    "            loss.backward()\n",
    "            optimizer.step()\n",
    "            scheduler.step()\n",
    "        # scheduler.step(loss,last_loss)\n",
    "        # last_loss = loss\n",
    "        if CFG.print_training_process and epoch % 100 == 0:\n",
    "            print(f\"epoch:{epoch}, loss:{loss.item()},lr:{optimizer.state_dict()['param_groups'][0]['lr']}\")\n",
    "            checkpoint = {\n",
    "                \"net\": model.state_dict(),\n",
    "                'optimizer': optimizer.state_dict(),\n",
    "                \"epoch\": epoch,\n",
    "                'scheduler': scheduler.state_dict()\n",
    "            }\n",
    "            if not os.path.isdir(path):\n",
    "                os.mkdir(path)\n",
    "            torch.save(checkpoint,\n",
    "                       path+'/ckpt_aml.pth')\n",
    "        if loss.mean() < CFG.jump_out_value:\n",
    "            save_model_weights(model, \"model_his_aml.pt\",\n",
    "                               cp_folder=path)\n",
    "            break\n",
    "        elif epoch == (CFG.epoches - 1):\n",
    "            print(f\"epoch:{epoch}, loss:{loss.item()}\")\n",
    "            save_model_weights(model, \"model_his_aml.pt\",\n",
    "                               cp_folder=path)"
   ]
  },
  {
   "cell_type": "code",
   "execution_count": 193,
   "id": "e0bb4934",
   "metadata": {},
   "outputs": [
    {
     "name": "stdout",
     "output_type": "stream",
     "text": [
      "epoch:0, loss:3802.80615234375,lr:0.09890548353295386\n",
      "\n",
      " -> Saving weights to ./model_checkpoints_at\\model_his_aml.pt\n",
      "\n"
     ]
    }
   ],
   "source": [
    "fit_AML_model2(train_encoded_loader,\"./model_checkpoints_at\",num_head=5,RESUME=False,shared=False, \n",
    "               attention=True,expand=False)"
   ]
  },
  {
   "cell_type": "code",
   "execution_count": 195,
   "id": "00a0ea26",
   "metadata": {},
   "outputs": [
    {
     "data": {
      "text/plain": [
       "[<matplotlib.lines.Line2D at 0x20004920a90>]"
      ]
     },
     "execution_count": 195,
     "metadata": {},
     "output_type": "execute_result"
    },
    {
     "data": {
      "image/png": "[encoded data removed]",
      "text/plain": [
       "<Figure size 432x288 with 1 Axes>"
      ]
     },
     "metadata": {
      "needs_background": "light"
     },
     "output_type": "display_data"
    }
   ],
   "source": [
    "aml_model_2=AML_model2(100,100,100,128,2,5,shared=False, attention=True,expand=False).to(device)\n",
    "aml_model_2.load_state_dict(torch.load(\"./model_checkpoints_at/model_his_aml.pt\"))\n",
    "plt.plot(aml_model_2(train_data[\"input\"].to(device))[2][1].cpu().detach().numpy())"
   ]
  },
  {
   "cell_type": "code",
   "execution_count": 204,
   "id": "92f4ada9",
   "metadata": {},
   "outputs": [
    {
     "data": {
      "text/plain": [
       "2368.0"
      ]
     },
     "execution_count": 204,
     "metadata": {},
     "output_type": "execute_result"
    }
   ],
   "source": [
    "pred_2=[]\n",
    "for idx,test_data in enumerate(test_encoded_loader):\n",
    "    pred_2_q=aml_model_2(test_data[\"input\"].to(device))[0].item()\n",
    "    pred_2.append(pred_2_q)\n",
    "#RUL\n",
    "path = DATA_PATH+'RUL.csv'\n",
    "RUL_frame = pd.read_csv(path, header=None)\n",
    "RUL = RUL_frame.values[:, 0]\n",
    "RUL_y=pd.Series(RUL)\n",
    "RUL_y.index+=1\n",
    "np.sum(np.ceil((abs(np.array(pred_2)-RUL))))#目测结果"
   ]
  },
  {
   "cell_type": "code",
   "execution_count": 205,
   "id": "7d58229e",
   "metadata": {},
   "outputs": [
    {
     "data": {
      "text/plain": [
       "(array([12, 27, 31, 35, 36, 41, 46, 48, 51, 53, 60, 68, 96], dtype=int64),)"
      ]
     },
     "execution_count": 205,
     "metadata": {},
     "output_type": "execute_result"
    }
   ],
   "source": [
    "np.where(np.ceil((abs(np.array(pred_2)-RUL)))>50)"
   ]
  },
  {
   "cell_type": "code",
   "execution_count": 206,
   "id": "bf6d0257",
   "metadata": {},
   "outputs": [],
   "source": [
    "lifetime_list=[]\n",
    "for i in range(len(test_dataset)):\n",
    "    lifetime=test_dataset[i][\"lifetime\"].item()\n",
    "    lifetime_list.append(lifetime)\n",
    "lifetime_list=np.array(lifetime_list)"
   ]
  },
  {
   "cell_type": "code",
   "execution_count": 207,
   "id": "47d5d4b2",
   "metadata": {},
   "outputs": [
    {
     "data": {
      "text/plain": [
       "(array([12, 31, 41, 46, 51, 60, 96], dtype=int64),)"
      ]
     },
     "execution_count": 207,
     "metadata": {},
     "output_type": "execute_result"
    }
   ],
   "source": [
    "np.where(np.ceil((abs(np.array(pred_2)-RUL)))>80)"
   ]
  },
  {
   "cell_type": "code",
   "execution_count": 208,
   "id": "e6ba9030",
   "metadata": {},
   "outputs": [
    {
     "data": {
      "text/plain": [
       "array([ 65, 120,  87,  56,  38,  78,  95])"
      ]
     },
     "execution_count": 208,
     "metadata": {},
     "output_type": "execute_result"
    }
   ],
   "source": [
    "lifetime_list[np.where(np.ceil((abs(np.array(pred_2)-RUL)))>80)]"
   ]
  },
  {
   "cell_type": "code",
   "execution_count": 209,
   "id": "8c05f79b",
   "metadata": {},
   "outputs": [
    {
     "data": {
      "text/plain": [
       "(array([ 3,  5, 12, 27, 28, 35, 36, 41, 44, 46, 51, 53, 60, 64, 69, 73, 79,\n",
       "        83, 87, 90, 96], dtype=int64),)"
      ]
     },
     "execution_count": 209,
     "metadata": {},
     "output_type": "execute_result"
    }
   ],
   "source": [
    "np.where(lifetime_list<100)"
   ]
  },
  {
   "cell_type": "code",
   "execution_count": 210,
   "id": "6b54f26b",
   "metadata": {},
   "outputs": [],
   "source": [
    "def get_Accuracy(hat_RUL, RUL_true, lifetime_list):\n",
    "    \"\"\"\n",
    "\n",
    "    :return: RUL升序排序后前20个，前40个，前**个的误差\n",
    "    \"\"\"\n",
    "    # hat_RUL = get_RUL(mu_Gamma, C_Gamma, sigma_2, w, data, data_train)\n",
    "    # RUL_frame = pd.read_csv(path, header=None)\n",
    "    # RUL = RUL_frame.values[:, 0]\n",
    "    Accuracy = np.zeros((100, 2))\n",
    "    Accuracy[:, 0] = RUL_true\n",
    "    Accuracy[:, 1] = abs(hat_RUL - RUL_true) / (lifetime_list + RUL_true)\n",
    "    num_A = np.argsort(Accuracy[:, 0])\n",
    "    iAccuracy = np.zeros((100, 2))\n",
    "    for ia in range(0, 100):\n",
    "        iAccuracy[ia, 0] = Accuracy[int(num_A[ia]), 0]\n",
    "        iAccuracy[ia, 1] = Accuracy[int(num_A[ia]), 1]\n",
    "    rul0 = [25, 50, 75, 100, 125, 300]\n",
    "    Accuracy_RUL = np.mat(np.zeros((6, 3)))\n",
    "    for ir in range(0, 6):\n",
    "        Accuracy_RUL[ir, 0] = int(rul0[ir])\n",
    "        num_rul = np.argwhere((iAccuracy[:, 0] <= rul0[ir]))\n",
    "        #(cycletime_sim_raw > 50) & (cycletime_sim_raw < 350)\n",
    "        Accuracy_RUL[ir, 1] = np.mean(iAccuracy[num_rul[:, 0], 1])\n",
    "        s_error = np.std(iAccuracy[num_rul[:, 0], 1])/math.sqrt(len(num_rul))\n",
    "        Accuracy_RUL[ir, 2] = s_error\n",
    "    Accuracy_RUL[5, 0] = 150\n",
    "    return Accuracy_RUL"
   ]
  },
  {
   "cell_type": "code",
   "execution_count": 211,
   "id": "1e49c03f",
   "metadata": {},
   "outputs": [
    {
     "data": {
      "text/plain": [
       "matrix([[2.50000000e+01, 1.99635571e-02, 5.89919628e-03],\n",
       "        [5.00000000e+01, 2.19749984e-02, 4.33802086e-03],\n",
       "        [7.50000000e+01, 5.09131713e-02, 1.31361999e-02],\n",
       "        [1.00000000e+02, 7.17816508e-02, 1.32667151e-02],\n",
       "        [1.25000000e+02, 9.70969080e-02, 1.67776799e-02],\n",
       "        [1.50000000e+02, 1.13511552e-01, 1.72295551e-02]])"
      ]
     },
     "execution_count": 211,
     "metadata": {},
     "output_type": "execute_result"
    }
   ],
   "source": [
    "get_Accuracy(np.array(pred_2), RUL,lifetime_list)"
   ]
  },
  {
   "cell_type": "code",
   "execution_count": null,
   "id": "d73b49e0",
   "metadata": {},
   "outputs": [],
   "source": []
  },
  {
   "cell_type": "code",
   "execution_count": null,
   "id": "e7bd57ae",
   "metadata": {},
   "outputs": [],
   "source": []
  }
 ],
 "metadata": {
  "kernelspec": {
   "display_name": "Python 3",
   "language": "python",
   "name": "python3"
  },
  "language_info": {
   "codemirror_mode": {
    "name": "ipython",
    "version": 3
   },
   "file_extension": ".py",
   "mimetype": "text/x-python",
   "name": "python",
   "nbconvert_exporter": "python",
   "pygments_lexer": "ipython3",
   "version": "3.8.8"
  }
 },
 "nbformat": 4,
 "nbformat_minor": 5
}
