{
 "cells": [
  {
   "cell_type": "code",
   "execution_count": 1,
   "id": "292b55fd",
   "metadata": {},
   "outputs": [],
   "source": [
    "from ae_feature_extraction import *"
   ]
  },
  {
   "cell_type": "code",
   "execution_count": 2,
   "id": "2f2677bf",
   "metadata": {},
   "outputs": [],
   "source": [
    "feature_list_expend = feature_preprocess(encode_feature_extraction(train_data_expend))  # 获得切片后测试集的featurelist_raw\n",
    "feature_list_test = feature_preprocess(encode_feature_extraction(test_dataset))  # 获得testdata的featurelist_raw"
   ]
  },
  {
   "cell_type": "code",
   "execution_count": 3,
   "id": "1ddf17c8",
   "metadata": {},
   "outputs": [
    {
     "data": {
      "text/plain": [
       "tensor([ 0.1803, -0.4395, -1.1037, -0.6417,  0.2475,  0.0332, -0.4604,  0.1890,\n",
       "         0.8557,  0.5821,  1.0277,  0.5549, -2.7778, -1.0376,  1.4158,  1.0370])"
      ]
     },
     "execution_count": 3,
     "metadata": {},
     "output_type": "execute_result"
    }
   ],
   "source": [
    "feature_list_expend[0]"
   ]
  },
  {
   "cell_type": "code",
   "execution_count": 4,
   "id": "dc8a489f",
   "metadata": {},
   "outputs": [],
   "source": [
    "train_dataset_expend_encoded = AircraftDataset_expend_feature_extraction(df_train, feature_list_expend)\n",
    "train_encoded_loader = DataLoader(\n",
    "    train_dataset_expend_encoded,\n",
    "    batch_size=CFG.batch_size,\n",
    "    shuffle=True,\n",
    "    drop_last=True,\n",
    ")\n",
    "test_dataset = AircraftDataset_no_expend_feature_extraction(df_train, feature_list_test)\n",
    "test_encoded_loader = DataLoader(\n",
    "    test_dataset,\n",
    "    batch_size=1,\n",
    "    shuffle=False)\n",
    "# classifier_in = KMeans(n_clusters=CFG.num_in_feature_classes, random_state=CFG.seed).fit(get_input(test_dataset))\n",
    "model = CustomModel(CFG.ae_hidden_layer).to(device)\n",
    "loss_function = CustomLoss()"
   ]
  },
  {
   "cell_type": "code",
   "execution_count": 5,
   "id": "287618ac",
   "metadata": {},
   "outputs": [],
   "source": [
    "def fit_his_unit_in_unit_0(train_loader, test_loader_batch, in_unit_index, folder, RESUME=False):\n",
    "    \"\"\"\n",
    "    传入 in_unit 的feature来获得kernel完成预测\n",
    "    :param train_loader: 含有多个batch, 是字典形式的\n",
    "    :param test_loader_batch: test loader 的一个batch， 是字典形式的\n",
    "    :param in_unit_index: 记录in unit的index\n",
    "    :return: None\n",
    "    \"\"\"\n",
    "    # last_loss = torch.tensor([1e5], dtype=torch.float).to(CFG.device)\n",
    "    optimizer = getattr(torch.optim, CFG.optimizer)(model.parameters(), lr=CFG.lr)  # 优化器\n",
    "    scheduler = getattr(torch.optim.lr_scheduler, CFG.scheduler)(optimizer, gamma=CFG.sc_Gamma)  # 指数型学习率\n",
    "    start_epoch = -1\n",
    "    for layer in model.modules():\n",
    "        if isinstance(layer, nn.Linear):\n",
    "            nn.init.xavier_uniform_(layer.weight.data, gain=nn.init.calculate_gain('relu'))\n",
    "\n",
    "    if RESUME:\n",
    "        path_checkpoint = folder + '/ckpt_unit_%s.pth' % (str(in_unit_index))  # 断点路径\n",
    "        if os.path.isfile(path_checkpoint):\n",
    "            checkpoint = torch.load(path_checkpoint, map_location=CFG.device)  # 加载断点\n",
    "\n",
    "            model.load_state_dict(checkpoint['net'])  # 加载模型可学习参数\n",
    "\n",
    "            optimizer.load_state_dict(checkpoint['optimizer'])  # 加载优化器参数\n",
    "            start_epoch = checkpoint['epoch']  # 设置开始的epoch\n",
    "            scheduler.load_state_dict(checkpoint['scheduler'])\n",
    "        else:\n",
    "            None\n",
    "\n",
    "    for epoch in range(start_epoch + 1, CFG.epoches):\n",
    "        for data in train_loader:\n",
    "            pred_batch = model(data[\"input\"].to(device))\n",
    "            target_batch = data[\"RUL\"].unsqueeze(-1).to(device)\n",
    "            train_data = data[\"input\"].to(device)\n",
    "            test_data = test_loader_batch[\"input\"].to(device)\n",
    "            loss = loss_function(pred_batch, target_batch, train_data, test_data)\n",
    "            optimizer.zero_grad()\n",
    "            loss.backward()\n",
    "            optimizer.step()\n",
    "            scheduler.step()\n",
    "        # scheduler.step(loss,last_loss)\n",
    "        # last_loss = loss\n",
    "        if CFG.print_training_process and epoch % 10 == 0:\n",
    "            print(f\"epoch:{epoch}, loss:{loss.item()},lr:{optimizer.state_dict()['param_groups'][0]['lr']}\")\n",
    "            checkpoint = {\n",
    "                \"net\": model.state_dict(),\n",
    "                'optimizer': optimizer.state_dict(),\n",
    "                \"epoch\": epoch,\n",
    "                'scheduler': scheduler.state_dict()\n",
    "            }\n",
    "            if not os.path.isdir(folder):\n",
    "                os.mkdir(folder)\n",
    "            torch.save(checkpoint, folder + '/ckpt_unit_%s.pth' % (str(in_unit_index)))\n",
    "\n",
    "        if loss.mean() < CFG.jump_out_value:\n",
    "            save_model_weights(model, f\"model_in_unit_{in_unit_index}.pt\",\n",
    "                               cp_folder=folder)\n",
    "            break\n",
    "        elif epoch == (CFG.epoches - 1):\n",
    "            print(f\"epoch:{epoch}, loss:{loss.item()}\")\n",
    "            save_model_weights(model, f\"model_in_unit_{in_unit_index}.pt\",\n",
    "                               cp_folder=folder)"
   ]
  },
  {
   "cell_type": "code",
   "execution_count": 6,
   "id": "c38c1e92",
   "metadata": {},
   "outputs": [
    {
     "name": "stdout",
     "output_type": "stream",
     "text": [
      "epoch:0, loss:11415.109375,lr:0.09890548353295386\n",
      "epoch:10, loss:1697.2177734375,lr:0.08859803203984777\n",
      "epoch:20, loss:1115.319091796875,lr:0.07936477332643059\n",
      "epoch:30, loss:581.7939453125,lr:0.07109376021267357\n",
      "epoch:40, loss:600.2239990234375,lr:0.06368471211262068\n",
      "epoch:50, loss:304.2881164550781,lr:0.05704779919833771\n",
      "epoch:60, loss:448.83331298828125,lr:0.05110255327241894\n",
      "epoch:70, loss:377.7538146972656,lr:0.04577689214409707\n",
      "epoch:80, loss:338.192626953125,lr:0.041006245680160425\n",
      "epoch:90, loss:426.1303405761719,lr:0.03673277293461932\n",
      "epoch:100, loss:309.63909912109375,lr:0.032904660865335375\n",
      "epoch:110, loss:252.27362060546875,lr:0.029475496135014385\n",
      "epoch:120, loss:217.0489044189453,lr:0.026403702380063794\n",
      "epoch:130, loss:321.2860412597656,lr:0.023652036124570106\n"
     ]
    },
    {
     "ename": "KeyboardInterrupt",
     "evalue": "",
     "output_type": "error",
     "traceback": [
      "\u001b[1;31m---------------------------------------------------------------------------\u001b[0m",
      "\u001b[1;31mKeyboardInterrupt\u001b[0m                         Traceback (most recent call last)",
      "\u001b[1;32m<ipython-input-6-5de8f19e0047>\u001b[0m in \u001b[0;36m<module>\u001b[1;34m\u001b[0m\n\u001b[0;32m      1\u001b[0m \u001b[1;32mfor\u001b[0m \u001b[0midx\u001b[0m\u001b[1;33m,\u001b[0m \u001b[0mtest_data\u001b[0m \u001b[1;32min\u001b[0m \u001b[0menumerate\u001b[0m\u001b[1;33m(\u001b[0m\u001b[0mtest_encoded_loader\u001b[0m\u001b[1;33m)\u001b[0m\u001b[1;33m:\u001b[0m\u001b[1;33m\u001b[0m\u001b[1;33m\u001b[0m\u001b[0m\n\u001b[1;32m----> 2\u001b[1;33m     fit_his_unit_in_unit_0(train_encoded_loader, test_data, idx,\n\u001b[0m\u001b[0;32m      3\u001b[0m                             \"./model_checkpoints_ae/kernel without classify\", RESUME=False)\n",
      "\u001b[1;32m<ipython-input-5-03678ee49cc7>\u001b[0m in \u001b[0;36mfit_his_unit_in_unit_0\u001b[1;34m(train_loader, test_loader_batch, in_unit_index, folder, RESUME)\u001b[0m\n\u001b[0;32m     34\u001b[0m             \u001b[0mtrain_data\u001b[0m \u001b[1;33m=\u001b[0m \u001b[0mdata\u001b[0m\u001b[1;33m[\u001b[0m\u001b[1;34m\"input\"\u001b[0m\u001b[1;33m]\u001b[0m\u001b[1;33m.\u001b[0m\u001b[0mto\u001b[0m\u001b[1;33m(\u001b[0m\u001b[0mdevice\u001b[0m\u001b[1;33m)\u001b[0m\u001b[1;33m\u001b[0m\u001b[1;33m\u001b[0m\u001b[0m\n\u001b[0;32m     35\u001b[0m             \u001b[0mtest_data\u001b[0m \u001b[1;33m=\u001b[0m \u001b[0mtest_loader_batch\u001b[0m\u001b[1;33m[\u001b[0m\u001b[1;34m\"input\"\u001b[0m\u001b[1;33m]\u001b[0m\u001b[1;33m.\u001b[0m\u001b[0mto\u001b[0m\u001b[1;33m(\u001b[0m\u001b[0mdevice\u001b[0m\u001b[1;33m)\u001b[0m\u001b[1;33m\u001b[0m\u001b[1;33m\u001b[0m\u001b[0m\n\u001b[1;32m---> 36\u001b[1;33m             \u001b[0mloss\u001b[0m \u001b[1;33m=\u001b[0m \u001b[0mloss_function\u001b[0m\u001b[1;33m(\u001b[0m\u001b[0mpred_batch\u001b[0m\u001b[1;33m,\u001b[0m \u001b[0mtarget_batch\u001b[0m\u001b[1;33m,\u001b[0m \u001b[0mtrain_data\u001b[0m\u001b[1;33m,\u001b[0m \u001b[0mtest_data\u001b[0m\u001b[1;33m)\u001b[0m\u001b[1;33m\u001b[0m\u001b[1;33m\u001b[0m\u001b[0m\n\u001b[0m\u001b[0;32m     37\u001b[0m             \u001b[0moptimizer\u001b[0m\u001b[1;33m.\u001b[0m\u001b[0mzero_grad\u001b[0m\u001b[1;33m(\u001b[0m\u001b[1;33m)\u001b[0m\u001b[1;33m\u001b[0m\u001b[1;33m\u001b[0m\u001b[0m\n\u001b[0;32m     38\u001b[0m             \u001b[0mloss\u001b[0m\u001b[1;33m.\u001b[0m\u001b[0mbackward\u001b[0m\u001b[1;33m(\u001b[0m\u001b[1;33m)\u001b[0m\u001b[1;33m\u001b[0m\u001b[1;33m\u001b[0m\u001b[0m\n",
      "\u001b[1;32mC:\\ProgramData\\Anaconda3\\lib\\site-packages\\torch\\nn\\modules\\module.py\u001b[0m in \u001b[0;36m_call_impl\u001b[1;34m(self, *input, **kwargs)\u001b[0m\n\u001b[0;32m   1100\u001b[0m         if not (self._backward_hooks or self._forward_hooks or self._forward_pre_hooks or _global_backward_hooks\n\u001b[0;32m   1101\u001b[0m                 or _global_forward_hooks or _global_forward_pre_hooks):\n\u001b[1;32m-> 1102\u001b[1;33m             \u001b[1;32mreturn\u001b[0m \u001b[0mforward_call\u001b[0m\u001b[1;33m(\u001b[0m\u001b[1;33m*\u001b[0m\u001b[0minput\u001b[0m\u001b[1;33m,\u001b[0m \u001b[1;33m**\u001b[0m\u001b[0mkwargs\u001b[0m\u001b[1;33m)\u001b[0m\u001b[1;33m\u001b[0m\u001b[1;33m\u001b[0m\u001b[0m\n\u001b[0m\u001b[0;32m   1103\u001b[0m         \u001b[1;31m# Do not call functions when jit is used\u001b[0m\u001b[1;33m\u001b[0m\u001b[1;33m\u001b[0m\u001b[1;33m\u001b[0m\u001b[0m\n\u001b[0;32m   1104\u001b[0m         \u001b[0mfull_backward_hooks\u001b[0m\u001b[1;33m,\u001b[0m \u001b[0mnon_full_backward_hooks\u001b[0m \u001b[1;33m=\u001b[0m \u001b[1;33m[\u001b[0m\u001b[1;33m]\u001b[0m\u001b[1;33m,\u001b[0m \u001b[1;33m[\u001b[0m\u001b[1;33m]\u001b[0m\u001b[1;33m\u001b[0m\u001b[1;33m\u001b[0m\u001b[0m\n",
      "\u001b[1;32m~\\Documents\\yh.wang\\2\\DNN_model.py\u001b[0m in \u001b[0;36mforward\u001b[1;34m(self, pred_batch, target_batch, train_data, test_data)\u001b[0m\n\u001b[0;32m     90\u001b[0m \u001b[1;33m\u001b[0m\u001b[0m\n\u001b[0;32m     91\u001b[0m     \u001b[1;32mdef\u001b[0m \u001b[0mforward\u001b[0m\u001b[1;33m(\u001b[0m\u001b[0mself\u001b[0m\u001b[1;33m,\u001b[0m\u001b[0mpred_batch\u001b[0m\u001b[1;33m,\u001b[0m \u001b[0mtarget_batch\u001b[0m\u001b[1;33m,\u001b[0m \u001b[0mtrain_data\u001b[0m\u001b[1;33m,\u001b[0m \u001b[0mtest_data\u001b[0m\u001b[1;33m)\u001b[0m\u001b[1;33m:\u001b[0m\u001b[1;33m\u001b[0m\u001b[1;33m\u001b[0m\u001b[0m\n\u001b[1;32m---> 92\u001b[1;33m         \u001b[1;32mreturn\u001b[0m \u001b[0mself\u001b[0m\u001b[1;33m.\u001b[0m\u001b[0mget_kernel_loss\u001b[0m\u001b[1;33m(\u001b[0m\u001b[0mpred_batch\u001b[0m\u001b[1;33m,\u001b[0m \u001b[0mtarget_batch\u001b[0m\u001b[1;33m,\u001b[0m \u001b[0mtrain_data\u001b[0m\u001b[1;33m,\u001b[0m \u001b[0mtest_data\u001b[0m\u001b[1;33m)\u001b[0m\u001b[1;33m\u001b[0m\u001b[1;33m\u001b[0m\u001b[0m\n\u001b[0m\u001b[0;32m     93\u001b[0m \u001b[1;33m\u001b[0m\u001b[0m\n\u001b[0;32m     94\u001b[0m \u001b[1;32mclass\u001b[0m \u001b[0mmyscheduler\u001b[0m\u001b[1;33m(\u001b[0m\u001b[1;33m)\u001b[0m\u001b[1;33m:\u001b[0m\u001b[1;33m\u001b[0m\u001b[1;33m\u001b[0m\u001b[0m\n",
      "\u001b[1;32m~\\Documents\\yh.wang\\2\\DNN_model.py\u001b[0m in \u001b[0;36mget_kernel_loss\u001b[1;34m(self, pred_batch, target_batch, train_data, test_data)\u001b[0m\n\u001b[0;32m     79\u001b[0m         \u001b[0mn_batch\u001b[0m \u001b[1;33m=\u001b[0m \u001b[0mCFG\u001b[0m\u001b[1;33m.\u001b[0m\u001b[0mbatch_size\u001b[0m\u001b[1;33m\u001b[0m\u001b[1;33m\u001b[0m\u001b[0m\n\u001b[0;32m     80\u001b[0m         \u001b[0mloss\u001b[0m \u001b[1;33m=\u001b[0m \u001b[0mtorch\u001b[0m\u001b[1;33m.\u001b[0m\u001b[0mzeros\u001b[0m\u001b[1;33m(\u001b[0m\u001b[1;36m1\u001b[0m\u001b[1;33m,\u001b[0m \u001b[0mdtype\u001b[0m\u001b[1;33m=\u001b[0m\u001b[0mtorch\u001b[0m\u001b[1;33m.\u001b[0m\u001b[0mfloat\u001b[0m\u001b[1;33m)\u001b[0m\u001b[1;33m.\u001b[0m\u001b[0mto\u001b[0m\u001b[1;33m(\u001b[0m\u001b[0mCFG\u001b[0m\u001b[1;33m.\u001b[0m\u001b[0mdevice\u001b[0m\u001b[1;33m)\u001b[0m\u001b[1;33m\u001b[0m\u001b[1;33m\u001b[0m\u001b[0m\n\u001b[1;32m---> 81\u001b[1;33m         \u001b[0mkernel\u001b[0m\u001b[1;33m=\u001b[0m\u001b[0mself\u001b[0m\u001b[1;33m.\u001b[0m\u001b[0mget_kernel\u001b[0m\u001b[1;33m(\u001b[0m\u001b[0mtrain_data\u001b[0m\u001b[1;33m,\u001b[0m\u001b[0mtest_data\u001b[0m\u001b[1;33m)\u001b[0m\u001b[1;33m.\u001b[0m\u001b[0mfloat\u001b[0m\u001b[1;33m(\u001b[0m\u001b[1;33m)\u001b[0m\u001b[1;33m\u001b[0m\u001b[1;33m\u001b[0m\u001b[0m\n\u001b[0m\u001b[0;32m     82\u001b[0m         \u001b[1;32mif\u001b[0m \u001b[0mself\u001b[0m\u001b[1;33m.\u001b[0m\u001b[0mkernel\u001b[0m\u001b[1;33m:\u001b[0m\u001b[1;33m\u001b[0m\u001b[1;33m\u001b[0m\u001b[0m\n\u001b[0;32m     83\u001b[0m             \u001b[0mresidual\u001b[0m \u001b[1;33m=\u001b[0m \u001b[1;33m(\u001b[0m\u001b[0mtarget_batch\u001b[0m \u001b[1;33m-\u001b[0m \u001b[0mpred_batch\u001b[0m\u001b[1;33m)\u001b[0m\u001b[1;33m.\u001b[0m\u001b[0mfloat\u001b[0m\u001b[1;33m(\u001b[0m\u001b[1;33m)\u001b[0m\u001b[1;33m\u001b[0m\u001b[1;33m\u001b[0m\u001b[0m\n",
      "\u001b[1;32m~\\Documents\\yh.wang\\2\\DNN_model.py\u001b[0m in \u001b[0;36mget_kernel\u001b[1;34m(self, train_data, test_data)\u001b[0m\n\u001b[0;32m     64\u001b[0m         \u001b[1;32mfor\u001b[0m \u001b[0midx\u001b[0m \u001b[1;32min\u001b[0m \u001b[0mrange\u001b[0m\u001b[1;33m(\u001b[0m\u001b[0mn_batch\u001b[0m\u001b[1;33m)\u001b[0m\u001b[1;33m:\u001b[0m\u001b[1;33m\u001b[0m\u001b[1;33m\u001b[0m\u001b[0m\n\u001b[0;32m     65\u001b[0m             diag[idx]=torch.exp(\n\u001b[1;32m---> 66\u001b[1;33m                 \u001b[1;33m-\u001b[0m\u001b[0mF\u001b[0m\u001b[1;33m.\u001b[0m\u001b[0mpairwise_distance\u001b[0m\u001b[1;33m(\u001b[0m\u001b[0mtest_data\u001b[0m\u001b[1;33m[\u001b[0m\u001b[1;36m0\u001b[0m\u001b[1;33m]\u001b[0m\u001b[1;33m,\u001b[0m\u001b[0mtrain_data\u001b[0m\u001b[1;33m[\u001b[0m\u001b[0midx\u001b[0m\u001b[1;33m]\u001b[0m\u001b[1;33m,\u001b[0m\u001b[0mp\u001b[0m\u001b[1;33m=\u001b[0m\u001b[1;36m2\u001b[0m\u001b[1;33m)\u001b[0m\u001b[1;33m\u001b[0m\u001b[1;33m\u001b[0m\u001b[0m\n\u001b[0m\u001b[0;32m     67\u001b[0m             )\n\u001b[0;32m     68\u001b[0m         \u001b[0mdiag\u001b[0m\u001b[1;33m[\u001b[0m\u001b[0mtorch\u001b[0m\u001b[1;33m.\u001b[0m\u001b[0mwhere\u001b[0m\u001b[1;33m(\u001b[0m\u001b[0mdiag\u001b[0m \u001b[1;33m<\u001b[0m \u001b[0mtorch\u001b[0m\u001b[1;33m.\u001b[0m\u001b[0mmedian\u001b[0m\u001b[1;33m(\u001b[0m\u001b[0mdiag\u001b[0m\u001b[1;33m)\u001b[0m\u001b[1;33m)\u001b[0m\u001b[1;33m]\u001b[0m \u001b[1;33m=\u001b[0m \u001b[1;36m0\u001b[0m\u001b[1;33m\u001b[0m\u001b[1;33m\u001b[0m\u001b[0m\n",
      "\u001b[1;32mC:\\ProgramData\\Anaconda3\\lib\\site-packages\\torch\\nn\\functional.py\u001b[0m in \u001b[0;36mpairwise_distance\u001b[1;34m(x1, x2, p, eps, keepdim)\u001b[0m\n\u001b[0;32m   4222\u001b[0m     \u001b[1;32mif\u001b[0m \u001b[0mhas_torch_function_variadic\u001b[0m\u001b[1;33m(\u001b[0m\u001b[0mx1\u001b[0m\u001b[1;33m,\u001b[0m \u001b[0mx2\u001b[0m\u001b[1;33m)\u001b[0m\u001b[1;33m:\u001b[0m\u001b[1;33m\u001b[0m\u001b[1;33m\u001b[0m\u001b[0m\n\u001b[0;32m   4223\u001b[0m         \u001b[1;32mreturn\u001b[0m \u001b[0mhandle_torch_function\u001b[0m\u001b[1;33m(\u001b[0m\u001b[0mpairwise_distance\u001b[0m\u001b[1;33m,\u001b[0m \u001b[1;33m(\u001b[0m\u001b[0mx1\u001b[0m\u001b[1;33m,\u001b[0m \u001b[0mx2\u001b[0m\u001b[1;33m)\u001b[0m\u001b[1;33m,\u001b[0m \u001b[0mx1\u001b[0m\u001b[1;33m,\u001b[0m \u001b[0mx2\u001b[0m\u001b[1;33m,\u001b[0m \u001b[0mp\u001b[0m\u001b[1;33m=\u001b[0m\u001b[0mp\u001b[0m\u001b[1;33m,\u001b[0m \u001b[0meps\u001b[0m\u001b[1;33m=\u001b[0m\u001b[0meps\u001b[0m\u001b[1;33m,\u001b[0m \u001b[0mkeepdim\u001b[0m\u001b[1;33m=\u001b[0m\u001b[0mkeepdim\u001b[0m\u001b[1;33m)\u001b[0m\u001b[1;33m\u001b[0m\u001b[1;33m\u001b[0m\u001b[0m\n\u001b[1;32m-> 4224\u001b[1;33m     \u001b[1;32mreturn\u001b[0m \u001b[0mtorch\u001b[0m\u001b[1;33m.\u001b[0m\u001b[0mpairwise_distance\u001b[0m\u001b[1;33m(\u001b[0m\u001b[0mx1\u001b[0m\u001b[1;33m,\u001b[0m \u001b[0mx2\u001b[0m\u001b[1;33m,\u001b[0m \u001b[0mp\u001b[0m\u001b[1;33m,\u001b[0m \u001b[0meps\u001b[0m\u001b[1;33m,\u001b[0m \u001b[0mkeepdim\u001b[0m\u001b[1;33m)\u001b[0m\u001b[1;33m\u001b[0m\u001b[1;33m\u001b[0m\u001b[0m\n\u001b[0m\u001b[0;32m   4225\u001b[0m \u001b[1;33m\u001b[0m\u001b[0m\n\u001b[0;32m   4226\u001b[0m \u001b[1;33m\u001b[0m\u001b[0m\n",
      "\u001b[1;31mKeyboardInterrupt\u001b[0m: "
     ]
    }
   ],
   "source": [
    "for idx, test_data in enumerate(test_encoded_loader):\n",
    "    fit_his_unit_in_unit_0(train_encoded_loader, test_data, idx,\n",
    "                            \"./model_checkpoints_ae/kernel without classify\", RESUME=False)"
   ]
  },
  {
   "cell_type": "code",
   "execution_count": null,
   "id": "5e45a63b",
   "metadata": {},
   "outputs": [],
   "source": []
  }
 ],
 "metadata": {
  "kernelspec": {
   "display_name": "Python 3",
   "language": "python",
   "name": "python3"
  },
  "language_info": {
   "codemirror_mode": {
    "name": "ipython",
    "version": 3
   },
   "file_extension": ".py",
   "mimetype": "text/x-python",
   "name": "python",
   "nbconvert_exporter": "python",
   "pygments_lexer": "ipython3",
   "version": "3.8.8"
  }
 },
 "nbformat": 4,
 "nbformat_minor": 5
}
