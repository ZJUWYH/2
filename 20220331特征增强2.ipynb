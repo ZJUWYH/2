{
 "cells": [
  {
   "cell_type": "code",
   "execution_count": 1,
   "id": "a8afe081",
   "metadata": {},
   "outputs": [],
   "source": [
    "from tsfresh_feature_extraction import *"
   ]
  },
  {
   "cell_type": "code",
   "execution_count": 2,
   "id": "b9d28649",
   "metadata": {},
   "outputs": [],
   "source": [
    "set_seed(612)"
   ]
  },
  {
   "cell_type": "code",
   "execution_count": 3,
   "id": "8e14b667",
   "metadata": {},
   "outputs": [],
   "source": [
    "train_extracted_minmax_large=np.load(\"./numpy/train_extracted_minmax_train_0322.npy\")\n",
    "test_extracted_minmax_large=np.load(\"./numpy/test_extracted_minmax_train_0322.npy\")\n",
    "device=CFG.device\n",
    "CFG.epoches=350\n",
    "longlist=np.concatenate((train_extracted_minmax_large,test_extracted_minmax_large),axis=\\\n",
    "                        0)[:,np.random.permutation(100)]\n",
    "train_extracted_minmax_large,test_extracted_minmax_large=np.vsplit(longlist,np.array([24020]))\n",
    "device=CFG.device\n",
    "train_dataset_expend_encoded = AircraftDataset_expend_feature_extraction(df_train, train_label, \n",
    "                                                                         torch.FloatTensor(train_extracted_minmax_large),False)\n",
    "train_encoded_loader = DataLoader(\n",
    "    train_dataset_expend_encoded,\n",
    "    batch_size=CFG.batch_size,\n",
    "    shuffle=True,\n",
    "    drop_last=True,\n",
    ")\n",
    "test_dataset = AircraftDataset_no_expend_feature_extraction(df_test, test_label, torch.FloatTensor(test_extracted_minmax_large))\n",
    "test_encoded_loader = DataLoader(\n",
    "    test_dataset,\n",
    "    batch_size=1,\n",
    "    shuffle=False)\n",
    "for train_data in train_encoded_loader:None\n",
    "for test_data in test_encoded_loader:None"
   ]
  },
  {
   "cell_type": "code",
   "execution_count": 218,
   "id": "e741a5f0",
   "metadata": {},
   "outputs": [],
   "source": [
    "path = DATA_PATH+'RUL.csv'\n",
    "RUL_frame = pd.read_csv(path, header=None)\n",
    "RUL = RUL_frame.values[:, 0]\n",
    "RUL_y=pd.Series(RUL)\n",
    "RUL_y.index+=1\n",
    "aml_model_2=AML_model2(100,100,100,128,2,20,shared=False, attention=True,expand=False).to(device)\n",
    "aml_model_2.load_state_dict(torch.load(\"./model_checkpoints_at/model_his_aml.pt\"))\n",
    "lifetime_list=[]\n",
    "for i in range(len(test_dataset)):\n",
    "    lifetime=test_dataset[i][\"lifetime\"].item()\n",
    "    lifetime_list.append(lifetime)\n",
    "lifetime_list=np.array(lifetime_list)"
   ]
  },
  {
   "cell_type": "code",
   "execution_count": 272,
   "id": "7aa1b059",
   "metadata": {},
   "outputs": [],
   "source": [
    "h_idx=35"
   ]
  },
  {
   "cell_type": "code",
   "execution_count": 273,
   "id": "47e2d486",
   "metadata": {},
   "outputs": [
    {
     "data": {
      "text/plain": [
       "(187.09219360351562, 137)"
      ]
     },
     "execution_count": 273,
     "metadata": {},
     "output_type": "execute_result"
    }
   ],
   "source": [
    "aml_model_2(test_dataset[h_idx][\"input\"].unsqueeze(0).to(device))[0].item(),RUL[h_idx]"
   ]
  },
  {
   "cell_type": "code",
   "execution_count": 274,
   "id": "efa3ec16",
   "metadata": {},
   "outputs": [
    {
     "data": {
      "text/plain": [
       "array([   83,   335,   581,   796,  1061,  1267,  1538,  1955,  2215,\n",
       "        2614,  3088,  3278,  3441,  3619,  3819,  4014,  4351,  4656,\n",
       "        5096,  5318,  5649,  5862,  6047,  6236,  6723,  6909,  7145,\n",
       "        7458,  7651,  7867,  8078,  8254,  8436,  8660,  9112,  9336,\n",
       "        9653,  9970, 10164, 10445, 10626, 10914, 11100, 11414, 11587,\n",
       "       11785, 11982, 12244, 12411, 12660, 12814, 12997, 13212, 13369,\n",
       "       13556, 14074, 14262, 14470, 14641, 14933, 15116, 15308, 15547,\n",
       "       15771, 15959, 16186, 16344, 16600, 16794, 16957, 17122, 17524,\n",
       "       17749, 17957, 18143, 18395, 18541, 18789, 19003, 19162, 19302,\n",
       "       19642, 19920, 20094, 20313, 20572, 20906, 21071, 21386, 21586,\n",
       "       21760, 21909, 22060, 22224, 22609, 22768, 23252, 23520, 23820,\n",
       "       23958])"
      ]
     },
     "execution_count": 274,
     "metadata": {},
     "output_type": "execute_result"
    }
   ],
   "source": [
    "same_lifetime_list=[]\n",
    "for idx in range(len(train_dataset_expend_encoded)):\n",
    "    if train_dataset_expend_encoded[idx][\"lifetime\"]==test_dataset[h_idx][\"lifetime\"]:\n",
    "        same_lifetime_list.append(idx)\n",
    "np.array(same_lifetime_list)       \n",
    "    "
   ]
  },
  {
   "cell_type": "code",
   "execution_count": 275,
   "id": "e902f3d1",
   "metadata": {},
   "outputs": [
    {
     "data": {
      "text/plain": [
       "tensor([-4.5657, -2.0608, -4.9859, -3.4402, -4.5620, -4.4340, -2.6926, -4.6013,\n",
       "        -3.3893, -4.3337, -1.7642, -5.4873, -4.4153, -5.4969, -4.3527, -1.4254,\n",
       "        -2.1073, -2.2547, -1.8794, -2.2199, -1.4310, -5.9043, -5.2125, -3.1409,\n",
       "        -4.9763, -5.0032, -4.4186, -5.3047, -4.7796, -4.6427, -5.2766, -4.3834,\n",
       "        -1.9694, -4.0516, -4.2895, -5.2157, -1.9965, -2.1038, -1.7446, -5.0968,\n",
       "        -3.1476, -2.4793, -2.4108, -5.3822, -1.5443, -1.7715, -4.6098, -5.1769,\n",
       "        -2.0326, -5.5275, -4.7258, -4.9977, -5.3140, -4.6902, -4.5378, -5.6445,\n",
       "        -1.8676, -5.3556, -1.7863, -1.3295, -3.7791, -1.8245, -5.2134, -4.4358,\n",
       "        -4.8951, -5.3917, -4.5130, -4.4699, -4.8607, -5.1291, -2.6491, -1.9059,\n",
       "        -3.2411, -5.3217, -2.2326, -5.0996, -2.0219, -5.0066, -5.1255, -5.4081,\n",
       "        -1.7448, -1.5790, -4.8703, -1.3484, -2.1227, -4.3779, -5.0284, -1.5829,\n",
       "        -2.4269, -5.4092, -5.5564, -5.4799, -5.5662, -2.3677, -5.6774, -3.5487,\n",
       "        -1.3825, -1.6114, -5.4148, -5.6698])"
      ]
     },
     "execution_count": 275,
     "metadata": {},
     "output_type": "execute_result"
    }
   ],
   "source": [
    "distance_list=torch.zeros(len(same_lifetime_list))\n",
    "y = test_dataset[h_idx][\"input\"]\n",
    "for i,idx in enumerate(same_lifetime_list):\n",
    "    x = train_dataset_expend_encoded[idx][\"input\"]\n",
    "    distance = -F.pairwise_distance(x, y, p=2)\n",
    "    #distance_list.append(distance)\n",
    "    distance_list[i] = distance\n",
    "distance_list"
   ]
  },
  {
   "cell_type": "code",
   "execution_count": 276,
   "id": "3605add3",
   "metadata": {},
   "outputs": [],
   "source": [
    "diag=torch.exp(distance_list).unsqueeze(-1)\n",
    "#diag=distance_list.unsqueeze(-1)\n",
    "# diag[torch.where(diag < torch.quantile(diag, 0.1, dim=0,\n",
    "#                                                 keepdim=False,\n",
    "#                                                interpolation='nearest'))] = 0\n",
    "diag_reg=diag / torch.sum(diag)\n",
    "test_44=torch.sum(torch.FloatTensor(train_extracted_minmax_large[same_lifetime_list])*diag_reg,dim=0)"
   ]
  },
  {
   "cell_type": "code",
   "execution_count": 277,
   "id": "086ac53b",
   "metadata": {},
   "outputs": [
    {
     "data": {
      "text/plain": [
       "(225.58047485351562, 137)"
      ]
     },
     "execution_count": 277,
     "metadata": {},
     "output_type": "execute_result"
    }
   ],
   "source": [
    "aml_model_2(test_44.unsqueeze(0).to(device))[0].item(),RUL[h_idx]"
   ]
  },
  {
   "cell_type": "markdown",
   "id": "e281a7ad",
   "metadata": {},
   "source": [
    "# 特征增强函数"
   ]
  },
  {
   "cell_type": "code",
   "execution_count": 284,
   "id": "b995c8cf",
   "metadata": {},
   "outputs": [],
   "source": [
    "def feature_enhance2(instance_train,instance_test):\n",
    "    #instance_test_enhanced = instance_test\n",
    "    feature_enhanced_list=[]\n",
    "    for test_idx in range(len(instance_test)):\n",
    "        y = instance_test[test_idx][\"input\"]\n",
    "        if instance_test[test_idx][\"lifetime\"]<100:\n",
    "            same_lifetime_list=[]\n",
    "            for idx in range(len(instance_train)):\n",
    "                if instance_train[idx][\"lifetime\"]==instance_test[test_idx][\"lifetime\"]:\n",
    "                    same_lifetime_list.append(idx)\n",
    "            distance_list=torch.zeros(len(same_lifetime_list))\n",
    "\n",
    "            for i,train_idx in enumerate(same_lifetime_list):\n",
    "                x = instance_train[train_idx][\"input\"]\n",
    "                distance = F.pairwise_distance(x, y, p=2)\n",
    "                distance_list[i] = 1/distance\n",
    "            #diag=torch.exp(distance_list).unsqueeze(-1)\n",
    "            diag=distance_list.unsqueeze(-1)\n",
    "#             diag[torch.where(diag < torch.quantile(diag, 0.5, dim=0,\n",
    "#                                     keepdim=False,\n",
    "#                                    interpolation='nearest'))] = 0\n",
    "            diag_reg=diag / torch.sum(diag)\n",
    "            feature_enhanced_list.append(torch.sum(instance_train.all_feature_list[same_lifetime_list]*diag_reg,\n",
    "                                                   dim=0))\n",
    "        \n",
    "#         diag[torch.where(diag < torch.quantile(diag, 0.5, dim=0,\n",
    "#                                             keepdim=False,\n",
    "#                                            interpolation='nearest'))] = 0\n",
    "#         diag_reg=diag / torch.sum(diag)\n",
    "        #instance_test_enhanced[test_idx][\"input\"] = torch.sum(instance_train.all_feature_list*diag_reg,dim=0)\n",
    "\n",
    "        else:\n",
    "            feature_enhanced_list.append(y)\n",
    "    return feature_enhanced_list     "
   ]
  },
  {
   "cell_type": "code",
   "execution_count": 285,
   "id": "917829ac",
   "metadata": {},
   "outputs": [],
   "source": [
    "feature_enhanced_list = feature_enhance2(train_dataset_expend_encoded,test_dataset)"
   ]
  },
  {
   "cell_type": "code",
   "execution_count": 286,
   "id": "26d90276",
   "metadata": {},
   "outputs": [
    {
     "data": {
      "text/plain": [
       "1921.0"
      ]
     },
     "execution_count": 286,
     "metadata": {},
     "output_type": "execute_result"
    }
   ],
   "source": [
    "test_dataset_enhanced = AircraftDataset_no_expend_feature_extraction(df_test, \n",
    "                                                            test_label, \n",
    "                                                            feature_enhanced_list)\n",
    "test_encoded_enhanced_loader = DataLoader(\n",
    "    test_dataset_enhanced,\n",
    "    batch_size=1,\n",
    "    shuffle=False)\n",
    "pred_2=[]\n",
    "for idx,test_data in enumerate(test_encoded_enhanced_loader):\n",
    "    pred_2_q=aml_model_2(test_data[\"input\"].to(device))[0].item()\n",
    "    pred_2.append(pred_2_q)\n",
    "#RUL\n",
    "path = DATA_PATH+'RUL.csv'\n",
    "RUL_frame = pd.read_csv(path, header=None)\n",
    "RUL = RUL_frame.values[:, 0]\n",
    "np.sum(np.ceil((abs(np.array(pred_2)-RUL))))#目测结果"
   ]
  },
  {
   "cell_type": "code",
   "execution_count": 287,
   "id": "f6c11ca5",
   "metadata": {},
   "outputs": [
    {
     "data": {
      "text/plain": [
       "(array([14], dtype=int64),)"
      ]
     },
     "execution_count": 287,
     "metadata": {},
     "output_type": "execute_result"
    }
   ],
   "source": [
    "np.where(np.ceil((abs(np.array(pred_2)-RUL)))>80)"
   ]
  },
  {
   "cell_type": "code",
   "execution_count": 288,
   "id": "8b917fd4",
   "metadata": {},
   "outputs": [
    {
     "data": {
      "text/plain": [
       "array([112, 133,  38,  50, 162,  78, 105,  68, 218,  56])"
      ]
     },
     "execution_count": 288,
     "metadata": {},
     "output_type": "execute_result"
    }
   ],
   "source": [
    "lifetime_list[np.where(np.ceil((abs(np.array(pred_2)-RUL)))>50)]"
   ]
  },
  {
   "cell_type": "code",
   "execution_count": 289,
   "id": "6268dbac",
   "metadata": {},
   "outputs": [
    {
     "data": {
      "text/plain": [
       "matrix([[2.50000000e+01, 1.53524766e-02, 4.10804652e-03],\n",
       "        [5.00000000e+01, 1.70854534e-02, 3.62896903e-03],\n",
       "        [7.50000000e+01, 5.24026253e-02, 1.06849537e-02],\n",
       "        [1.00000000e+02, 7.53767752e-02, 1.25226407e-02],\n",
       "        [1.25000000e+02, 8.50634632e-02, 1.18799379e-02],\n",
       "        [1.50000000e+02, 8.84322751e-02, 1.05493540e-02]])"
      ]
     },
     "execution_count": 289,
     "metadata": {},
     "output_type": "execute_result"
    }
   ],
   "source": [
    "get_Accuracy(np.array(pred_2), RUL, lifetime_list)"
   ]
  },
  {
   "cell_type": "markdown",
   "id": "b58ee79d",
   "metadata": {},
   "source": [
    "# 特征增强函数2"
   ]
  },
  {
   "cell_type": "code",
   "execution_count": 278,
   "id": "2a1596e4",
   "metadata": {},
   "outputs": [],
   "source": [
    "h_idx=35"
   ]
  },
  {
   "cell_type": "code",
   "execution_count": 279,
   "id": "dd221172",
   "metadata": {},
   "outputs": [
    {
     "data": {
      "text/plain": [
       "(187.09219360351562, 137)"
      ]
     },
     "execution_count": 279,
     "metadata": {},
     "output_type": "execute_result"
    }
   ],
   "source": [
    "aml_model_2(test_dataset[h_idx][\"input\"].unsqueeze(0).to(device))[0].item(),RUL[h_idx]"
   ]
  },
  {
   "cell_type": "code",
   "execution_count": 280,
   "id": "e85764f8",
   "metadata": {},
   "outputs": [
    {
     "data": {
      "text/plain": [
       "array([   83,   335,   581,   796,  1061,  1267,  1538,  1955,  2215,\n",
       "        2614,  3088,  3278,  3441,  3619,  3819,  4014,  4351,  4656,\n",
       "        5096,  5318,  5649,  5862,  6047,  6236,  6723,  6909,  7145,\n",
       "        7458,  7651,  7867,  8078,  8254,  8436,  8660,  9112,  9336,\n",
       "        9653,  9970, 10164, 10445, 10626, 10914, 11100, 11414, 11587,\n",
       "       11785, 11982, 12244, 12411, 12660, 12814, 12997, 13212, 13369,\n",
       "       13556, 14074, 14262, 14470, 14641, 14933, 15116, 15308, 15547,\n",
       "       15771, 15959, 16186, 16344, 16600, 16794, 16957, 17122, 17524,\n",
       "       17749, 17957, 18143, 18395, 18541, 18789, 19003, 19162, 19302,\n",
       "       19642, 19920, 20094, 20313, 20572, 20906, 21071, 21386, 21586,\n",
       "       21760, 21909, 22060, 22224, 22609, 22768, 23252, 23520, 23820,\n",
       "       23958])"
      ]
     },
     "execution_count": 280,
     "metadata": {},
     "output_type": "execute_result"
    }
   ],
   "source": [
    "same_lifetime_list=[]\n",
    "for idx in range(len(train_dataset_expend_encoded)):\n",
    "    if train_dataset_expend_encoded[idx][\"lifetime\"]==test_dataset[h_idx][\"lifetime\"]:\n",
    "        same_lifetime_list.append(idx)\n",
    "np.array(same_lifetime_list)   "
   ]
  },
  {
   "cell_type": "code",
   "execution_count": 281,
   "id": "4044571e",
   "metadata": {},
   "outputs": [],
   "source": [
    "y0 = torch.zeros(100)\n",
    "for sensor in range(100):\n",
    "    feature_train = torch.FloatTensor(train_extracted_minmax_large[same_lifetime_list])[:,sensor]\n",
    "    distance_list=torch.zeros(len(same_lifetime_list))\n",
    "    y = test_dataset[h_idx][\"input\"][sensor]\n",
    "    for i,idx in enumerate(same_lifetime_list):\n",
    "        x = train_dataset_expend_encoded[idx][\"input\"][sensor]\n",
    "        #distance = -F.pairwise_distance(x, y, p=2)\n",
    "        distance = F.pairwise_distance(x, y, p=2)\n",
    "        #distance_list.append(distance)\n",
    "        distance_list[i] = distance\n",
    "    #diag=torch.exp(distance_list)\n",
    "    diag=distance_list\n",
    "#         diag[torch.where(diag < torch.quantile(diag, 0.6, dim=0,\n",
    "#                                             keepdim=False,\n",
    "#                                            interpolation='nearest'))] = 0\n",
    "    diag_reg=diag / torch.sum(diag)\n",
    "    y0[sensor] = torch.inner(feature_train,diag_reg)"
   ]
  },
  {
   "cell_type": "code",
   "execution_count": 282,
   "id": "749b7291",
   "metadata": {},
   "outputs": [
    {
     "data": {
      "text/plain": [
       "tensor([-0.0201, -0.0640,  0.0615, -0.3585, -0.3828, -0.0188,  0.1647, -0.2367,\n",
       "         0.1105,  0.1549,  0.1823,  0.0810,  0.3176, -0.4956, -0.6453,  0.2138,\n",
       "        -0.4565,  0.2203,  0.0882,  0.1454,  0.0912,  0.1308,  0.4708,  0.4526,\n",
       "        -0.4412,  0.1986,  0.2967, -0.2666,  0.4051, -0.7785,  0.0959, -0.0189,\n",
       "        -0.3461, -1.0000, -0.6804,  0.1461,  0.4184, -1.0000, -0.1342,  0.2994,\n",
       "         0.0494, -0.3461, -0.8582, -0.5291, -0.1281,  0.2386,  0.2896, -0.1071,\n",
       "        -0.3356,  0.4243, -0.6759,  0.2387, -0.2464,  0.4334, -0.3439,  0.1849,\n",
       "        -0.3089, -0.6752,  0.1823, -0.3239,  0.2325,  0.0422,  0.1896, -0.2940,\n",
       "         0.1434, -0.0189, -0.6861, -0.1281, -0.2036, -0.2626, -0.3722, -0.6384,\n",
       "        -0.4059, -0.4618,  0.3231, -0.8641,  0.4618, -0.3743,  0.4414, -0.6817,\n",
       "         0.1701,  0.1626,  0.0659,  0.1550, -0.4843,  0.1387, -0.0195, -0.6078,\n",
       "         0.2405, -0.0283, -0.2854,  0.2620,  0.4723,  0.1740,  0.2646,  0.1021,\n",
       "         0.2460,  0.4476,  0.1543,  0.2896])"
      ]
     },
     "execution_count": 282,
     "metadata": {},
     "output_type": "execute_result"
    }
   ],
   "source": [
    "y0"
   ]
  },
  {
   "cell_type": "code",
   "execution_count": 283,
   "id": "8d2032f0",
   "metadata": {},
   "outputs": [
    {
     "data": {
      "text/plain": [
       "(91.31954193115234, 137)"
      ]
     },
     "execution_count": 283,
     "metadata": {},
     "output_type": "execute_result"
    }
   ],
   "source": [
    "aml_model_2(y0.unsqueeze(0).to(device))[0].item(),RUL[h_idx]"
   ]
  },
  {
   "cell_type": "code",
   "execution_count": 262,
   "id": "8ee6dc7c",
   "metadata": {},
   "outputs": [],
   "source": [
    "def feature_enhance3(instance_train,instance_test):\n",
    "    #instance_test_enhanced = instance_test\n",
    "    feature_enhanced_list=[]\n",
    "    for test_idx in range(len(instance_test)):\n",
    "        y = instance_test[test_idx][\"input\"]\n",
    "        if instance_test[test_idx][\"lifetime\"]<100:\n",
    "            same_lifetime_list=[]\n",
    "            for idx in range(len(instance_train)):\n",
    "                if instance_train[idx][\"lifetime\"]==instance_test[test_idx][\"lifetime\"]:\n",
    "                    same_lifetime_list.append(idx)\n",
    "            distance_list=torch.zeros(len(same_lifetime_list))\n",
    "\n",
    "            for i,train_idx in enumerate(same_lifetime_list):\n",
    "                x = instance_train[train_idx][\"input\"]\n",
    "                distance = -F.pairwise_distance(x, y, p=2)\n",
    "                distance_list[i] = distance\n",
    "            diag=torch.exp(distance_list).unsqueeze(-1)\n",
    "            diag[torch.where(diag < torch.quantile(diag, 0.5, dim=0,\n",
    "                                    keepdim=False,\n",
    "                                   interpolation='nearest'))] = 0\n",
    "            diag_reg=diag / torch.sum(diag)\n",
    "            feature_enhanced_list.append(torch.sum(instance_train.all_feature_list[same_lifetime_list]*diag_reg,\n",
    "                                                   dim=0))\n",
    "        \n",
    "#         diag[torch.where(diag < torch.quantile(diag, 0.5, dim=0,\n",
    "#                                             keepdim=False,\n",
    "#                                            interpolation='nearest'))] = 0\n",
    "#         diag_reg=diag / torch.sum(diag)\n",
    "        #instance_test_enhanced[test_idx][\"input\"] = torch.sum(instance_train.all_feature_list*diag_reg,dim=0)\n",
    "\n",
    "        else:\n",
    "            feature_enhanced_list.append(y)\n",
    "    return feature_enhanced_list     "
   ]
  },
  {
   "cell_type": "code",
   "execution_count": null,
   "id": "433deea7",
   "metadata": {},
   "outputs": [],
   "source": []
  }
 ],
 "metadata": {
  "kernelspec": {
   "display_name": "Python 3",
   "language": "python",
   "name": "python3"
  },
  "language_info": {
   "codemirror_mode": {
    "name": "ipython",
    "version": 3
   },
   "file_extension": ".py",
   "mimetype": "text/x-python",
   "name": "python",
   "nbconvert_exporter": "python",
   "pygments_lexer": "ipython3",
   "version": "3.8.8"
  }
 },
 "nbformat": 4,
 "nbformat_minor": 5
}
