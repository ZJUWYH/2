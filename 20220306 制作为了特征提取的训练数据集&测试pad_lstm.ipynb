{
 "cells": [
  {
   "cell_type": "code",
   "execution_count": 1,
   "id": "513c4837",
   "metadata": {},
   "outputs": [
    {
     "name": "stderr",
     "output_type": "stream",
     "text": [
      "C:\\Users\\Administrator\\Documents\\yh.wang\\2\\diwang_feature_exrtaction.py:194: RuntimeWarning: invalid value encountered in true_divide\n",
      "  W = Weight / np.tile(reshape(sum(Weight, 2), (Num, TestData.shape[1] - 1, 1)), (1, 1, Nu))\n"
     ]
    }
   ],
   "source": [
    "from diwang_feature_exrtaction import *"
   ]
  },
  {
   "cell_type": "code",
   "execution_count": null,
   "id": "51947303",
   "metadata": {},
   "outputs": [],
   "source": [
    "# 目标是输入序列，之后补0"
   ]
  },
  {
   "cell_type": "code",
   "execution_count": 10,
   "id": "ee0c6b82",
   "metadata": {},
   "outputs": [],
   "source": [
    "import pandas as pd\n",
    "from torch.utils.data import Dataset\n",
    "import torch\n",
    "import numpy as np"
   ]
  },
  {
   "cell_type": "code",
   "execution_count": 90,
   "id": "c3153463",
   "metadata": {},
   "outputs": [],
   "source": [
    "import torch.nn as nn"
   ]
  },
  {
   "cell_type": "code",
   "execution_count": 3,
   "id": "bdd82137",
   "metadata": {},
   "outputs": [],
   "source": [
    "DATA_PATH =\"./Data_FD003/preprocessed data/\"\n",
    "attribute = ['Unit','T24', 'T30', 'T50', 'P30', 'Nf', 'Nc', 'Ps30',\n",
    "                  'phi', 'NRf', 'NRc', 'BPR', 'htBleed', 'W31', 'W32']\n",
    "df_train = pd.read_csv(DATA_PATH + 'TD_data.csv',names=attribute, header=None)"
   ]
  },
  {
   "cell_type": "code",
   "execution_count": 80,
   "id": "901bbbb0",
   "metadata": {},
   "outputs": [],
   "source": [
    "class AircraftDataset_expend(AircraftDataset):  # 截断原有的数据集，获得海量的数据\n",
    "    def __init__(self, df, add_zero):\n",
    "        super().__init__(df)\n",
    "        self.add_zero = add_zero\n",
    "        self.cut_data()\n",
    "\n",
    "    def cut_data(self):\n",
    "        lenth=super().__len__()\n",
    "        input_signal=[]\n",
    "        RUL=[]\n",
    "        for unit in range(lenth):\n",
    "            unit_input=super().__getitem__(unit)[\"input\"]\n",
    "            unit_life=super().__getitem__(unit)[\"lifetime\"]\n",
    "            if self.add_zero:\n",
    "                for time in range(3,unit_life):\n",
    "                    input_tensor = torch.zeros(525, 14, dtype=torch.float)\n",
    "                    input_tensor[0:time] = unit_input[0:time]\n",
    "                    unit_RUL=unit_life-time\n",
    "                    input_signal.append(input_tensor)\n",
    "                    RUL.append(unit_RUL)\n",
    "            else:\n",
    "                for time in range(3,unit_life):\n",
    "                    input_tensor = unit_input[0:time]\n",
    "                    unit_RUL=unit_life-time\n",
    "                    input_signal.append(input_tensor)\n",
    "                    RUL.append(unit_RUL)\n",
    "\n",
    "        self.RUL=np.array(RUL)\n",
    "        self.input_signal=input_signal\n",
    "\n",
    "    def __len__(self):\n",
    "        return len(self.RUL)\n",
    "\n",
    "    def __getitem__(self, idx):\n",
    "        data = {\n",
    "            \"input\": self.input_signal[idx],\n",
    "            \"RUL\": torch.tensor(self.RUL[idx],dtype=torch.int64)\n",
    "        }\n",
    "\n",
    "        return data"
   ]
  },
  {
   "cell_type": "code",
   "execution_count": 86,
   "id": "5fc90085",
   "metadata": {},
   "outputs": [],
   "source": [
    "train_data_expend=AircraftDataset_expend(df_train,False)"
   ]
  },
  {
   "cell_type": "code",
   "execution_count": 89,
   "id": "fcf08551",
   "metadata": {},
   "outputs": [
    {
     "data": {
      "text/plain": [
       "{'input': tensor([[ 9.3613e-01,  3.0634e-01,  2.9954e-01, -7.9379e-01, -5.8098e-01,\n",
       "           1.4285e-01,  5.1867e-01, -2.2405e-01,  1.6889e-01,  2.1825e-01,\n",
       "           1.1385e+00,  4.3863e-01,  3.6442e-01, -8.4621e-01],\n",
       "         [ 1.0359e+00,  4.5287e-01,  3.0333e-01, -4.4278e-01, -2.0905e-01,\n",
       "           1.2649e-01,  3.6916e-01, -9.8438e-02,  2.7012e-01,  5.2459e-01,\n",
       "           1.2638e+00,  7.5099e-01, -3.0534e-01, -3.6485e-01],\n",
       "         [ 7.9116e-01,  2.0638e-01,  8.0941e-01, -5.2620e-01,  3.5150e-04,\n",
       "           4.3203e-01,  3.4586e-01, -4.8677e-01,  1.1415e-01,  4.2597e-01,\n",
       "           7.9141e-01,  4.3863e-01, -7.5612e-01, -7.9190e-01]]),\n",
       " 'RUL': tensor(256)}"
      ]
     },
     "execution_count": 89,
     "metadata": {},
     "output_type": "execute_result"
    }
   ],
   "source": [
    "train_data_expend[0]"
   ]
  },
  {
   "cell_type": "markdown",
   "id": "fa5cb5b5",
   "metadata": {},
   "source": [
    "# 测试pad_GRU"
   ]
  },
  {
   "cell_type": "code",
   "execution_count": 104,
   "id": "719b86a6",
   "metadata": {},
   "outputs": [],
   "source": [
    "class AircraftDataset_expend_norul(AircraftDataset_expend):\n",
    "    def __init__(self, df):\n",
    "        super().__init__(df,add_zero=False)\n",
    "    def __getitem__(self, idx):\n",
    "\n",
    "        return self.input_signal[idx]"
   ]
  },
  {
   "cell_type": "code",
   "execution_count": 91,
   "id": "846d0670",
   "metadata": {},
   "outputs": [],
   "source": [
    "from torch.utils.data import Dataset, DataLoader\n",
    "from torch.nn.utils.rnn import pad_sequence,pack_padded_sequence,pack_sequence,pad_packed_sequence"
   ]
  },
  {
   "cell_type": "code",
   "execution_count": 105,
   "id": "c0a07e63",
   "metadata": {},
   "outputs": [],
   "source": [
    "def collate_fn(data):\n",
    "    data.sort(key=lambda x: len(x), reverse=True)\n",
    "    data= pack_sequence(data)\n",
    "    return data"
   ]
  },
  {
   "cell_type": "code",
   "execution_count": 106,
   "id": "c0bdee62",
   "metadata": {},
   "outputs": [],
   "source": [
    "train_data_expend_norul=AircraftDataset_expend_norul(df_train)"
   ]
  },
  {
   "cell_type": "code",
   "execution_count": 107,
   "id": "10d392e3",
   "metadata": {},
   "outputs": [],
   "source": [
    "train_data_expend_loader = DataLoader(train_data_expend_norul, \n",
    "                                      batch_size=512, \n",
    "                                      shuffle=True,\n",
    "                                      drop_last=True,\n",
    "                                      collate_fn=collate_fn)"
   ]
  },
  {
   "cell_type": "code",
   "execution_count": 130,
   "id": "83571011",
   "metadata": {},
   "outputs": [],
   "source": [
    "class CFG:\n",
    "    seed=42\n",
    "    input_dim=3\n",
    "    input_feature=18\n",
    "    num_workers=2\n",
    "    hidden_size=64\n",
    "    batch_size=2048\n",
    "    num_classes=1\n",
    "    device = 'cuda' if torch.cuda.is_available() else 'cpu'\n",
    "    optimizer=\"Adam\"\n",
    "    scheduler=\"ExponentialLR\"\n",
    "    lr= 1e-1\n",
    "    epoches=10000\n",
    "    kernel=True\n",
    "    print_training_process=True\n",
    "    sc_Gamma=0.999#指数型学习率衰减曲线\n",
    "    decay = 1e-5\n",
    "    num_in_feature_classes = 3\n",
    "    warmup_prop=0.1\n",
    "    jump_out_value=64\n",
    "\n",
    "    ## autoencoder\n",
    "    ae_batch_size=512\n",
    "    ae_input_layer=14\n",
    "    ae_hidden_layer=16"
   ]
  },
  {
   "cell_type": "code",
   "execution_count": 153,
   "id": "5eae999c",
   "metadata": {},
   "outputs": [],
   "source": [
    "class GRUAutoEncoder(nn.Module):\n",
    "    def __init__(self):\n",
    "        super().__init__()\n",
    "        self.input_layer=CFG.ae_input_layer\n",
    "        self.hidden_layer=CFG.ae_hidden_layer\n",
    "        self.encoder_GRU = nn.GRU(self.input_layer, self.hidden_layer, batch_first=True)\n",
    "        self.decoder_GRU = nn.GRU(self.hidden_layer, self.input_layer, batch_first=True)\n",
    "        \n",
    "    def forward(self, x):\n",
    "        x,h0 = self.encoder_GRU(x,\n",
    "                                torch.zeros(1, CFG.ae_batch_size, CFG.ae_hidden_layer).to(CFG.device))\n",
    "        decoded_output, hidden = self.decoder_GRU(x, \n",
    "                                           torch.zeros(1,CFG.ae_batch_size,CFG.ae_input_layer).to(CFG.device))\n",
    "        return decoded_output,h0\n"
   ]
  },
  {
   "cell_type": "code",
   "execution_count": 154,
   "id": "a4eea8a5",
   "metadata": {},
   "outputs": [],
   "source": [
    "aemodel=GRUAutoEncoder().to(CFG.device)"
   ]
  },
  {
   "cell_type": "code",
   "execution_count": 155,
   "id": "ede839ae",
   "metadata": {},
   "outputs": [],
   "source": [
    "loss_func = nn.MSELoss()"
   ]
  },
  {
   "cell_type": "code",
   "execution_count": 156,
   "id": "af391058",
   "metadata": {},
   "outputs": [
    {
     "data": {
      "text/plain": [
       "(PackedSequence(data=tensor([[-0.0090, -0.0741, -0.0595,  ..., -0.0164,  0.2473,  0.0415],\n",
       "         [-0.0090, -0.0741, -0.0595,  ..., -0.0164,  0.2473,  0.0415],\n",
       "         [-0.0653, -0.0968,  0.0393,  ...,  0.0016,  0.0835,  0.0666],\n",
       "         ...,\n",
       "         [ 0.1249, -0.3134, -0.6346,  ..., -0.4069,  0.7393, -0.0185],\n",
       "         [ 0.1441, -0.3109, -0.6428,  ..., -0.4095,  0.7379, -0.0150],\n",
       "         [ 0.1547, -0.3090, -0.6472,  ..., -0.4071,  0.7427, -0.0157]],\n",
       "        device='cuda:0', grad_fn=<CudnnRnnBackward0>), batch_sizes=tensor([512, 512, 512, 508, 502, 499, 497, 495, 493, 492, 490, 487, 482, 480,\n",
       "         477, 476, 474, 471, 468, 468, 464, 462, 459, 458, 456, 455, 453, 452,\n",
       "         447, 446, 445, 444, 440, 436, 433, 430, 428, 426, 422, 419, 416, 412,\n",
       "         410, 407, 404, 401, 399, 397, 393, 392, 388, 385, 384, 382, 381, 381,\n",
       "         378, 376, 374, 374, 373, 372, 370, 369, 367, 365, 363, 361, 359, 357,\n",
       "         352, 348, 343, 341, 339, 336, 334, 329, 326, 326, 325, 324, 322, 320,\n",
       "         317, 316, 314, 312, 310, 309, 308, 306, 305, 302, 299, 298, 296, 294,\n",
       "         290, 290, 284, 282, 281, 281, 279, 277, 274, 272, 269, 269, 267, 266,\n",
       "         265, 262, 260, 256, 254, 254, 252, 251, 248, 245, 241, 237, 234, 231,\n",
       "         228, 227, 225, 223, 221, 218, 214, 210, 206, 203, 199, 199, 197, 195,\n",
       "         191, 191, 191, 187, 185, 184, 183, 183, 183, 182, 179, 179, 177, 174,\n",
       "         171, 169, 167, 165, 164, 161, 159, 156, 155, 154, 153, 152, 150, 150,\n",
       "         149, 149, 147, 144, 143, 142, 140, 137, 135, 131, 130, 130, 128, 127,\n",
       "         125, 123, 122, 121, 121, 119, 119, 118, 118, 115, 114, 110, 110, 110,\n",
       "         109, 107, 105, 100, 100,  98,  97,  97,  96,  96,  93,  93,  92,  92,\n",
       "          92,  91,  91,  91,  90,  88,  87,  84,  83,  82,  79,  78,  76,  76,\n",
       "          76,  74,  73,  72,  70,  70,  67,  67,  67,  65,  63,  63,  62,  62,\n",
       "          62,  58,  56,  56,  56,  55,  54,  54,  54,  54,  54,  53,  53,  52,\n",
       "          51,  51,  49,  49,  45,  44,  43,  42,  42,  41,  40,  40,  40,  40,\n",
       "          40,  40,  39,  39,  39,  39,  39,  39,  38,  36,  36,  36,  36,  35,\n",
       "          34,  34,  34,  34,  34,  34,  34,  33,  32,  32,  32,  31,  31,  31,\n",
       "          31,  30,  29,  29,  29,  29,  28,  28,  27,  27,  27,  27,  27,  26,\n",
       "          26,  26,  26,  25,  24,  24,  24,  24,  24,  24,  24,  24,  23,  23,\n",
       "          23,  23,  23,  23,  23,  23,  23,  23,  22,  21,  21,  21,  21,  21,\n",
       "          20,  19,  19,  19,  19,  19,  19,  19,  19,  19,  18,  17,  17,  17,\n",
       "          17,  17,  17,  17,  17,  17,  17,  17,  17,  16,  16,  15,  15,  14,\n",
       "          14,  14,  14,  13,  13,  13,  12,  12,  12,  11,  11,  11,  11,  11,\n",
       "          11,  11,  11,  11,  11,  11,  11,  10,  10,  10,   9,   9,   9,   9,\n",
       "           9,   9,   9,   9,   9,   9,   9,   7,   7,   7,   6,   6,   6,   6,\n",
       "           6,   6,   6,   6,   6,   6,   6,   6,   6,   6,   6,   6,   6,   6,\n",
       "           6,   6,   6,   6,   6,   6,   6,   6,   6,   6,   6,   6,   6,   6,\n",
       "           6,   6,   6,   6,   6,   6,   6,   6,   6,   6,   6,   6,   6,   6,\n",
       "           6,   6,   6,   6,   6,   6,   5,   5,   5,   5,   5,   5,   4,   4,\n",
       "           4,   4,   4,   4,   4,   3,   3,   3,   3,   3,   3,   2,   2,   2,\n",
       "           2,   2,   2,   2,   2,   2,   2,   1,   1,   1,   1,   1,   1,   1,\n",
       "           1,   1,   1,   1,   1,   1,   1,   1,   1,   1,   1,   1,   1,   1,\n",
       "           1,   1,   1,   1,   1,   1,   1,   1,   1,   1,   1,   1,   1]), sorted_indices=None, unsorted_indices=None),\n",
       " tensor([[[ 0.6571,  0.7554,  0.8144,  ...,  0.7762,  0.8350,  0.1385],\n",
       "          [ 0.5951,  0.7097,  0.7815,  ...,  0.7626,  0.7979,  0.1537],\n",
       "          [ 0.4592,  0.5902,  0.7341,  ...,  0.6406,  0.6686,  0.1249],\n",
       "          ...,\n",
       "          [-0.3584,  0.1557, -0.4135,  ..., -0.1827, -0.6821,  0.3098],\n",
       "          [ 0.0850,  0.0135,  0.2335,  ...,  0.1210, -0.2346, -0.1943],\n",
       "          [ 0.1731,  0.1426, -0.3320,  ..., -0.0217, -0.4466, -0.0683]]],\n",
       "        device='cuda:0', grad_fn=<CudnnRnnBackward0>))"
      ]
     },
     "execution_count": 156,
     "metadata": {},
     "output_type": "execute_result"
    }
   ],
   "source": [
    "aemodel(data.to(CFG.device))"
   ]
  },
  {
   "cell_type": "code",
   "execution_count": 128,
   "id": "2d9724e7",
   "metadata": {},
   "outputs": [
    {
     "data": {
      "text/plain": [
       "torch.Size([1, 512, 10])"
      ]
     },
     "execution_count": 128,
     "metadata": {},
     "output_type": "execute_result"
    }
   ],
   "source": [
    "gru(data,torch.zeros(1, 512, 10))[1].shape"
   ]
  },
  {
   "cell_type": "code",
   "execution_count": 125,
   "id": "86f491db",
   "metadata": {},
   "outputs": [
    {
     "data": {
      "text/plain": [
       "tensor([[1.4013e-45, 0.0000e+00]])"
      ]
     },
     "execution_count": 125,
     "metadata": {},
     "output_type": "execute_result"
    }
   ],
   "source": [
    "torch.FloatTensor(1,2)"
   ]
  },
  {
   "cell_type": "code",
   "execution_count": null,
   "id": "923798c6",
   "metadata": {},
   "outputs": [],
   "source": []
  }
 ],
 "metadata": {
  "kernelspec": {
   "display_name": "Python 3",
   "language": "python",
   "name": "python3"
  },
  "language_info": {
   "codemirror_mode": {
    "name": "ipython",
    "version": 3
   },
   "file_extension": ".py",
   "mimetype": "text/x-python",
   "name": "python",
   "nbconvert_exporter": "python",
   "pygments_lexer": "ipython3",
   "version": "3.8.8"
  }
 },
 "nbformat": 4,
 "nbformat_minor": 5
}
