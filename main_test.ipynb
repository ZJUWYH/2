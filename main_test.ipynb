{
 "cells": [
  {
   "cell_type": "code",
   "execution_count": 2,
   "id": "0533579a",
   "metadata": {},
   "outputs": [
    {
     "name": "stderr",
     "output_type": "stream",
     "text": [
      "C:\\Users\\Administrator\\Documents\\yh.wang\\2\\diwang_feature_exrtaction.py:194: RuntimeWarning: invalid value encountered in true_divide\n",
      "  W = Weight / np.tile(reshape(sum(Weight, 2), (Num, TestData.shape[1] - 1, 1)), (1, 1, Nu))\n"
     ]
    }
   ],
   "source": [
    "from utilities import *\n",
    "from config import *\n",
    "from diwang_feature_exrtaction import *\n",
    "from data_preparing import *\n",
    "from DNN_model import *\n",
    "from main import *\n",
    "\n",
    "\n"
   ]
  },
  {
   "cell_type": "code",
   "execution_count": 10,
   "id": "8dde017e",
   "metadata": {},
   "outputs": [
    {
     "name": "stdout",
     "output_type": "stream",
     "text": [
      "[ 48.33843994  53.84994125  37.98974228 124.81942749 197.37005615\n",
      " 121.77713776  47.58398819  45.59378433   0.           0.        ]\n"
     ]
    }
   ],
   "source": [
    "pred_in_RUL = np.zeros(n_in_units, dtype=float)\n",
    "for idx, test_data in enumerate(test_loader):\n",
    "    n_in_units = len(test_loader)\n",
    "    if idx==8: break\n",
    "    path = \".\\\\model_checkpoints\" + f\"\\\\model_in_unit_{idx}.pt\"\n",
    "    model.load_state_dict(torch.load(path))\n",
    "    pred_in_RUL[idx] = model(test_data[\"input\"].to(device)).item()\n",
    "\n",
    "print(pred_in_RUL)"
   ]
  },
  {
   "cell_type": "code",
   "execution_count": 11,
   "id": "59dfec67",
   "metadata": {},
   "outputs": [
    {
     "data": {
      "text/plain": [
       "array([ 44,  51,  27, 120, 101,  99,  71,  55,  55,  66,  77, 115, 115,\n",
       "        31, 108,  56, 136, 132,  85,  56,  18, 119,  78,   9,  58,  11,\n",
       "        88, 144, 124,  89,  79,  55,  71,  65,  87, 137, 145,  22,   8,\n",
       "        41, 131, 115, 128,  69, 111,   7, 137,  55, 135,  11,  78, 120,\n",
       "        87,  87,  55,  93,  88,  40,  49, 128, 129,  58, 117,  28, 115,\n",
       "        87,  92, 103, 100,  63,  35,  45,  99, 117,  45,  27,  86,  20,\n",
       "        18,  15,   6, 145, 104,  56,  25,  68, 144,  41,  51,  81,  14,\n",
       "        67,  10, 127, 123,  17,   8,  28], dtype=int64)"
      ]
     },
     "execution_count": 11,
     "metadata": {},
     "output_type": "execute_result"
    }
   ],
   "source": [
    "RUL_delete"
   ]
  },
  {
   "cell_type": "code",
   "execution_count": null,
   "id": "6231ce1f",
   "metadata": {},
   "outputs": [],
   "source": []
  },
  {
   "cell_type": "code",
   "execution_count": null,
   "id": "69c294ba",
   "metadata": {},
   "outputs": [],
   "source": []
  }
 ],
 "metadata": {
  "kernelspec": {
   "display_name": "Python 3",
   "language": "python",
   "name": "python3"
  },
  "language_info": {
   "codemirror_mode": {
    "name": "ipython",
    "version": 3
   },
   "file_extension": ".py",
   "mimetype": "text/x-python",
   "name": "python",
   "nbconvert_exporter": "python",
   "pygments_lexer": "ipython3",
   "version": "3.8.8"
  }
 },
 "nbformat": 4,
 "nbformat_minor": 5
}
