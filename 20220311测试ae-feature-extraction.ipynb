{
 "cells": [
  {
   "cell_type": "code",
   "execution_count": 1,
   "id": "6407f648",
   "metadata": {},
   "outputs": [],
   "source": [
    "from ae_feature_extraction import *"
   ]
  },
  {
   "cell_type": "code",
   "execution_count": 3,
   "id": "cca0d6c7",
   "metadata": {},
   "outputs": [
    {
     "name": "stdout",
     "output_type": "stream",
     "text": [
      "\n",
      " -> Saving weights to ./model_checkpoints_ae/ae\\model_ae.pt\n",
      "\n"
     ]
    }
   ],
   "source": [
    "train_ae(train_data_expend_loader, RESUME=True)"
   ]
  },
  {
   "cell_type": "code",
   "execution_count": 4,
   "id": "8c39a89c",
   "metadata": {},
   "outputs": [
    {
     "data": {
      "text/plain": [
       "<All keys matched successfully>"
      ]
     },
     "execution_count": 4,
     "metadata": {},
     "output_type": "execute_result"
    }
   ],
   "source": [
    "aemodel.load_state_dict(torch.load(\"./model_checkpoints_ae/ae/model_ae.pt\", map_location=\"cpu\"))"
   ]
  },
  {
   "cell_type": "code",
   "execution_count": 5,
   "id": "23697e4c",
   "metadata": {},
   "outputs": [],
   "source": [
    "for train_data in train_data_expend_loader:\n",
    "    None"
   ]
  },
  {
   "cell_type": "code",
   "execution_count": 6,
   "id": "a8299844",
   "metadata": {},
   "outputs": [
    {
     "data": {
      "text/plain": [
       "LSTMAutoEncoder(\n",
       "  (encoder1): LSTM(6, 8, batch_first=True)\n",
       "  (encoder2): LSTM(8, 16, batch_first=True)\n",
       "  (decoder1): LSTM(16, 8, batch_first=True)\n",
       "  (decoder2): LSTM(8, 6, batch_first=True)\n",
       "  (logits): Sequential(\n",
       "    (0): Linear(in_features=16, out_features=8, bias=True)\n",
       "    (1): ReLU()\n",
       "    (2): Linear(in_features=8, out_features=2, bias=True)\n",
       "    (3): LogSoftmax(dim=-1)\n",
       "  )\n",
       ")"
      ]
     },
     "execution_count": 6,
     "metadata": {},
     "output_type": "execute_result"
    }
   ],
   "source": [
    "aemodel.cpu()"
   ]
  },
  {
   "cell_type": "code",
   "execution_count": 7,
   "id": "64cad06a",
   "metadata": {},
   "outputs": [],
   "source": [
    "class_true=train_data[\"mode\"]\n",
    "class_pred=aemodel(train_data[\"input\"])[1].squeeze(0)"
   ]
  },
  {
   "cell_type": "code",
   "execution_count": 9,
   "id": "f219c746",
   "metadata": {},
   "outputs": [
    {
     "data": {
      "text/plain": [
       "(tensor([[1., 0.],\n",
       "         [1., 0.],\n",
       "         [1., 0.],\n",
       "         [1., 0.],\n",
       "         [0., 1.],\n",
       "         [1., 0.],\n",
       "         [0., 1.],\n",
       "         [1., 0.],\n",
       "         [1., 0.],\n",
       "         [1., 0.]]),\n",
       " tensor([[1.0000e+00, 2.4503e-06],\n",
       "         [9.9996e-01, 4.1371e-05],\n",
       "         [1.0000e+00, 1.0026e-06],\n",
       "         [1.0000e+00, 1.8946e-06],\n",
       "         [3.3769e-05, 9.9997e-01],\n",
       "         [9.9990e-01, 9.9807e-05],\n",
       "         [1.5994e-04, 9.9984e-01],\n",
       "         [9.9999e-01, 8.3874e-06],\n",
       "         [1.0000e+00, 3.0468e-06],\n",
       "         [1.0000e+00, 2.7729e-06]], grad_fn=<ExpBackward0>))"
      ]
     },
     "execution_count": 9,
     "metadata": {},
     "output_type": "execute_result"
    }
   ],
   "source": [
    "class_true[0:10],torch.exp(class_pred[0:10])"
   ]
  },
  {
   "cell_type": "code",
   "execution_count": 12,
   "id": "d6cc6824",
   "metadata": {},
   "outputs": [],
   "source": [
    "def encode_feature_extraction(instance):\n",
    "    \"\"\"\n",
    "    instance is a 类的实例，含有原有的时间序列数据\n",
    "    return the extracted feature as a list n*num_feature\n",
    "    \"\"\"\n",
    "    aemodel_encode = LSTMAutoEncoder()\n",
    "    aemodel_encode.load_state_dict(torch.load(\"./model_checkpoints_ae/ae/model_ae.pt\", map_location=\"cpu\"))\n",
    "    all_features_list = []\n",
    "    for idx in range(len(instance)):\n",
    "        with torch.no_grad():\n",
    "            ae_result = aemodel_encode.encoder1(instance[idx][\"input\"].unsqueeze(0))[0]#.squeeze(0)\n",
    "            ae_result=aemodel_encode.encoder2(ae_result)[0].squeeze(0)\n",
    "        all_features_list.append(ae_result)\n",
    "    return all_features_list"
   ]
  },
  {
   "cell_type": "code",
   "execution_count": 14,
   "id": "ca2e6e03",
   "metadata": {},
   "outputs": [],
   "source": [
    "feature_list_expend = feature_preprocess(encode_feature_extraction(train_dataset_expend))"
   ]
  },
  {
   "cell_type": "code",
   "execution_count": 16,
   "id": "736d9049",
   "metadata": {},
   "outputs": [
    {
     "data": {
      "text/plain": [
       "torch.Size([24420, 16])"
      ]
     },
     "execution_count": 16,
     "metadata": {},
     "output_type": "execute_result"
    }
   ],
   "source": [
    "feature_list_expend.shape"
   ]
  },
  {
   "cell_type": "code",
   "execution_count": null,
   "id": "18ab4038",
   "metadata": {},
   "outputs": [],
   "source": []
  }
 ],
 "metadata": {
  "kernelspec": {
   "display_name": "Python 3",
   "language": "python",
   "name": "python3"
  },
  "language_info": {
   "codemirror_mode": {
    "name": "ipython",
    "version": 3
   },
   "file_extension": ".py",
   "mimetype": "text/x-python",
   "name": "python",
   "nbconvert_exporter": "python",
   "pygments_lexer": "ipython3",
   "version": "3.8.8"
  }
 },
 "nbformat": 4,
 "nbformat_minor": 5
}
