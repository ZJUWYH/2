{
 "cells": [
  {
   "cell_type": "code",
   "execution_count": 1,
   "id": "815fbe0e",
   "metadata": {},
   "outputs": [],
   "source": [
    "from utilities import *\n",
    "from config import *\n",
    "from data_preparing import *\n",
    "from DNN_model import *\n",
    "#import tsfresh\n",
    "from tsfresh.feature_extraction import MinimalFCParameters,EfficientFCParameters\n",
    "from tsfresh import feature_extraction\n",
    "from tsfresh import extract_features\n",
    "from tsfresh import extract_features, select_features\n",
    "from tsfresh.utilities.dataframe_functions import impute\n",
    "from sklearn.decomposition import PCA\n",
    "import tsfresh\n",
    "from tsfresh import feature_selection\n",
    "from tsfresh import extract_features, select_features"
   ]
  },
  {
   "cell_type": "code",
   "execution_count": 2,
   "id": "aae9bfa9",
   "metadata": {},
   "outputs": [],
   "source": [
    "set_seed(612)\n",
    "device=CFG.device\n",
    "CFG.epoches=350"
   ]
  },
  {
   "cell_type": "code",
   "execution_count": 3,
   "id": "896fb313",
   "metadata": {},
   "outputs": [],
   "source": [
    "attribute = ['Unit','Time','T24','T30','T50','P30','Nc','Ps30','phi','BPR']\n",
    "df_train = pd.read_csv('./Dataset 4/preprocessed data/train_data.csv',\n",
    "                      names = attribute, header = None) \n",
    "df_test = pd.read_csv('./Dataset 4/preprocessed data/test_data.csv',\n",
    "                      names = attribute, header = None) \n",
    "\n",
    "train_label=pd.read_csv('./Dataset 4/preprocessed data/train_label.csv', header=None).values\n",
    "test_label=pd.read_csv('./Dataset 4/preprocessed data/test_label.csv', header=None).values\n",
    "\n",
    "train_dataset=AircraftDataset(df_train,train_label,attribute[2:]) # 不插0计算创建dataset的子类\n",
    "test_dataset = AircraftDataset(df_test,test_label,attribute[2:])\n",
    "\n",
    "train_dataset_expend=AircraftDataset_expend(df_train,train_label,\n",
    "                                            False,attribute[2:]) # 构建切割后的训练集\n",
    "\n",
    "# 原始RUL & mode\n",
    "RUL = pd.read_csv('./Dataset 4/preprocessed data/RUL.csv',\n",
    "                      names = None, header = None).values.reshape(-1)\n",
    "\n",
    "lifetime_list=[]\n",
    "for i in range(len(test_dataset)):\n",
    "    lifetime=test_dataset[i][\"lifetime\"].item()\n",
    "    lifetime_list.append(lifetime)\n",
    "lifetime_list=np.array(lifetime_list)"
   ]
  },
  {
   "cell_type": "code",
   "execution_count": 4,
   "id": "9d542c0d",
   "metadata": {},
   "outputs": [],
   "source": [
    "set_seed(612)\n",
    "device=CFG.device\n",
    "CFG.epoches=350\n",
    "train_extracted_minmax_large=np.load(\"./train004/numpy/train_extracted_minmax_train_0419.npy\")\n",
    "test_extracted_minmax_large=np.load(\"./train004/numpy/test_extracted_minmax_train_0419.npy\")\n",
    "longlist=np.concatenate((train_extracted_minmax_large,test_extracted_minmax_large),axis=\\\n",
    "                        0)[:,np.random.permutation(100)]\n",
    "train_extracted_minmax_large,test_extracted_minmax_large=np.vsplit(longlist,np.array([48799]))\n",
    "train_dataset_expend_encoded = AircraftDataset_expend_feature_extraction(df_train, \n",
    "                                                                         train_label, \n",
    "                                                                         torch.FloatTensor(train_extracted_minmax_large),False,\n",
    "                                                                        attribute[2:])\n",
    "train_encoded_loader = DataLoader(\n",
    "    train_dataset_expend_encoded,\n",
    "    batch_size=CFG.batch_size,\n",
    "    shuffle=True,\n",
    "    drop_last=True,\n",
    ")\n",
    "test_dataset = AircraftDataset_no_expend_feature_extraction(df_test, test_label, \n",
    "                                                            torch.FloatTensor(test_extracted_minmax_large),attribute[2:])\n",
    "test_encoded_loader = DataLoader(\n",
    "    test_dataset,\n",
    "    batch_size=1,\n",
    "    shuffle=False)\n",
    "for train_data in train_encoded_loader:None\n",
    "for test_data in test_encoded_loader:None"
   ]
  },
  {
   "cell_type": "markdown",
   "id": "406a6937",
   "metadata": {},
   "source": [
    "# no cls"
   ]
  },
  {
   "cell_type": "code",
   "execution_count": 5,
   "id": "0b8a22b2",
   "metadata": {},
   "outputs": [],
   "source": [
    "def fit_his_unit(train_loader,path, RESUME=False, shared=True, attention=True, expand=True):\n",
    "    model=AML_model(100,100,100,128,2,25,shared=shared,attention=attention,expand = expand).to(device)\n",
    "    #model=AML_model(99,99,99).to(device)\n",
    "    optimizer = getattr(torch.optim, CFG.optimizer)(model.parameters(), lr=CFG.lr)  # 优化器\n",
    "    scheduler = getattr(torch.optim.lr_scheduler, CFG.scheduler)(optimizer, gamma=CFG.sc_Gamma)  # 指数型学习率\n",
    "    start_epoch=-1\n",
    "    if RESUME:\n",
    "        path_checkpoint = path+'/ckpt.pth'   # 断点路径\n",
    "        checkpoint = torch.load(path_checkpoint)  # 加载断点\n",
    "\n",
    "        model.load_state_dict(checkpoint['net'])  # 加载模型可学习参数\n",
    "\n",
    "        optimizer.load_state_dict(checkpoint['optimizer'])  # 加载优化器参数\n",
    "        start_epoch = checkpoint['epoch']  # 设置开始的epoch\n",
    "        scheduler.load_state_dict(checkpoint['scheduler'])\n",
    "\n",
    "\n",
    "    for epoch in range(start_epoch+1,CFG.epoches):\n",
    "        for data in train_loader:\n",
    "            if attention:\n",
    "                pred_batch = model(data[\"input\"].to(device))[0]\n",
    "            elif not attention:\n",
    "                pred_batch = model(data[\"input\"].to(device))\n",
    "            target_batch = data[\"RUL\"].unsqueeze(-1).to(device)\n",
    "            loss = F.mse_loss(pred_batch, target_batch.float())\n",
    "        # loss = loss_function(pred_batch, target_batch, train_data, test_data)\n",
    "            optimizer.zero_grad()\n",
    "            loss.backward()\n",
    "            optimizer.step()\n",
    "            scheduler.step()\n",
    "        # scheduler.step(loss,last_loss)\n",
    "        # last_loss = loss\n",
    "        if CFG.print_training_process and epoch % 100 == 0:\n",
    "            print(f\"epoch:{epoch}, loss:{loss.item()},lr:{optimizer.state_dict()['param_groups'][0]['lr']}\")\n",
    "            checkpoint = {\n",
    "                \"net\": model.state_dict(),\n",
    "                'optimizer': optimizer.state_dict(),\n",
    "                \"epoch\": epoch,\n",
    "                'scheduler': scheduler.state_dict()\n",
    "            }\n",
    "            if not os.path.isdir(path):\n",
    "                os.mkdir(path)\n",
    "            torch.save(checkpoint,\n",
    "                       path+'/ckpt.pth')\n",
    "        if loss.mean() < 64:\n",
    "            save_model_weights(model, \"model_his.pt\",\n",
    "                               cp_folder=path)\n",
    "            break\n",
    "        elif epoch == (CFG.epoches - 1):\n",
    "            print(f\"epoch:{epoch}, loss:{loss.item()}\")\n",
    "            save_model_weights(model, \"model_his.pt\",\n",
    "                               cp_folder=path)"
   ]
  },
  {
   "cell_type": "code",
   "execution_count": 14,
   "id": "f1c6d703",
   "metadata": {},
   "outputs": [
    {
     "name": "stdout",
     "output_type": "stream",
     "text": [
      "epoch:0, loss:2068.864501953125,lr:0.09772512378214518\n",
      "\n",
      " -> Saving weights to ./train004/model_checkpoints_at\\model_his.pt\n",
      "\n"
     ]
    }
   ],
   "source": [
    "set_seed(510)\n",
    "fit_his_unit(train_encoded_loader,\"./train004/model_checkpoints_at\", RESUME=False, shared=False, attention=True,expand=False)"
   ]
  },
  {
   "cell_type": "code",
   "execution_count": 22,
   "id": "6034651e",
   "metadata": {},
   "outputs": [
    {
     "data": {
      "text/plain": [
       "[<matplotlib.lines.Line2D at 0x2c7de6d51c0>]"
      ]
     },
     "execution_count": 22,
     "metadata": {},
     "output_type": "execute_result"
    },
    {
     "data": {
      "image/png": "[encoded data removed]",
      "text/plain": [
       "<Figure size 432x288 with 1 Axes>"
      ]
     },
     "metadata": {
      "needs_background": "light"
     },
     "output_type": "display_data"
    }
   ],
   "source": [
    "aml_model=AML_model(100,100,100,128,2,25,shared=False,attention=True,expand = False).to(device)\n",
    "aml_model.load_state_dict(torch.load(\"./train004/model_checkpoints_at/model_his.pt\"))\n",
    "plt.plot(aml_model(train_data[\"input\"].to(device))[1].cpu().detach().numpy())"
   ]
  },
  {
   "cell_type": "code",
   "execution_count": 23,
   "id": "e8e1a000",
   "metadata": {},
   "outputs": [
    {
     "data": {
      "text/plain": [
       "6780.0"
      ]
     },
     "execution_count": 23,
     "metadata": {},
     "output_type": "execute_result"
    }
   ],
   "source": [
    "pred_1=[]\n",
    "for idx,test_data in enumerate(test_encoded_loader):\n",
    "    pred_1_q=aml_model(test_data[\"input\"].to(device))[0].item()\n",
    "    pred_1.append(pred_1_q)\n",
    "#RUL\n",
    "\n",
    "np.sum(np.ceil((abs(np.array(pred_1)-RUL))))#目测结果"
   ]
  },
  {
   "cell_type": "code",
   "execution_count": 24,
   "id": "78f7ab29",
   "metadata": {},
   "outputs": [],
   "source": [
    "def get_Accuracy(hat_RUL, RUL_true, lifetime_list):\n",
    "    \"\"\"\n",
    "\n",
    "    :return: RUL升序排序后前20个，前40个，前**个的误差\n",
    "    \"\"\"\n",
    "    # hat_RUL = get_RUL(mu_Gamma, C_Gamma, sigma_2, w, data, data_train)\n",
    "    # RUL_frame = pd.read_csv(path, header=None)\n",
    "    # RUL = RUL_frame.values[:, 0]\n",
    "    length = len(RUL_true)\n",
    "    Accuracy = np.zeros((length, 2))\n",
    "    Accuracy[:, 0] = RUL_true\n",
    "    Accuracy[:, 1] = abs(hat_RUL - RUL_true) / (lifetime_list + RUL_true)\n",
    "    num_A = np.argsort(Accuracy[:, 0])\n",
    "    iAccuracy = np.zeros((length, 2))\n",
    "    for ia in range(0, length):\n",
    "        iAccuracy[ia, 0] = Accuracy[int(num_A[ia]), 0]\n",
    "        iAccuracy[ia, 1] = Accuracy[int(num_A[ia]), 1]\n",
    "    rul0 = [25, 50, 75, 100, 125, 300]\n",
    "    Accuracy_RUL = np.mat(np.zeros((6, 3)))\n",
    "    for ir in range(0, 6):\n",
    "        Accuracy_RUL[ir, 0] = int(rul0[ir])\n",
    "        num_rul = np.argwhere((iAccuracy[:, 0] <= rul0[ir]))\n",
    "        #(cycletime_sim_raw > 50) & (cycletime_sim_raw < 350)\n",
    "        Accuracy_RUL[ir, 1] = np.mean(iAccuracy[num_rul[:, 0], 1])\n",
    "        s_error = np.std(iAccuracy[num_rul[:, 0], 1])/math.sqrt(len(num_rul))\n",
    "        Accuracy_RUL[ir, 2] = s_error\n",
    "    Accuracy_RUL[5, 0] = 150\n",
    "    return Accuracy_RUL"
   ]
  },
  {
   "cell_type": "code",
   "execution_count": 25,
   "id": "0ae1c7f4",
   "metadata": {},
   "outputs": [
    {
     "data": {
      "text/plain": [
       "matrix([[2.50000000e+01, 3.72945160e-02, 4.18090983e-03],\n",
       "        [5.00000000e+01, 4.04993191e-02, 3.59162418e-03],\n",
       "        [7.50000000e+01, 5.24116161e-02, 5.85067270e-03],\n",
       "        [1.00000000e+02, 6.84007270e-02, 7.37070931e-03],\n",
       "        [1.25000000e+02, 8.42170464e-02, 9.35672002e-03],\n",
       "        [1.50000000e+02, 1.16230339e-01, 9.33573453e-03]])"
      ]
     },
     "execution_count": 25,
     "metadata": {},
     "output_type": "execute_result"
    }
   ],
   "source": [
    "get_Accuracy(np.array(pred_1), RUL,lifetime_list)"
   ]
  },
  {
   "cell_type": "markdown",
   "id": "646fb755",
   "metadata": {},
   "source": [
    "# have cls"
   ]
  },
  {
   "cell_type": "code",
   "execution_count": 21,
   "id": "68d85b28",
   "metadata": {},
   "outputs": [],
   "source": [
    "def fit_AML_model2(train_loader,path, num_head,RESUME=False,shared=False, attention=True, expand=False):\n",
    "    model=AML_model2(100,100,100,128,2,num_head,shared=shared,attention=attention,expand = expand,\n",
    "                    fix_mode_part=False).to(device)\n",
    "    #model.load_state_dict(torch.load(\"./model_checkpoints_at/model_his_aml_cls.pt\"))\n",
    "    #model=AML_model(99,99,99).to(device)\n",
    "    optimizer = getattr(torch.optim, CFG.optimizer)(filter(lambda p: p.requires_grad, model.parameters()), \n",
    "                                                    lr=CFG.lr,weight_decay=0.1)  # 优化器\n",
    "    scheduler = getattr(torch.optim.lr_scheduler, CFG.scheduler)(optimizer, gamma=CFG.sc_Gamma)  # 指数型学习率\n",
    "    start_epoch=-1\n",
    "    if RESUME:\n",
    "        path_checkpoint = path+'/ckpt_aml.pth'   # 断点路径\n",
    "        checkpoint = torch.load(path_checkpoint)  # 加载断点\n",
    "\n",
    "        model.load_state_dict(checkpoint['net'])  # 加载模型可学习参数\n",
    "\n",
    "        optimizer.load_state_dict(checkpoint['optimizer'])  # 加载优化器参数\n",
    "        start_epoch = checkpoint['epoch']  # 设置开始的epoch\n",
    "        scheduler.load_state_dict(checkpoint['scheduler'])\n",
    "\n",
    "\n",
    "    for epoch in range(start_epoch+1,CFG.epoches):\n",
    "        for data in train_loader:\n",
    "            if attention:\n",
    "                y_pred,cls_pred,weight_list=model(train_data[\"input\"].to(device))\n",
    "            else:\n",
    "                y_pred,cls_pred=model(train_data[\"input\"].to(device))\n",
    "            y_pred=y_pred.unsqueeze(-1)\n",
    "            y_target=train_data[\"RUL\"].to(device).unsqueeze(-1).float()\n",
    "            #y_target=train_data[\"RUL\"].to(device).float()\n",
    "            cls_target=train_data[\"mode\"].to(device)\n",
    "#             y_pred_=y_pred[torch.where(y_target>300)]\n",
    "#             y_target_=y_target[torch.where(y_target>300)]\n",
    "            loss=F.mse_loss(y_pred,y_target)+10*(-torch.sum(cls_pred*cls_target)/len(cls_pred)) #+\\\n",
    "                        #3 * F.mse_loss(y_pred_,y_target_)\n",
    "        # loss = loss_function(pred_batch, target_batch, train_data, test_data)\n",
    "            optimizer.zero_grad()\n",
    "            loss.backward()\n",
    "            optimizer.step()\n",
    "            scheduler.step()\n",
    "        # scheduler.step(loss,last_loss)\n",
    "        # last_loss = loss\n",
    "        if CFG.print_training_process and epoch % 100 == 0:\n",
    "            print(f\"epoch:{epoch}, loss:{loss.item()},lr:{optimizer.state_dict()['param_groups'][0]['lr']}\")\n",
    "            checkpoint = {\n",
    "                \"net\": model.state_dict(),\n",
    "                'optimizer': optimizer.state_dict(),\n",
    "                \"epoch\": epoch,\n",
    "                'scheduler': scheduler.state_dict()\n",
    "            }\n",
    "            if not os.path.isdir(path):\n",
    "                os.mkdir(path)\n",
    "            torch.save(checkpoint,\n",
    "                       path+'/ckpt_aml.pth')\n",
    "        if loss.mean() < CFG.jump_out_value:\n",
    "            save_model_weights(model, \"model_his_aml.pt\",\n",
    "                               cp_folder=path)\n",
    "            break\n",
    "        elif epoch == (CFG.epoches - 1):\n",
    "            print(f\"epoch:{epoch}, loss:{loss.item()}\")\n",
    "            save_model_weights(model, \"model_his_aml.pt\",\n",
    "                               cp_folder=path)"
   ]
  },
  {
   "cell_type": "code",
   "execution_count": 87,
   "id": "14887626",
   "metadata": {},
   "outputs": [
    {
     "name": "stdout",
     "output_type": "stream",
     "text": [
      "epoch:0, loss:1852.146484375,lr:0.09772512378214518\n",
      "\n",
      " -> Saving weights to ./train004/model_checkpoints_at\\model_his_aml.pt\n",
      "\n"
     ]
    }
   ],
   "source": [
    "set_seed(6510)\n",
    "fit_AML_model2(train_encoded_loader,\"./train004/model_checkpoints_at\",num_head=10,RESUME=False,shared=False, \n",
    "               attention=True,expand=False)"
   ]
  },
  {
   "cell_type": "code",
   "execution_count": 88,
   "id": "7fb50f88",
   "metadata": {},
   "outputs": [
    {
     "data": {
      "text/plain": [
       "[<matplotlib.lines.Line2D at 0x2c7d540cfa0>]"
      ]
     },
     "execution_count": 88,
     "metadata": {},
     "output_type": "execute_result"
    },
    {
     "data": {
      "image/png": "[encoded data removed]",
      "text/plain": [
       "<Figure size 432x288 with 1 Axes>"
      ]
     },
     "metadata": {
      "needs_background": "light"
     },
     "output_type": "display_data"
    }
   ],
   "source": [
    "aml_model_2=AML_model2(100,100,100,128,2,10,shared=False, attention=True,expand=False).to(device)\n",
    "aml_model_2.load_state_dict(torch.load(\"./train004/model_checkpoints_at/model_his_aml.pt\"))\n",
    "plt.plot(aml_model_2(train_data[\"input\"].to(device))[2][1].cpu().detach().numpy())"
   ]
  },
  {
   "cell_type": "code",
   "execution_count": 89,
   "id": "e3d82768",
   "metadata": {},
   "outputs": [
    {
     "data": {
      "text/plain": [
       "6140.0"
      ]
     },
     "execution_count": 89,
     "metadata": {},
     "output_type": "execute_result"
    }
   ],
   "source": [
    "pred_2=[]\n",
    "for idx,test_data in enumerate(test_encoded_loader):\n",
    "    pred_2_q=aml_model_2(test_data[\"input\"].to(device))[0].item()\n",
    "    pred_2.append(pred_2_q)\n",
    "#RUL\n",
    "np.sum(np.ceil((abs(np.array(pred_2)-RUL))))#目测结果"
   ]
  },
  {
   "cell_type": "code",
   "execution_count": 90,
   "id": "4e3b0337",
   "metadata": {},
   "outputs": [
    {
     "data": {
      "text/plain": [
       "matrix([[2.50000000e+01, 3.33628764e-02, 5.87844348e-03],\n",
       "        [5.00000000e+01, 3.87203591e-02, 4.61186727e-03],\n",
       "        [7.50000000e+01, 4.94576092e-02, 5.76118235e-03],\n",
       "        [1.00000000e+02, 6.72212676e-02, 7.75759456e-03],\n",
       "        [1.25000000e+02, 9.00243175e-02, 1.16975779e-02],\n",
       "        [1.50000000e+02, 1.10334254e-01, 1.02911201e-02]])"
      ]
     },
     "execution_count": 90,
     "metadata": {},
     "output_type": "execute_result"
    }
   ],
   "source": [
    "get_Accuracy(np.array(pred_2), RUL,lifetime_list)"
   ]
  },
  {
   "cell_type": "markdown",
   "id": "f80e1f72",
   "metadata": {},
   "source": [
    "# 特征增强 倒数？"
   ]
  },
  {
   "cell_type": "code",
   "execution_count": 58,
   "id": "a31873e7",
   "metadata": {},
   "outputs": [],
   "source": [
    "def feature_enhance(instance_train,instance_test):\n",
    "    #instance_test_enhanced = instance_test\n",
    "    feature_enhanced_list=[]\n",
    "    for test_idx in tqdm(range(len(instance_test))):\n",
    "        distance_list=torch.zeros(len(instance_train))\n",
    "        y = instance_test[test_idx][\"input\"]\n",
    "        for train_idx in range(len(instance_train)):\n",
    "            x = instance_train[train_idx][\"input\"]\n",
    "            distance = F.pairwise_distance(x, y, p=2)\n",
    "            distance_list[train_idx] = 1/distance\n",
    "        #diag=torch.exp(distance_list).unsqueeze(-1) \n",
    "        diag=distance_list.unsqueeze(-1)\n",
    "#         diag[torch.where(diag < torch.quantile(diag, 0.5, dim=0,\n",
    "#                                             keepdim=False,\n",
    "#                                            interpolation='nearest'))] = 0\n",
    "        diag_reg=diag / torch.sum(diag)\n",
    "        if instance_test[test_idx][\"lifetime\"]<110:\n",
    "            feature_enhanced_list.append(torch.sum(instance_train.all_feature_list*diag_reg,dim=0))\n",
    "        else:\n",
    "            feature_enhanced_list.append(y)\n",
    "    return feature_enhanced_list    # "
   ]
  },
  {
   "cell_type": "code",
   "execution_count": 59,
   "id": "09c6f123",
   "metadata": {},
   "outputs": [
    {
     "data": {
      "application/vnd.jupyter.widget-view+json": {
       "model_id": "5f76f63ec4524ee3baa772e214680984",
       "version_major": 2,
       "version_minor": 0
      },
      "text/plain": [
       "  0%|          | 0/248 [00:00<?, ?it/s]"
      ]
     },
     "metadata": {},
     "output_type": "display_data"
    }
   ],
   "source": [
    "feature_enhanced_list = feature_enhance(train_dataset_expend_encoded,test_dataset)"
   ]
  },
  {
   "cell_type": "code",
   "execution_count": 94,
   "id": "087662a1",
   "metadata": {},
   "outputs": [],
   "source": [
    "test_dataset_enhanced = AircraftDataset_no_expend_feature_extraction(df_test, \n",
    "                                                            test_label, \n",
    "                                                            feature_enhanced_list\n",
    "                                                                    ,attribute[2:])\n",
    "test_encoded_enhanced_loader = DataLoader(\n",
    "    test_dataset_enhanced,\n",
    "    batch_size=1,\n",
    "    shuffle=False)"
   ]
  },
  {
   "cell_type": "code",
   "execution_count": 95,
   "id": "fac9263e",
   "metadata": {},
   "outputs": [
    {
     "data": {
      "text/plain": [
       "5605.0"
      ]
     },
     "execution_count": 95,
     "metadata": {},
     "output_type": "execute_result"
    }
   ],
   "source": [
    "pred_3=[]\n",
    "for idx,test_data in enumerate(test_encoded_enhanced_loader):\n",
    "    pred_3_q=aml_model_2(test_data[\"input\"].to(device))[0].item()\n",
    "    pred_3.append(pred_3_q)\n",
    "#RUL\n",
    "np.sum(np.ceil((abs(np.array(pred_3)-RUL))))#目测结果"
   ]
  },
  {
   "cell_type": "code",
   "execution_count": 96,
   "id": "9b0602b5",
   "metadata": {},
   "outputs": [
    {
     "data": {
      "text/plain": [
       "matrix([[2.50000000e+01, 4.29438193e-02, 1.07744313e-02],\n",
       "        [5.00000000e+01, 4.47084484e-02, 7.25153541e-03],\n",
       "        [7.50000000e+01, 5.59822649e-02, 7.11591655e-03],\n",
       "        [1.00000000e+02, 6.04720755e-02, 6.79288540e-03],\n",
       "        [1.25000000e+02, 6.18757860e-02, 5.88850528e-03],\n",
       "        [1.50000000e+02, 9.45544861e-02, 6.49650808e-03]])"
      ]
     },
     "execution_count": 96,
     "metadata": {},
     "output_type": "execute_result"
    }
   ],
   "source": [
    "get_Accuracy(np.array(pred_3), RUL,lifetime_list)"
   ]
  },
  {
   "cell_type": "markdown",
   "id": "bae8d77e",
   "metadata": {},
   "source": [
    "# 特征增强 高斯？"
   ]
  },
  {
   "cell_type": "code",
   "execution_count": 74,
   "id": "c6f69c96",
   "metadata": {},
   "outputs": [],
   "source": [
    "def feature_enhance_2(instance_train,instance_test):\n",
    "    #instance_test_enhanced = instance_test\n",
    "    feature_enhanced_list=[]\n",
    "    for test_idx in tqdm(range(len(instance_test))):\n",
    "        distance_list=torch.zeros(len(instance_train))\n",
    "        y = instance_test[test_idx][\"input\"]\n",
    "        for train_idx in range(len(instance_train)):\n",
    "            x = instance_train[train_idx][\"input\"]\n",
    "            distance = F.pairwise_distance(x, y, p=2)\n",
    "            distance_list[train_idx] = torch.exp(-distance)\n",
    "        #diag=torch.exp(distance_list).unsqueeze(-1) \n",
    "        diag=distance_list.unsqueeze(-1)\n",
    "#         diag[torch.where(diag < torch.quantile(diag, 0.5, dim=0,\n",
    "#                                             keepdim=False,\n",
    "#                                            interpolation='nearest'))] = 0\n",
    "        diag_reg=diag / torch.sum(diag)\n",
    "        if instance_test[test_idx][\"lifetime\"]<100:\n",
    "            feature_enhanced_list.append(torch.sum(instance_train.all_feature_list*diag_reg,dim=0))\n",
    "        else:\n",
    "            feature_enhanced_list.append(y)\n",
    "    return feature_enhanced_list    # "
   ]
  },
  {
   "cell_type": "code",
   "execution_count": 75,
   "id": "e0492767",
   "metadata": {},
   "outputs": [
    {
     "data": {
      "application/vnd.jupyter.widget-view+json": {
       "model_id": "b583a78d8dc94f1f93560d7859252070",
       "version_major": 2,
       "version_minor": 0
      },
      "text/plain": [
       "  0%|          | 0/248 [00:00<?, ?it/s]"
      ]
     },
     "metadata": {},
     "output_type": "display_data"
    }
   ],
   "source": [
    "feature_enhanced_list_2 = feature_enhance_2(train_dataset_expend_encoded,test_dataset)"
   ]
  },
  {
   "cell_type": "code",
   "execution_count": 91,
   "id": "17e00430",
   "metadata": {},
   "outputs": [],
   "source": [
    "test_dataset_enhanced_2 = AircraftDataset_no_expend_feature_extraction(df_test, \n",
    "                                                            test_label, \n",
    "                                                            feature_enhanced_list_2\n",
    "                                                                      ,attribute[2:])\n",
    "test_encoded_enhanced_loader_2 = DataLoader(\n",
    "    test_dataset_enhanced_2,\n",
    "    batch_size=1,\n",
    "    shuffle=False)"
   ]
  },
  {
   "cell_type": "code",
   "execution_count": 92,
   "id": "7df9d30e",
   "metadata": {},
   "outputs": [
    {
     "data": {
      "text/plain": [
       "4780.0"
      ]
     },
     "execution_count": 92,
     "metadata": {},
     "output_type": "execute_result"
    }
   ],
   "source": [
    "pred_4=[]\n",
    "for idx,test_data in enumerate(test_encoded_enhanced_loader_2):\n",
    "    pred_4_q=aml_model_2(test_data[\"input\"].to(device))[0].item()\n",
    "    pred_4.append(pred_4_q)\n",
    "#RUL\n",
    "np.sum(np.ceil((abs(np.array(pred_4)-RUL))))#目测结果"
   ]
  },
  {
   "cell_type": "code",
   "execution_count": 93,
   "id": "1d6aa5e7",
   "metadata": {},
   "outputs": [
    {
     "data": {
      "text/plain": [
       "matrix([[2.50000000e+01, 3.33628764e-02, 5.87844348e-03],\n",
       "        [5.00000000e+01, 3.87203591e-02, 4.61186727e-03],\n",
       "        [7.50000000e+01, 4.85996319e-02, 5.43708388e-03],\n",
       "        [1.00000000e+02, 5.51956144e-02, 6.11572843e-03],\n",
       "        [1.25000000e+02, 5.77421726e-02, 5.34809028e-03],\n",
       "        [1.50000000e+02, 7.79277333e-02, 5.23862197e-03]])"
      ]
     },
     "execution_count": 93,
     "metadata": {},
     "output_type": "execute_result"
    }
   ],
   "source": [
    "get_Accuracy(np.array(pred_4), RUL,lifetime_list)"
   ]
  },
  {
   "cell_type": "code",
   "execution_count": null,
   "id": "f6902da8",
   "metadata": {},
   "outputs": [],
   "source": []
  }
 ],
 "metadata": {
  "kernelspec": {
   "display_name": "Python 3",
   "language": "python",
   "name": "python3"
  },
  "language_info": {
   "codemirror_mode": {
    "name": "ipython",
    "version": 3
   },
   "file_extension": ".py",
   "mimetype": "text/x-python",
   "name": "python",
   "nbconvert_exporter": "python",
   "pygments_lexer": "ipython3",
   "version": "3.8.8"
  }
 },
 "nbformat": 4,
 "nbformat_minor": 5
}
