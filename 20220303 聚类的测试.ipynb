{
 "cells": [
  {
   "cell_type": "code",
   "execution_count": 1,
   "id": "bdd8db35",
   "metadata": {},
   "outputs": [
    {
     "name": "stderr",
     "output_type": "stream",
     "text": [
      "C:\\Users\\Administrator\\Documents\\yh.wang\\2\\diwang_feature_exrtaction.py:194: RuntimeWarning: invalid value encountered in true_divide\n",
      "  W = Weight / np.tile(reshape(sum(Weight, 2), (Num, TestData.shape[1] - 1, 1)), (1, 1, Nu))\n"
     ]
    }
   ],
   "source": [
    "from main import*"
   ]
  },
  {
   "cell_type": "code",
   "execution_count": 17,
   "id": "6af861c9",
   "metadata": {},
   "outputs": [],
   "source": [
    "class CFG:\n",
    "    seed=42\n",
    "    input_dim=3\n",
    "    input_feature=18\n",
    "    num_workers=2\n",
    "    hidden_size=64\n",
    "    batch_size=2048\n",
    "    num_classes=1\n",
    "    device = 'cuda' if torch.cuda.is_available() else 'cpu'\n",
    "    optimizer=\"Adam\"\n",
    "    scheduler=\"ExponentialLR\"\n",
    "    lr=1e-1\n",
    "    epoches=10000\n",
    "    kernel=True\n",
    "    print_training_process=True\n",
    "    sc_Gamma=0.998#指数型学习率衰减曲线\n",
    "    decay = 1e-5\n",
    "    num_in_feature_classes=3"
   ]
  },
  {
   "cell_type": "code",
   "execution_count": 18,
   "id": "c2b295c9",
   "metadata": {},
   "outputs": [],
   "source": [
    "def fusion_tG(tG, dev_tG, dev2_tG):\n",
    "    input_features = []\n",
    "    for unit in range(len(tG)):\n",
    "        feature_unit = np.vstack([tG[unit],\n",
    "                                  dev_tG[unit],\n",
    "                                  dev2_tG[unit]]).reshape(-1)\n",
    "        input_features.append(feature_unit)\n",
    "    return np.array(input_features)\n",
    "tGG=fusion_tG(tG_delete,dev_tG_delete,dev2_tG_delete)\n",
    "classifier_in=KMeans(n_clusters=CFG.num_in_feature_classes,random_state=CFG.seed).fit(tGG)"
   ]
  },
  {
   "cell_type": "code",
   "execution_count": 19,
   "id": "3043d77a",
   "metadata": {},
   "outputs": [],
   "source": [
    "class TestingFeature(Dataset):\n",
    "    def __init__(self, tG, dev_tG, dev2_tG, RUL, classifier):  # ,labels):\n",
    "        self.tG = tG\n",
    "        self.dev_tG = dev_tG\n",
    "        self.dev2_tG = dev2_tG\n",
    "        self.RUL = RUL\n",
    "        self.classifier=classifier\n",
    "        self.input=fusion_tG(tG, dev_tG, dev2_tG)\n",
    "        self.labels=self.classifier.predict(self.input)\n",
    "        # self.labels=labels\n",
    "\n",
    "\n",
    "    def __len__(self):\n",
    "        return len(self.input)\n",
    "\n",
    "    def __getitem__(self, idx):\n",
    "        data = {\n",
    "            \"input\": torch.tensor(self.input[idx], dtype=torch.float),\n",
    "            \"RUL\": torch.tensor(self.RUL[idx], dtype=torch.int64),\n",
    "            \"label\": torch.tensor(self.labels[idx], dtype=torch.int64)\n",
    "        }\n",
    "\n",
    "        return data"
   ]
  },
  {
   "cell_type": "code",
   "execution_count": 20,
   "id": "482ed427",
   "metadata": {},
   "outputs": [
    {
     "data": {
      "text/plain": [
       "{'input': tensor([0.1196, 0.1020, 0.0999, 0.0757, 0.1094, 0.0801, 0.0546, 0.0567, 0.0629,\n",
       "         0.0891, 0.0954, 0.1050, 0.0326, 0.0295, 0.0327, 0.0489, 0.0550, 0.0529]),\n",
       " 'RUL': tensor(44),\n",
       " 'label': tensor(1)}"
      ]
     },
     "execution_count": 20,
     "metadata": {},
     "output_type": "execute_result"
    }
   ],
   "source": [
    "test_dataset = TestingFeature(tG_delete[0:2],\n",
    "                              dev_tG_delete[0:2],\n",
    "                              dev2_tG_delete[0:2],\n",
    "                              RUL_delete[0:2],\n",
    "                              classifier_in)\n",
    "test_dataset[0]"
   ]
  },
  {
   "cell_type": "code",
   "execution_count": 23,
   "id": "681b7898",
   "metadata": {},
   "outputs": [],
   "source": [
    "class Classified_mean_test_features(TestingFeature):\n",
    "    def __init__(self, tG, dev_tG, dev2_tG, RUL,classifier_in):#classifier_in为训练好的一个分类器\n",
    "        super().__init__(tG, dev_tG, dev2_tG, RUL,classifier_in)\n",
    "\n",
    "    def __len__(self):\n",
    "        return CFG.num_in_feature_classes\n",
    "    \n",
    "    def __getitem__(self,idx):\n",
    "        data={\n",
    "            \"input\":torch.tensor(np.mean(self.input[np.where(self.labels==idx)],axis=0),dtype=torch.float),\n",
    "            \"label\":torch.tensor(idx,dtype=torch.int64)\n",
    "        }\n",
    "        return data\n",
    "    \n",
    "    "
   ]
  },
  {
   "cell_type": "code",
   "execution_count": 24,
   "id": "fd3b2156",
   "metadata": {},
   "outputs": [],
   "source": [
    "test_classified_dataset=Classified_mean_test_features(tG_delete,\n",
    "                              dev_tG_delete,\n",
    "                              dev2_tG_delete,\n",
    "                              RUL_delete,classifier_in)\n",
    "                                                     "
   ]
  },
  {
   "cell_type": "code",
   "execution_count": 25,
   "id": "3fb82db1",
   "metadata": {},
   "outputs": [
    {
     "data": {
      "text/plain": [
       "{'input': tensor([0.1046, 0.1109, 0.0849, 0.0655, 0.0822, 0.0652, 0.0491, 0.0528, 0.0590,\n",
       "         0.1001, 0.0736, 0.1026, 0.0337, 0.0362, 0.0398, 0.0648, 0.0478, 0.0679]),\n",
       " 'label': tensor(1)}"
      ]
     },
     "execution_count": 25,
     "metadata": {},
     "output_type": "execute_result"
    }
   ],
   "source": [
    "test_classified_dataset[1]"
   ]
  }
 ],
 "metadata": {
  "kernelspec": {
   "display_name": "Python 3",
   "language": "python",
   "name": "python3"
  },
  "language_info": {
   "codemirror_mode": {
    "name": "ipython",
    "version": 3
   },
   "file_extension": ".py",
   "mimetype": "text/x-python",
   "name": "python",
   "nbconvert_exporter": "python",
   "pygments_lexer": "ipython3",
   "version": "3.8.8"
  }
 },
 "nbformat": 4,
 "nbformat_minor": 5
}
