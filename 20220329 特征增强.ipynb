{
 "cells": [
  {
   "cell_type": "code",
   "execution_count": 1,
   "id": "32367af4",
   "metadata": {},
   "outputs": [],
   "source": [
    "from tsfresh_feature_extraction import *"
   ]
  },
  {
   "cell_type": "code",
   "execution_count": 2,
   "id": "a880fdfd",
   "metadata": {},
   "outputs": [],
   "source": [
    "set_seed(612)"
   ]
  },
  {
   "cell_type": "code",
   "execution_count": 3,
   "id": "c483dd3c",
   "metadata": {},
   "outputs": [],
   "source": [
    "train_extracted_minmax_large=np.load(\"./numpy/train_extracted_minmax_train_0322.npy\")\n",
    "test_extracted_minmax_large=np.load(\"./numpy/test_extracted_minmax_train_0322.npy\")\n",
    "device=CFG.device\n",
    "CFG.epoches=350\n",
    "longlist=np.concatenate((train_extracted_minmax_large,test_extracted_minmax_large),axis=\\\n",
    "                        0)[:,np.random.permutation(100)]\n",
    "train_extracted_minmax_large,test_extracted_minmax_large=np.vsplit(longlist,np.array([24020]))\n",
    "device=CFG.device\n",
    "train_dataset_expend_encoded = AircraftDataset_expend_feature_extraction(df_train, train_label, \n",
    "                                                                         torch.FloatTensor(train_extracted_minmax_large),False)\n",
    "train_encoded_loader = DataLoader(\n",
    "    train_dataset_expend_encoded,\n",
    "    batch_size=CFG.batch_size,\n",
    "    shuffle=True,\n",
    "    drop_last=True,\n",
    ")\n",
    "test_dataset = AircraftDataset_no_expend_feature_extraction(df_test, test_label, torch.FloatTensor(test_extracted_minmax_large))\n",
    "test_encoded_loader = DataLoader(\n",
    "    test_dataset,\n",
    "    batch_size=1,\n",
    "    shuffle=False)\n",
    "for train_data in train_encoded_loader:None\n",
    "for test_data in test_encoded_loader:None"
   ]
  },
  {
   "cell_type": "code",
   "execution_count": 202,
   "id": "27607e14",
   "metadata": {},
   "outputs": [],
   "source": [
    "path = DATA_PATH+'RUL.csv'\n",
    "RUL_frame = pd.read_csv(path, header=None)\n",
    "RUL = RUL_frame.values[:, 0]\n",
    "RUL_y=pd.Series(RUL)\n",
    "RUL_y.index+=1"
   ]
  },
  {
   "cell_type": "code",
   "execution_count": 107,
   "id": "855b27a5",
   "metadata": {},
   "outputs": [],
   "source": [
    "lifetime_list=[]\n",
    "for i in range(len(test_dataset)):\n",
    "    lifetime=test_dataset[i][\"lifetime\"].item()\n",
    "    lifetime_list.append(lifetime)\n",
    "lifetime_list=np.array(lifetime_list)"
   ]
  },
  {
   "cell_type": "code",
   "execution_count": 564,
   "id": "00331217",
   "metadata": {},
   "outputs": [
    {
     "data": {
      "text/plain": [
       "<All keys matched successfully>"
      ]
     },
     "execution_count": 564,
     "metadata": {},
     "output_type": "execute_result"
    }
   ],
   "source": [
    "aml_model_2=AML_model2(100,100,100,128,2,5,shared=False, attention=True,expand=False).to(device)\n",
    "aml_model_2.load_state_dict(torch.load(\"./model_checkpoints_at/model_his_aml.pt\"))"
   ]
  },
  {
   "cell_type": "code",
   "execution_count": 534,
   "id": "d22cbf0e",
   "metadata": {},
   "outputs": [],
   "source": [
    "h_idx=96 #[41, 44, 51, 53, 60, 64, 96]"
   ]
  },
  {
   "cell_type": "code",
   "execution_count": 535,
   "id": "ac0d807d",
   "metadata": {},
   "outputs": [
    {
     "data": {
      "text/plain": [
       "(274.92938232421875, 123)"
      ]
     },
     "execution_count": 535,
     "metadata": {},
     "output_type": "execute_result"
    }
   ],
   "source": [
    "aml_model_2(test_dataset[h_idx][\"input\"].unsqueeze(0).to(device))[0].item(),RUL[h_idx]"
   ]
  },
  {
   "cell_type": "code",
   "execution_count": 536,
   "id": "2493686f",
   "metadata": {},
   "outputs": [
    {
     "data": {
      "text/plain": [
       "tensor([-0.0623, -0.0900,  0.1538, -0.4582, -0.4992, -0.0873, -0.8177, -0.2934,\n",
       "         0.0929, -0.0150,  0.1789,  0.1471,  0.4016, -0.7453, -0.7023, -0.1114,\n",
       "        -0.3668,  0.9637,  0.1138,  0.0892,  0.0621,  0.0892,  0.5966,  0.5645,\n",
       "        -0.7715,  0.1752,  0.2803, -0.2493,  0.5713, -0.9678,  0.0260,  0.0355,\n",
       "        -0.7691, -1.0000, -0.8891,  0.1287,  0.3501, -1.0000, -0.1225,  0.1171,\n",
       "         0.1066, -0.7691, -0.9920, -0.6655, -0.2780,  0.2255,  0.3367, -0.1162,\n",
       "        -0.7381,  0.5237, -0.9294,  0.0997, -0.2855,  0.5353, -0.6576,  0.1394,\n",
       "        -0.5156, -0.9098,  0.1789, -0.1870,  0.3267, -0.1621,  0.2796, -0.5556,\n",
       "         0.3234,  0.0355, -0.9346, -0.2780, -0.2774, -0.4968, -0.8160, -0.9317,\n",
       "        -0.5075, -0.6179,  0.4105, -0.9933,  0.5870, -0.8668,  0.5878, -0.9185,\n",
       "         0.4518,  0.1193, -0.4783, -0.2345, -0.8702,  0.0109,  0.0057, -0.8968,\n",
       "         0.1618, -0.0436, -0.3134,  0.2057,  0.5969,  0.2302,  0.9789,  0.1066,\n",
       "         0.2329,  0.4244,  0.1585,  0.3367])"
      ]
     },
     "execution_count": 536,
     "metadata": {},
     "output_type": "execute_result"
    }
   ],
   "source": [
    "test_dataset[h_idx][\"input\"]"
   ]
  },
  {
   "cell_type": "code",
   "execution_count": 537,
   "id": "18ecc523",
   "metadata": {},
   "outputs": [],
   "source": [
    "distance_list=torch.zeros(24020)\n",
    "for idx in range(24020):\n",
    "    x = train_dataset_expend_encoded[idx][\"input\"]\n",
    "    y = test_dataset[h_idx][\"input\"]\n",
    "    distance = F.pairwise_distance(x, y, p=2)\n",
    "    #distance_list.append(distance)\n",
    "    distance_list[idx] = 1/distance"
   ]
  },
  {
   "cell_type": "code",
   "execution_count": 538,
   "id": "84a9c24b",
   "metadata": {},
   "outputs": [],
   "source": [
    "#diag=torch.exp(distance_list).unsqueeze(-1) \n",
    "diag=distance_list.unsqueeze(-1) "
   ]
  },
  {
   "cell_type": "code",
   "execution_count": 539,
   "id": "ab5429e0",
   "metadata": {},
   "outputs": [],
   "source": [
    "# diag[torch.where(diag < torch.quantile(diag, 0.8, dim=0,\n",
    "#                                                 keepdim=False,\n",
    "#                                                interpolation='nearest'))] = 0"
   ]
  },
  {
   "cell_type": "code",
   "execution_count": 540,
   "id": "0380497e",
   "metadata": {},
   "outputs": [],
   "source": [
    "diag_reg=diag / torch.sum(diag)"
   ]
  },
  {
   "cell_type": "code",
   "execution_count": 541,
   "id": "25b32556",
   "metadata": {},
   "outputs": [],
   "source": [
    "test_44=torch.sum(torch.FloatTensor(train_extracted_minmax_large)*diag_reg,dim=0)"
   ]
  },
  {
   "cell_type": "code",
   "execution_count": 542,
   "id": "6fd76e47",
   "metadata": {},
   "outputs": [
    {
     "data": {
      "text/plain": [
       "tensor([ 6.6492e-02,  9.0698e-02,  9.2041e-02, -7.4392e-02, -9.2405e-02,\n",
       "         4.1875e-02, -5.0341e-01, -6.9835e-02,  2.3363e-01,  2.0949e-01,\n",
       "         2.0916e-01,  1.7804e-01,  2.9650e-01, -1.0636e-01, -5.9507e-01,\n",
       "        -3.6142e-04, -3.4769e-01,  1.5915e-01,  1.3851e-01,  2.0414e-01,\n",
       "         1.4602e-01,  2.1593e-01,  4.2202e-01,  4.3226e-01, -4.2381e-01,\n",
       "         2.7669e-01,  4.3138e-01,  6.2192e-03,  3.2987e-01, -7.9167e-01,\n",
       "         2.0402e-01,  1.3386e-01, -5.0117e-01, -1.2422e-02, -7.5528e-01,\n",
       "         2.0311e-01,  4.0049e-01, -4.7184e-02,  9.4762e-03,  1.3503e-01,\n",
       "         8.4575e-02, -5.0117e-01, -9.2445e-01, -1.2785e-01,  8.0379e-02,\n",
       "         2.7635e-01,  2.8753e-01,  3.2550e-02, -1.4574e-01,  4.1814e-01,\n",
       "        -7.9833e-01,  2.5698e-01, -8.1084e-02,  4.0197e-01, -3.5175e-01,\n",
       "         2.6123e-01, -2.7435e-02, -7.5184e-01,  2.0916e-01,  5.2908e-02,\n",
       "         2.4976e-01,  2.4421e-01,  2.4361e-01, -5.6726e-01,  2.2131e-01,\n",
       "         1.3386e-01, -6.3399e-01,  8.0379e-02, -3.9059e-02, -1.0087e-01,\n",
       "        -5.1572e-01, -6.7278e-01, -2.1208e-02, -4.6380e-01,  4.2278e-01,\n",
       "        -8.8350e-01,  3.9638e-01, -5.8098e-01,  3.6943e-01, -7.7827e-01,\n",
       "         1.7271e-01,  2.0934e-01,  3.5578e-03,  1.5492e-01, -6.5302e-01,\n",
       "         2.5550e-01, -8.3841e-02, -7.5694e-01,  2.6647e-01,  1.8293e-01,\n",
       "        -9.3784e-02,  2.6617e-01,  4.3775e-01,  2.1508e-01,  1.9625e-01,\n",
       "         1.4991e-01,  2.5699e-01,  4.2359e-01,  2.1059e-01,  2.8753e-01])"
      ]
     },
     "execution_count": 542,
     "metadata": {},
     "output_type": "execute_result"
    }
   ],
   "source": [
    "test_44"
   ]
  },
  {
   "cell_type": "code",
   "execution_count": 543,
   "id": "64dd4b00",
   "metadata": {},
   "outputs": [
    {
     "data": {
      "text/plain": [
       "(88.93962860107422, 123)"
      ]
     },
     "execution_count": 543,
     "metadata": {},
     "output_type": "execute_result"
    }
   ],
   "source": [
    "aml_model_2(test_44.unsqueeze(0).to(device))[0].item(),RUL[h_idx]"
   ]
  },
  {
   "cell_type": "markdown",
   "id": "31b6b4f4",
   "metadata": {},
   "source": [
    "# 特征增强函数"
   ]
  },
  {
   "cell_type": "code",
   "execution_count": 552,
   "id": "bd5402f6",
   "metadata": {},
   "outputs": [],
   "source": [
    "def feature_enhance(instance_train,instance_test):\n",
    "    #instance_test_enhanced = instance_test\n",
    "    feature_enhanced_list=[]\n",
    "    for test_idx in range(len(instance_test)):\n",
    "        distance_list=torch.zeros(len(instance_train))\n",
    "        y = instance_test[test_idx][\"input\"]\n",
    "        for train_idx in range(len(instance_train)):\n",
    "            x = instance_train[train_idx][\"input\"]\n",
    "            distance = F.pairwise_distance(x, y, p=2)\n",
    "            distance_list[train_idx] = 1/distance\n",
    "        #diag=torch.exp(distance_list).unsqueeze(-1) \n",
    "        diag=distance_list.unsqueeze(-1)\n",
    "#         diag[torch.where(diag < torch.quantile(diag, 0.5, dim=0,\n",
    "#                                             keepdim=False,\n",
    "#                                            interpolation='nearest'))] = 0\n",
    "        diag_reg=diag / torch.sum(diag)\n",
    "        if instance_test[test_idx][\"lifetime\"]<113:\n",
    "            feature_enhanced_list.append(torch.sum(instance_train.all_feature_list*diag_reg,dim=0))\n",
    "        else:\n",
    "            feature_enhanced_list.append(y)\n",
    "    return feature_enhanced_list    # \n",
    "                "
   ]
  },
  {
   "cell_type": "code",
   "execution_count": 553,
   "id": "b3c7232f",
   "metadata": {},
   "outputs": [],
   "source": [
    "#test_dataset_enhanced = feature_enhance(train_dataset_expend_encoded,test_dataset) #非常耗时的\n",
    "feature_enhanced_list = feature_enhance(train_dataset_expend_encoded,test_dataset)"
   ]
  },
  {
   "cell_type": "code",
   "execution_count": 554,
   "id": "e6191dae",
   "metadata": {},
   "outputs": [],
   "source": [
    "test_dataset_enhanced = AircraftDataset_no_expend_feature_extraction(df_test, \n",
    "                                                            test_label, \n",
    "                                                            feature_enhanced_list)"
   ]
  },
  {
   "cell_type": "code",
   "execution_count": 555,
   "id": "b909e271",
   "metadata": {},
   "outputs": [],
   "source": [
    "test_encoded_enhanced_loader = DataLoader(\n",
    "    test_dataset_enhanced,\n",
    "    batch_size=1,\n",
    "    shuffle=False)"
   ]
  },
  {
   "cell_type": "code",
   "execution_count": 565,
   "id": "590b15d7",
   "metadata": {},
   "outputs": [
    {
     "data": {
      "text/plain": [
       "1752.0"
      ]
     },
     "execution_count": 565,
     "metadata": {},
     "output_type": "execute_result"
    }
   ],
   "source": [
    "pred_2=[]\n",
    "for idx,test_data in enumerate(test_encoded_enhanced_loader):\n",
    "    pred_2_q=aml_model_2(test_data[\"input\"].to(device))[0].item()\n",
    "    pred_2.append(pred_2_q)\n",
    "#RUL\n",
    "path = DATA_PATH+'RUL.csv'\n",
    "RUL_frame = pd.read_csv(path, header=None)\n",
    "RUL = RUL_frame.values[:, 0]\n",
    "np.sum(np.ceil((abs(np.array(pred_2)-RUL))))#目测结果"
   ]
  },
  {
   "cell_type": "code",
   "execution_count": 566,
   "id": "8bd6266f",
   "metadata": {},
   "outputs": [
    {
     "data": {
      "text/plain": [
       "matrix([[2.50000000e+01, 1.99635571e-02, 5.89919628e-03],\n",
       "        [5.00000000e+01, 2.19749984e-02, 4.33802086e-03],\n",
       "        [7.50000000e+01, 4.87135107e-02, 1.22891108e-02],\n",
       "        [1.00000000e+02, 4.94432974e-02, 9.29555482e-03],\n",
       "        [1.25000000e+02, 6.34846845e-02, 8.76490113e-03],\n",
       "        [1.50000000e+02, 7.89745741e-02, 9.03031720e-03]])"
      ]
     },
     "execution_count": 566,
     "metadata": {},
     "output_type": "execute_result"
    }
   ],
   "source": [
    "get_Accuracy(np.array(pred_2), RUL, lifetime_list)"
   ]
  },
  {
   "cell_type": "code",
   "execution_count": 559,
   "id": "47aa8626",
   "metadata": {},
   "outputs": [
    {
     "data": {
      "text/plain": [
       "(array([], dtype=int64),)"
      ]
     },
     "execution_count": 559,
     "metadata": {},
     "output_type": "execute_result"
    }
   ],
   "source": [
    "np.where(np.ceil((abs(np.array(pred_2)-RUL)))>70)"
   ]
  },
  {
   "cell_type": "code",
   "execution_count": 558,
   "id": "bc70d49b",
   "metadata": {},
   "outputs": [],
   "source": [
    "np.save(\"./numpy/20220401feature_enhanced_list_frac.npy\",np.array([feature_enhanced_list[i].numpy() for i in range(100)]))"
   ]
  },
  {
   "cell_type": "markdown",
   "id": "4d67c50d",
   "metadata": {},
   "source": [
    "# 特征增强2"
   ]
  },
  {
   "cell_type": "code",
   "execution_count": 372,
   "id": "299aa9cc",
   "metadata": {},
   "outputs": [],
   "source": [
    "h_idx=27"
   ]
  },
  {
   "cell_type": "code",
   "execution_count": 373,
   "id": "70f2370a",
   "metadata": {},
   "outputs": [
    {
     "data": {
      "text/plain": [
       "(218.00733947753906, 144)"
      ]
     },
     "execution_count": 373,
     "metadata": {},
     "output_type": "execute_result"
    }
   ],
   "source": [
    "aml_model_2(test_dataset[h_idx][\"input\"].unsqueeze(0).to(device))[0].item(),RUL[h_idx]"
   ]
  },
  {
   "cell_type": "code",
   "execution_count": 374,
   "id": "67f8112e",
   "metadata": {},
   "outputs": [],
   "source": [
    "y0 = torch.zeros(100)\n",
    "length = len(train_dataset_expend_encoded)\n",
    "for sensor in range(100):\n",
    "    feature_train = torch.FloatTensor(train_extracted_minmax_large)[:,sensor]\n",
    "    distance_list=torch.zeros(length)\n",
    "    y = test_dataset[h_idx][\"input\"][sensor]\n",
    "    for idx in range(length):\n",
    "        x = train_dataset_expend_encoded[idx][\"input\"][sensor]\n",
    "        distance = -F.pairwise_distance(x, y, p=2)\n",
    "        #distance_list.append(distance)\n",
    "        distance_list[idx] = distance\n",
    "    diag=torch.exp(distance_list)\n",
    "#         diag[torch.where(diag < torch.quantile(diag, 0.6, dim=0,\n",
    "#                                             keepdim=False,\n",
    "#                                            interpolation='nearest'))] = 0\n",
    "    diag_reg=diag / torch.sum(diag)\n",
    "    y0[sensor] = torch.inner(feature_train,diag_reg)"
   ]
  },
  {
   "cell_type": "code",
   "execution_count": 375,
   "id": "c1d4e57b",
   "metadata": {},
   "outputs": [
    {
     "data": {
      "text/plain": [
       "(163.63601684570312, 144)"
      ]
     },
     "execution_count": 375,
     "metadata": {},
     "output_type": "execute_result"
    }
   ],
   "source": [
    "aml_model_2(y0.unsqueeze(0).to(device))[0].item(),RUL[h_idx]"
   ]
  },
  {
   "cell_type": "code",
   "execution_count": 480,
   "id": "9dbc383f",
   "metadata": {},
   "outputs": [],
   "source": [
    "def feature_enhance3(instance_train,instance_test):\n",
    "    #instance_test_enhanced = instance_test\n",
    "    feature_enhanced_list=[]\n",
    "    for test_idx in range(len(instance_test)):\n",
    "        if instance_test[test_idx][\"lifetime\"]<100:\n",
    "            y0 = torch.zeros(100)\n",
    "            length = len(instance_train)\n",
    "            for sensor in range(100):\n",
    "                feature_train = torch.FloatTensor(instance_train.all_feature_list)[:,sensor]\n",
    "                distance_list=torch.zeros(length)\n",
    "                y = instance_test[test_idx][\"input\"][sensor]\n",
    "                for idx in range(length):\n",
    "                    x = instance_train[idx][\"input\"][sensor]\n",
    "                    distance = -F.pairwise_distance(x, y, p=2)\n",
    "                    #distance_list.append(distance)\n",
    "                    distance_list[idx] = distance\n",
    "                #diag=torch.exp(distance_list)\n",
    "                diag=distance_list\n",
    "            #         diag[torch.where(diag < torch.quantile(diag, 0.6, dim=0,\n",
    "            #                                             keepdim=False,\n",
    "            #                                            interpolation='nearest'))] = 0\n",
    "                diag_reg=diag / torch.sum(diag)\n",
    "                y0[sensor] = torch.inner(feature_train,diag_reg)\n",
    "            feature_enhanced_list.append(y0)\n",
    "        \n",
    "#         diag[torch.where(diag < torch.quantile(diag, 0.5, dim=0,\n",
    "#                                             keepdim=False,\n",
    "#                                            interpolation='nearest'))] = 0\n",
    "#         diag_reg=diag / torch.sum(diag)\n",
    "        #instance_test_enhanced[test_idx][\"input\"] = torch.sum(instance_train.all_feature_list*diag_reg,dim=0)\n",
    "\n",
    "        else:\n",
    "            feature_enhanced_list.append(instance_test[test_idx][\"input\"])\n",
    "    return feature_enhanced_list     "
   ]
  },
  {
   "cell_type": "code",
   "execution_count": 481,
   "id": "564f863e",
   "metadata": {},
   "outputs": [
    {
     "ename": "KeyboardInterrupt",
     "evalue": "",
     "output_type": "error",
     "traceback": [
      "\u001b[1;31m---------------------------------------------------------------------------\u001b[0m",
      "\u001b[1;31mKeyboardInterrupt\u001b[0m                         Traceback (most recent call last)",
      "\u001b[1;32m<ipython-input-481-c55ec243eb5f>\u001b[0m in \u001b[0;36m<module>\u001b[1;34m\u001b[0m\n\u001b[1;32m----> 1\u001b[1;33m \u001b[0mfeature_enhanced_list_2\u001b[0m \u001b[1;33m=\u001b[0m \u001b[0mfeature_enhance3\u001b[0m\u001b[1;33m(\u001b[0m\u001b[0mtrain_dataset_expend_encoded\u001b[0m\u001b[1;33m,\u001b[0m\u001b[0mtest_dataset\u001b[0m\u001b[1;33m)\u001b[0m\u001b[1;33m\u001b[0m\u001b[1;33m\u001b[0m\u001b[0m\n\u001b[0m",
      "\u001b[1;32m<ipython-input-480-b186a2fd0192>\u001b[0m in \u001b[0;36mfeature_enhance3\u001b[1;34m(instance_train, instance_test)\u001b[0m\n\u001b[0;32m     12\u001b[0m                 \u001b[1;32mfor\u001b[0m \u001b[0midx\u001b[0m \u001b[1;32min\u001b[0m \u001b[0mrange\u001b[0m\u001b[1;33m(\u001b[0m\u001b[0mlength\u001b[0m\u001b[1;33m)\u001b[0m\u001b[1;33m:\u001b[0m\u001b[1;33m\u001b[0m\u001b[1;33m\u001b[0m\u001b[0m\n\u001b[0;32m     13\u001b[0m                     \u001b[0mx\u001b[0m \u001b[1;33m=\u001b[0m \u001b[0minstance_train\u001b[0m\u001b[1;33m[\u001b[0m\u001b[0midx\u001b[0m\u001b[1;33m]\u001b[0m\u001b[1;33m[\u001b[0m\u001b[1;34m\"input\"\u001b[0m\u001b[1;33m]\u001b[0m\u001b[1;33m[\u001b[0m\u001b[0msensor\u001b[0m\u001b[1;33m]\u001b[0m\u001b[1;33m\u001b[0m\u001b[1;33m\u001b[0m\u001b[0m\n\u001b[1;32m---> 14\u001b[1;33m                     \u001b[0mdistance\u001b[0m \u001b[1;33m=\u001b[0m \u001b[1;33m-\u001b[0m\u001b[0mF\u001b[0m\u001b[1;33m.\u001b[0m\u001b[0mpairwise_distance\u001b[0m\u001b[1;33m(\u001b[0m\u001b[0mx\u001b[0m\u001b[1;33m,\u001b[0m \u001b[0my\u001b[0m\u001b[1;33m,\u001b[0m \u001b[0mp\u001b[0m\u001b[1;33m=\u001b[0m\u001b[1;36m2\u001b[0m\u001b[1;33m)\u001b[0m\u001b[1;33m\u001b[0m\u001b[1;33m\u001b[0m\u001b[0m\n\u001b[0m\u001b[0;32m     15\u001b[0m                     \u001b[1;31m#distance_list.append(distance)\u001b[0m\u001b[1;33m\u001b[0m\u001b[1;33m\u001b[0m\u001b[1;33m\u001b[0m\u001b[0m\n\u001b[0;32m     16\u001b[0m                     \u001b[0mdistance_list\u001b[0m\u001b[1;33m[\u001b[0m\u001b[0midx\u001b[0m\u001b[1;33m]\u001b[0m \u001b[1;33m=\u001b[0m \u001b[0mdistance\u001b[0m\u001b[1;33m\u001b[0m\u001b[1;33m\u001b[0m\u001b[0m\n",
      "\u001b[1;32mC:\\ProgramData\\Anaconda3\\lib\\site-packages\\torch\\nn\\functional.py\u001b[0m in \u001b[0;36mpairwise_distance\u001b[1;34m(x1, x2, p, eps, keepdim)\u001b[0m\n\u001b[0;32m   4222\u001b[0m     \u001b[1;32mif\u001b[0m \u001b[0mhas_torch_function_variadic\u001b[0m\u001b[1;33m(\u001b[0m\u001b[0mx1\u001b[0m\u001b[1;33m,\u001b[0m \u001b[0mx2\u001b[0m\u001b[1;33m)\u001b[0m\u001b[1;33m:\u001b[0m\u001b[1;33m\u001b[0m\u001b[1;33m\u001b[0m\u001b[0m\n\u001b[0;32m   4223\u001b[0m         \u001b[1;32mreturn\u001b[0m \u001b[0mhandle_torch_function\u001b[0m\u001b[1;33m(\u001b[0m\u001b[0mpairwise_distance\u001b[0m\u001b[1;33m,\u001b[0m \u001b[1;33m(\u001b[0m\u001b[0mx1\u001b[0m\u001b[1;33m,\u001b[0m \u001b[0mx2\u001b[0m\u001b[1;33m)\u001b[0m\u001b[1;33m,\u001b[0m \u001b[0mx1\u001b[0m\u001b[1;33m,\u001b[0m \u001b[0mx2\u001b[0m\u001b[1;33m,\u001b[0m \u001b[0mp\u001b[0m\u001b[1;33m=\u001b[0m\u001b[0mp\u001b[0m\u001b[1;33m,\u001b[0m \u001b[0meps\u001b[0m\u001b[1;33m=\u001b[0m\u001b[0meps\u001b[0m\u001b[1;33m,\u001b[0m \u001b[0mkeepdim\u001b[0m\u001b[1;33m=\u001b[0m\u001b[0mkeepdim\u001b[0m\u001b[1;33m)\u001b[0m\u001b[1;33m\u001b[0m\u001b[1;33m\u001b[0m\u001b[0m\n\u001b[1;32m-> 4224\u001b[1;33m     \u001b[1;32mreturn\u001b[0m \u001b[0mtorch\u001b[0m\u001b[1;33m.\u001b[0m\u001b[0mpairwise_distance\u001b[0m\u001b[1;33m(\u001b[0m\u001b[0mx1\u001b[0m\u001b[1;33m,\u001b[0m \u001b[0mx2\u001b[0m\u001b[1;33m,\u001b[0m \u001b[0mp\u001b[0m\u001b[1;33m,\u001b[0m \u001b[0meps\u001b[0m\u001b[1;33m,\u001b[0m \u001b[0mkeepdim\u001b[0m\u001b[1;33m)\u001b[0m\u001b[1;33m\u001b[0m\u001b[1;33m\u001b[0m\u001b[0m\n\u001b[0m\u001b[0;32m   4225\u001b[0m \u001b[1;33m\u001b[0m\u001b[0m\n\u001b[0;32m   4226\u001b[0m \u001b[1;33m\u001b[0m\u001b[0m\n",
      "\u001b[1;31mKeyboardInterrupt\u001b[0m: "
     ]
    }
   ],
   "source": [
    "feature_enhanced_list_2 = feature_enhance3(train_dataset_expend_encoded,test_dataset)"
   ]
  },
  {
   "cell_type": "code",
   "execution_count": null,
   "id": "16d9eda6",
   "metadata": {},
   "outputs": [],
   "source": [
    "np.save(\"./numpy/20220401feature_enhanced_list_sper.npy\",np.array([feature_enhanced_list_2[i].numpy() for i in range(100)]))"
   ]
  },
  {
   "cell_type": "code",
   "execution_count": null,
   "id": "c820e497",
   "metadata": {},
   "outputs": [],
   "source": [
    "nb3 = np.load(\"./numpy/20220401feature_enhanced_list_sper.npy\") "
   ]
  },
  {
   "cell_type": "code",
   "execution_count": null,
   "id": "ea0600a9",
   "metadata": {},
   "outputs": [],
   "source": [
    "test_dataset_enhanced = AircraftDataset_no_expend_feature_extraction(df_test, \n",
    "                                                            test_label, \n",
    "                                                            nb2)\n",
    "test_encoded_enhanced_loader = DataLoader(\n",
    "    test_dataset_enhanced,\n",
    "    batch_size=1,\n",
    "    shuffle=False)\n",
    "pred_2=[]\n",
    "for idx,test_data in enumerate(test_encoded_enhanced_loader):\n",
    "    pred_2_q=aml_model_2(test_data[\"input\"].to(device))[0].item()\n",
    "    pred_2.append(pred_2_q)\n",
    "#RUL\n",
    "path = DATA_PATH+'RUL.csv'\n",
    "RUL_frame = pd.read_csv(path, header=None)\n",
    "RUL = RUL_frame.values[:, 0]\n",
    "np.sum(np.ceil((abs(np.array(pred_2)-RUL))))#目测结果"
   ]
  },
  {
   "cell_type": "code",
   "execution_count": null,
   "id": "abaf9ef9",
   "metadata": {},
   "outputs": [],
   "source": [
    "get_Accuracy(np.array(pred_2), RUL, lifetime_list)"
   ]
  },
  {
   "cell_type": "code",
   "execution_count": null,
   "id": "0fcd206d",
   "metadata": {},
   "outputs": [],
   "source": []
  }
 ],
 "metadata": {
  "kernelspec": {
   "display_name": "Python 3",
   "language": "python",
   "name": "python3"
  },
  "language_info": {
   "codemirror_mode": {
    "name": "ipython",
    "version": 3
   },
   "file_extension": ".py",
   "mimetype": "text/x-python",
   "name": "python",
   "nbconvert_exporter": "python",
   "pygments_lexer": "ipython3",
   "version": "3.8.8"
  }
 },
 "nbformat": 4,
 "nbformat_minor": 5
}
