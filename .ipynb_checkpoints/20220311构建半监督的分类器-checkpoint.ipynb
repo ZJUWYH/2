{
 "cells": [
  {
   "cell_type": "code",
   "execution_count": 1,
   "id": "39bf0693",
   "metadata": {},
   "outputs": [],
   "source": [
    "from ae_feature_extraction import *"
   ]
  },
  {
   "cell_type": "code",
   "execution_count": 5,
   "id": "9e391364",
   "metadata": {},
   "outputs": [],
   "source": [
    "train_label=pd.read_csv(DATA_PATH +\"TD_mode.csv\", header=None).values"
   ]
  },
  {
   "cell_type": "code",
   "execution_count": 180,
   "id": "12f2af5b",
   "metadata": {},
   "outputs": [],
   "source": [
    "class AircraftDataset(Dataset):\n",
    "    def __init__(self, df, labels):# df is a dataframe and label is an array indicate the true failure mode\n",
    "        self.df = df.groupby(\"Unit\").agg(list).reset_index()\n",
    "        self.labels=labels\n",
    "\n",
    "    def __len__(self):\n",
    "        return self.df.shape[0]\n",
    "\n",
    "    def __getitem__(self, idx):\n",
    "        data = {}\n",
    "#         sensor = ['T24', 'T30', 'T50', 'P30', 'Nf', 'Nc', 'Ps30',\n",
    "#                   'phi', 'NRf', 'NRc', 'BPR', 'htBleed', 'W31', 'W32']\n",
    "        sensor=['T24','T30','T50','P30','Ps30','phi']\n",
    "        multi_sensor = []\n",
    "        for sensor_name in sensor:\n",
    "            multi_sensor.append(np.array(self.df[sensor_name].values.tolist()[idx]))\n",
    "            single_sensor = np.array(self.df[sensor_name].values.tolist()[idx])[:, None]\n",
    "            #data[sensor_name] = torch.tensor(single_sensor, dtype=torch.float)\n",
    "        multi_sensor = np.vstack(multi_sensor).transpose(1, 0)\n",
    "        data[\"input\"] = torch.tensor(multi_sensor, dtype=torch.float)\n",
    "        data[\"lifetime\"] = torch.tensor(len(multi_sensor), dtype=torch.int64)\n",
    "        #data[\"timeseries\"] = torch.tensor(np.array(self.df[\"Time\"].values.tolist()[idx])[:, None], dtype=torch.int64)\n",
    "        if self.labels[idx].item()==-1:\n",
    "            data[\"mode\"]=torch.tensor([1,0],dtype=torch.float)\n",
    "        elif self.labels[idx].item()==1:\n",
    "            data[\"mode\"]=torch.tensor([0,1],dtype=torch.float)\n",
    "        return data"
   ]
  },
  {
   "cell_type": "code",
   "execution_count": 181,
   "id": "6ccd59f5",
   "metadata": {},
   "outputs": [],
   "source": [
    "train_dataset=AircraftDataset(df_train,train_label)"
   ]
  },
  {
   "cell_type": "code",
   "execution_count": 182,
   "id": "b1657322",
   "metadata": {},
   "outputs": [
    {
     "data": {
      "text/plain": [
       "{'input': tensor([[ 0.9361,  0.3063,  0.2995, -0.7938,  0.5187, -0.2241],\n",
       "         [ 1.0359,  0.4529,  0.3033, -0.4428,  0.3692, -0.0984],\n",
       "         [ 0.7912,  0.2064,  0.8094, -0.5262,  0.3459, -0.4868],\n",
       "         ...,\n",
       "         [ 1.5619,  1.3918,  1.4484, -1.6229,  1.5142, -1.5564],\n",
       "         [ 1.6165,  1.5726,  1.5852, -1.5222,  1.4769, -1.5536],\n",
       "         [ 1.7176,  1.3226,  1.6458, -1.5866,  1.6381, -1.6301]]),\n",
       " 'lifetime': tensor(259),\n",
       " 'mode': tensor([1., 0.])}"
      ]
     },
     "execution_count": 182,
     "metadata": {},
     "output_type": "execute_result"
    }
   ],
   "source": [
    "train_dataset[0]"
   ]
  },
  {
   "cell_type": "code",
   "execution_count": 183,
   "id": "c2184d30",
   "metadata": {},
   "outputs": [],
   "source": [
    "class AircraftDataset_expend(AircraftDataset):  # 截断原有的数据集，获得海量的数据\n",
    "    def __init__(self, df,labels,add_zero):\n",
    "        super().__init__(df,labels)\n",
    "        self.add_zero = add_zero\n",
    "        self.cut_data()\n",
    "\n",
    "    def cut_data(self):\n",
    "        lenth = super().__len__()\n",
    "        input_signal = []\n",
    "        RUL = []\n",
    "        label=[]\n",
    "        for unit in range(lenth):\n",
    "            unit_input = super().__getitem__(unit)[\"input\"]\n",
    "            unit_label=super().__getitem__(unit)[\"mode\"]\n",
    "            unit_life = len(unit_input)\n",
    "            if self.add_zero:\n",
    "                for time in range(3, unit_life):\n",
    "                    input_tensor = torch.zeros(525, 14, dtype=torch.float)\n",
    "                    input_tensor[0:time] = unit_input[0:time]\n",
    "                    unit_RUL = unit_life - time\n",
    "                    input_signal.append(input_tensor)\n",
    "                    RUL.append(unit_RUL)\n",
    "                    label.append(unit_label)\n",
    "            else:\n",
    "                for time in range(3, unit_life):\n",
    "                    input_tensor = unit_input[0:time]\n",
    "                    unit_RUL = unit_life - time\n",
    "                    input_signal.append(input_tensor)\n",
    "                    RUL.append(unit_RUL)\n",
    "                    label.append(unit_label)\n",
    "\n",
    "        self.RUL = np.array(RUL)\n",
    "        self.input_signal = input_signal\n",
    "        self.all_labels = label\n",
    "\n",
    "    def __len__(self):\n",
    "        return len(self.RUL)\n",
    "\n",
    "    def __getitem__(self, idx):\n",
    "        data = {\n",
    "            \"input\": self.input_signal[idx],\n",
    "            \"RUL\": torch.tensor(self.RUL[idx], dtype=torch.int64),\n",
    "            \"mode\":self.all_labels[idx]\n",
    "        }\n",
    "\n",
    "        return data"
   ]
  },
  {
   "cell_type": "code",
   "execution_count": 184,
   "id": "dceb65ff",
   "metadata": {},
   "outputs": [],
   "source": [
    "CFG.ae_input_layer=6\n",
    "CFG.ae_hidden_layer=8"
   ]
  },
  {
   "cell_type": "code",
   "execution_count": 185,
   "id": "a40a5c12",
   "metadata": {},
   "outputs": [],
   "source": [
    "train_dataset_expend=AircraftDataset_expend(df_train,train_label,False)"
   ]
  },
  {
   "cell_type": "code",
   "execution_count": 186,
   "id": "5dbf9c94",
   "metadata": {},
   "outputs": [
    {
     "data": {
      "text/plain": [
       "{'input': tensor([[ 1.0474,  1.2005,  0.2477, -0.2516,  0.2673, -0.4300],\n",
       "         [ 0.6587,  0.6947,  0.4586, -0.1370, -0.0272, -0.2752],\n",
       "         [ 0.6080,  1.0038,  0.0554, -0.2484,  0.6095, -0.2855]]),\n",
       " 'RUL': tensor(250),\n",
       " 'mode': tensor([0., 1.])}"
      ]
     },
     "execution_count": 186,
     "metadata": {},
     "output_type": "execute_result"
    }
   ],
   "source": [
    "train_dataset_expend[256]"
   ]
  },
  {
   "cell_type": "code",
   "execution_count": 187,
   "id": "5d465790",
   "metadata": {},
   "outputs": [],
   "source": [
    " def my_collate(batch):\n",
    " # batch contains a list of tuples of structure (sequence, target)\n",
    "    data = [item[\"input\"] for item in batch]\n",
    "    data = pack_sequence(data, enforce_sorted=False)\n",
    "    targets = [item[\"mode\"] for item in batch]\n",
    "    res={\n",
    "        \"input\":data,\n",
    "        \"mode\":torch.vstack(targets)\n",
    "        \n",
    "    }\n",
    "    \n",
    "    return res"
   ]
  },
  {
   "cell_type": "code",
   "execution_count": 188,
   "id": "406b59b8",
   "metadata": {},
   "outputs": [],
   "source": [
    "train_data_expend_loader = DataLoader(train_dataset_expend,\n",
    "                                      batch_size=CFG.ae_batch_size,\n",
    "                                      shuffle=True,\n",
    "                                      drop_last=True,\n",
    "                                      collate_fn=my_collate)"
   ]
  },
  {
   "cell_type": "code",
   "execution_count": 189,
   "id": "02c30516",
   "metadata": {},
   "outputs": [],
   "source": [
    "class LSTMAutoEncoder(nn.Module):\n",
    "    def __init__(self,input_layer=CFG.ae_input_layer,hidden_layer=CFG.ae_hidden_layer,ae_num_class=2):\n",
    "        super().__init__()\n",
    "        self.input_layer = input_layer\n",
    "        self.hidden_layer = hidden_layer\n",
    "        self.num_class= ae_num_class\n",
    "        self.encoder1=nn.LSTM(self.input_layer, self.hidden_layer, batch_first=True)\n",
    "        self.encoder2=nn.LSTM(self.hidden_layer,self.hidden_layer*2,batch_first=True)\n",
    "        self.decoder1=nn.LSTM(self.hidden_layer*2,self.hidden_layer,batch_first=True)\n",
    "        self.decoder2=nn.LSTM(self.hidden_layer,self.input_layer,batch_first=True)\n",
    "        self.logits = nn.Sequential(\n",
    "            nn.Linear(self.hidden_layer*2, self.hidden_layer),\n",
    "            nn.ReLU(),\n",
    "            nn.Linear(self.hidden_layer, self.num_class),\n",
    "            nn.Softmax(dim=-1),\n",
    "        )\n",
    "\n",
    "\n",
    "    def forward(self, x):\n",
    "        x, (_,_) = self.encoder1(x)\n",
    "        x, (h0,_) = self.encoder2(x)\n",
    "        x,(_,_)= self.decoder1(x)\n",
    "        x,(_,_)= self.decoder2(x)\n",
    "        \n",
    "        label= self.logits(h0)\n",
    "                                                  \n",
    "\n",
    "        return x,label"
   ]
  },
  {
   "cell_type": "code",
   "execution_count": 190,
   "id": "7f3a73eb",
   "metadata": {},
   "outputs": [],
   "source": [
    "aemodel=LSTMAutoEncoder()"
   ]
  },
  {
   "cell_type": "code",
   "execution_count": 204,
   "id": "d61f2d8e",
   "metadata": {},
   "outputs": [],
   "source": [
    "for layer in aemodel.modules():\n",
    "    if isinstance(layer, nn.LSTM):\n",
    "        layer.weight_ih_l0"
   ]
  },
  {
   "cell_type": "code",
   "execution_count": 191,
   "id": "fa934794",
   "metadata": {},
   "outputs": [],
   "source": [
    "for train_data in train_data_expend_loader:\n",
    "    None"
   ]
  },
  {
   "cell_type": "code",
   "execution_count": 192,
   "id": "d188a512",
   "metadata": {},
   "outputs": [
    {
     "data": {
      "text/plain": [
       "(PackedSequence(data=tensor([[-0.0756, -0.0516,  0.0027, -0.0694, -0.0039,  0.1146],\n",
       "         [-0.0756, -0.0516,  0.0027, -0.0694, -0.0039,  0.1146],\n",
       "         [-0.0756, -0.0516,  0.0027, -0.0694, -0.0038,  0.1146],\n",
       "         ...,\n",
       "         [-0.1811, -0.1126,  0.0453, -0.1719,  0.0087,  0.1373],\n",
       "         [-0.1812, -0.1126,  0.0453, -0.1719,  0.0089,  0.1374],\n",
       "         [-0.1814, -0.1126,  0.0453, -0.1718,  0.0090,  0.1375]],\n",
       "        grad_fn=<CatBackward0>), batch_sizes=tensor([512, 512, 512, 509, 506, 504, 500, 498, 494, 491, 489, 487, 487, 483,\n",
       "         480, 479, 476, 475, 473, 472, 471, 468, 463, 458, 458, 455, 452, 450,\n",
       "         447, 445, 442, 437, 434, 432, 431, 430, 427, 424, 422, 420, 419, 415,\n",
       "         413, 413, 410, 410, 406, 401, 397, 396, 393, 392, 390, 389, 387, 383,\n",
       "         382, 380, 377, 376, 373, 370, 367, 365, 363, 360, 358, 356, 356, 355,\n",
       "         351, 349, 348, 345, 344, 341, 338, 336, 336, 336, 336, 333, 331, 330,\n",
       "         330, 328, 326, 325, 323, 319, 316, 310, 306, 303, 299, 295, 294, 293,\n",
       "         290, 288, 286, 284, 283, 280, 278, 276, 274, 273, 270, 268, 266, 264,\n",
       "         261, 260, 258, 255, 254, 253, 249, 248, 245, 243, 242, 238, 237, 236,\n",
       "         234, 232, 231, 230, 230, 229, 226, 220, 218, 216, 214, 212, 210, 210,\n",
       "         208, 203, 202, 200, 199, 197, 196, 195, 193, 191, 188, 185, 183, 182,\n",
       "         179, 179, 178, 175, 175, 171, 170, 168, 167, 165, 165, 163, 163, 160,\n",
       "         160, 159, 158, 157, 156, 156, 155, 152, 150, 147, 145, 144, 142, 140,\n",
       "         140, 136, 136, 134, 131, 131, 129, 129, 128, 126, 124, 122, 121, 121,\n",
       "         119, 119, 118, 116, 112, 111, 111, 108, 106, 105, 102, 101, 100, 100,\n",
       "          97,  97,  96,  94,  93,  91,  89,  89,  88,  88,  86,  84,  84,  84,\n",
       "          83,  81,  77,  76,  74,  73,  73,  72,  71,  71,  70,  70,  70,  69,\n",
       "          68,  68,  67,  66,  65,  64,  63,  62,  62,  62,  61,  60,  60,  59,\n",
       "          58,  58,  57,  56,  56,  53,  52,  52,  51,  51,  50,  50,  49,  49,\n",
       "          48,  46,  45,  44,  44,  43,  42,  42,  41,  41,  40,  39,  38,  38,\n",
       "          36,  36,  36,  36,  36,  35,  34,  33,  33,  32,  32,  32,  32,  32,\n",
       "          31,  31,  31,  31,  31,  31,  31,  31,  31,  31,  31,  30,  29,  28,\n",
       "          28,  27,  27,  26,  25,  25,  25,  25,  25,  25,  25,  25,  25,  25,\n",
       "          25,  25,  24,  23,  23,  23,  23,  23,  23,  23,  23,  23,  23,  23,\n",
       "          21,  21,  21,  19,  18,  18,  18,  18,  18,  18,  18,  18,  18,  18,\n",
       "          18,  18,  18,  18,  18,  18,  18,  17,  17,  17,  17,  15,  15,  15,\n",
       "          15,  15,  15,  15,  15,  15,  15,  15,  14,  14,  14,  13,  13,  13,\n",
       "          13,  13,  13,  13,  13,  13,  12,  12,  12,  12,  11,  11,  11,  11,\n",
       "          10,  10,  10,   9,   9,   9,   8,   8,   8,   8,   8,   8,   8,   8,\n",
       "           8,   7,   7,   7,   7,   7,   7,   6,   6,   6,   5,   5,   5,   5,\n",
       "           5,   5,   5,   4,   4,   4,   4,   4,   4,   4,   4,   4,   4,   4,\n",
       "           4,   4,   4,   4,   4,   4,   4,   4,   4,   4,   4,   3,   3,   3,\n",
       "           3,   1,   1,   1,   1,   1,   1,   1,   1,   1,   1,   1,   1]), sorted_indices=tensor([298, 257, 434, 135, 154, 401, 451, 427, 495,  19,  15,  62, 273, 384,\n",
       "         188, 262, 485, 223,  29, 445, 493, 197, 382,   4, 350, 194, 465, 278,\n",
       "         333, 425, 133, 511, 437, 100, 399, 324, 322, 184, 321, 398,  34, 394,\n",
       "         266, 115, 377,  58, 275, 126, 124, 442, 229, 166, 416, 193, 108, 503,\n",
       "          83,  82, 270, 119,  26,  97, 130, 249, 318, 140, 391, 319, 310, 432,\n",
       "          39,  50,  11,  76,  61, 435, 308, 143, 296,   5, 215, 129, 103, 274,\n",
       "         444, 491, 167, 287, 267, 116, 346, 168,  10, 256, 145,   1, 198, 490,\n",
       "         169, 259,  33, 419, 292,  35, 251, 220, 323,  40, 306, 236,  48, 477,\n",
       "         413, 506, 429, 245, 309, 369, 221,  14, 134,  28, 478,  37,   9, 233,\n",
       "         264, 171, 345, 504, 271, 222, 195, 302, 510, 357, 430,  56,  69, 241,\n",
       "         192, 286, 366, 476, 376, 173, 340, 507,  43,  45,  94, 290, 417,  78,\n",
       "         412,  13, 107, 243, 159, 206, 209, 471, 317, 352, 141, 354, 216, 151,\n",
       "         263,  21, 494, 459,  31,  47,  77, 468, 121,  59, 470, 170, 201, 452,\n",
       "         242, 101,  57, 426, 406, 247, 261, 181, 285, 387,   8, 395, 212, 436,\n",
       "         457, 407, 368, 378, 214,  68, 375, 164, 155, 464, 283, 509, 158, 453,\n",
       "         336,  67, 153, 438, 462, 363, 482, 120, 149, 114, 330, 226, 174, 312,\n",
       "         311, 449, 349,  89, 460, 371, 272, 337, 458, 446, 461, 358, 409, 307,\n",
       "         472,  96, 199,  99, 218, 237, 252,  54,  30,   0, 315, 110, 142, 403,\n",
       "         365, 411, 305, 347, 196,  18, 227, 441, 217, 474, 304, 232, 486, 489,\n",
       "          23, 479, 402,  80, 338, 113, 172, 374, 373, 204, 329, 348, 112,  17,\n",
       "         431, 268, 420, 253, 316,  53, 297, 484, 447, 280, 177, 299, 405, 428,\n",
       "         105, 235, 288, 466, 422, 182, 210,   7, 443, 187, 269, 219, 508, 385,\n",
       "         160, 128, 291, 293, 475, 505, 244,  81, 295, 123, 277, 328, 106, 423,\n",
       "         488, 414, 454,   2, 228, 284,  87,  36, 481, 104, 202, 381, 176, 250,\n",
       "         313,  12,  70, 162, 102, 294,  64, 396,   6,  27,  86, 281,  74, 200,\n",
       "         483,  44, 455, 240,  93, 397,  32, 408, 150, 118, 325, 265, 208, 342,\n",
       "         392, 203,   3, 499, 450, 132, 231, 109, 487, 379,  72, 351, 148, 332,\n",
       "         314, 144,  38,  95, 138, 497, 185, 248, 480, 367, 439, 189,  52,  73,\n",
       "         467, 331, 225, 370, 502, 165, 389, 383, 254,  60,  66, 410, 469, 136,\n",
       "          92, 388,  79, 117, 496, 276, 239, 343, 334, 421, 386, 282, 246, 359,\n",
       "         260,  51, 127,  91, 355, 186, 418, 473, 433, 463,  46, 137, 415, 362,\n",
       "          20, 224, 157, 390, 179, 180, 353, 156, 327,  63, 372, 211, 498, 111,\n",
       "         258, 213,  90, 361, 289,  25, 191, 456, 190, 364, 339, 125, 234, 335,\n",
       "         300,  49, 393, 500, 207, 279, 424,  42, 147, 326, 230, 440,  84,  65,\n",
       "         238, 122, 255, 341, 380, 131, 404, 175, 205,  88,  24, 360, 178,  55,\n",
       "         492, 161, 163, 139, 344, 448,  75,  22, 301, 303, 501,  98, 152,  41,\n",
       "         320,  16,  85, 400, 356,  71, 146, 183]), unsorted_indices=tensor([247,  95, 325, 366,  23,  79, 344, 301, 192, 124,  92,  72, 337, 155,\n",
       "         119,  10, 505, 279, 257,   9, 434, 169, 497, 266, 486, 453,  60, 345,\n",
       "         121,  18, 246, 172, 356, 100,  40, 103, 329, 123, 380,  70, 107, 503,\n",
       "         469, 148, 351, 149, 430, 173, 110, 463,  71, 421, 390, 285, 245, 489,\n",
       "         137, 184,  45, 177, 401,  74,  11, 443, 342, 475, 402, 211, 201, 138,\n",
       "         338, 509, 374, 391, 348, 496,  73, 174, 153, 408, 269, 315,  57,  56,\n",
       "         474, 506, 346, 328, 485, 227, 450, 423, 406, 354, 150, 381, 239,  61,\n",
       "         501, 241,  33, 183, 340,  82, 331, 294, 320, 156,  54, 371, 249, 447,\n",
       "         278, 271, 219,  43,  89, 409, 359,  59, 217, 176, 477, 317,  48, 459,\n",
       "          47, 422, 309,  81,  62, 481, 369,  30, 120,   3, 405, 431, 382, 493,\n",
       "          65, 164, 250,  77, 379,  94, 510, 470, 376, 218, 358, 167, 502, 212,\n",
       "           4, 204, 441, 436, 208, 158, 308, 491, 339, 492, 203, 397,  51,  86,\n",
       "          91,  98, 179, 127, 272, 145, 222, 483, 334, 290, 488, 438, 439, 189,\n",
       "         299, 511,  37, 384, 425, 303,  14, 389, 456, 454, 140,  53,  25, 132,\n",
       "         256,  21,  96, 240, 349, 180, 332, 365, 275, 484, 159, 466, 362, 160,\n",
       "         300, 445, 194, 449, 200,  80, 166, 260, 242, 305, 105, 118, 131,  17,\n",
       "         435, 394, 221, 258, 326,  50, 472, 370, 263, 125, 460, 295, 109, 243,\n",
       "         476, 412, 353, 139, 182, 157, 314, 115, 418, 187, 385,  63, 335, 104,\n",
       "         244, 283, 400, 478,  93,   1, 448,  99, 420, 188,  15, 168, 126, 361,\n",
       "          42,  88, 281, 304,  58, 130, 230,  12,  83,  46, 411, 318,  27, 467,\n",
       "         289, 347, 417, 206, 327, 190, 141,  87, 296, 452, 151, 310, 102, 311,\n",
       "         341, 316,  78, 286,   0, 291, 462, 498, 133, 499, 262, 254, 108, 237,\n",
       "          76, 116,  68, 224, 223, 336, 378, 248, 284, 162,  64,  67, 504,  38,\n",
       "          36, 106,  35, 360, 471, 442, 319, 276, 220, 393, 377,  28, 414, 461,\n",
       "         210, 231, 270, 458, 146, 479, 363, 413, 494, 128,  90, 255, 277, 226,\n",
       "          24, 375, 163, 440, 165, 424, 508, 135, 235, 419, 487, 451, 433, 215,\n",
       "         457, 252, 142, 387, 198, 117, 395, 229, 444, 274, 273, 202, 144,  44,\n",
       "         199, 373, 480, 333,  22, 399,  13, 307, 416, 191, 407, 398, 437,  66,\n",
       "         364, 464,  41, 193, 343, 355,  39,  34, 507,   5, 268, 251, 482, 292,\n",
       "         186, 197, 357, 236, 403, 253, 154, 112, 323, 432,  52, 152, 426, 101,\n",
       "         282, 415, 298, 321, 468,  29, 185,   7, 293, 114, 136, 280,  69, 428,\n",
       "           2,  75, 195,  32, 213, 388, 473, 259,  49, 302,  84,  19, 233, 288,\n",
       "         495, 225, 368,   6, 181, 209, 324, 352, 455, 196, 232, 171, 228, 234,\n",
       "         214, 429, 205,  26, 297, 392, 175, 404, 178, 161, 238, 427, 261, 312,\n",
       "         143, 111, 122, 267, 386, 330, 216, 350, 287,  16, 264, 372, 322, 265,\n",
       "          97,  85, 490,  20, 170,   8, 410, 383, 446, 367, 465, 500, 396,  55,\n",
       "         129, 313, 113, 147, 306, 207, 134,  31])),\n",
       " tensor([[[0.5338, 0.4662],\n",
       "          [0.5331, 0.4669],\n",
       "          [0.5333, 0.4667],\n",
       "          ...,\n",
       "          [0.5340, 0.4660],\n",
       "          [0.5319, 0.4681],\n",
       "          [0.5331, 0.4669]]], grad_fn=<SoftmaxBackward0>))"
      ]
     },
     "execution_count": 192,
     "metadata": {},
     "output_type": "execute_result"
    }
   ],
   "source": [
    "aemodel(train_data[\"input\"])"
   ]
  },
  {
   "cell_type": "code",
   "execution_count": 195,
   "id": "5adb994b",
   "metadata": {},
   "outputs": [],
   "source": [
    "x=train_data[\"input\"].data\n",
    "x_=aemodel(train_data[\"input\"])[0].data"
   ]
  },
  {
   "cell_type": "code",
   "execution_count": 193,
   "id": "5da18091",
   "metadata": {},
   "outputs": [],
   "source": [
    "class_true=train_data[\"mode\"]\n",
    "class_pred=aemodel(train_data[\"input\"])[1].squeeze(0)"
   ]
  },
  {
   "cell_type": "code",
   "execution_count": 196,
   "id": "5fbb9626",
   "metadata": {},
   "outputs": [],
   "source": [
    "b = nn.MSELoss()(x,x_)\n",
    "a = nn.CrossEntropyLoss()(class_pred, class_true)"
   ]
  },
  {
   "cell_type": "code",
   "execution_count": 197,
   "id": "7cd5928f",
   "metadata": {},
   "outputs": [
    {
     "data": {
      "text/plain": [
       "(tensor(0.5638, grad_fn=<MseLossBackward0>),\n",
       " tensor(0.6992, grad_fn=<DivBackward1>))"
      ]
     },
     "execution_count": 197,
     "metadata": {},
     "output_type": "execute_result"
    }
   ],
   "source": [
    "b,a"
   ]
  },
  {
   "cell_type": "code",
   "execution_count": null,
   "id": "636041ff",
   "metadata": {},
   "outputs": [],
   "source": []
  }
 ],
 "metadata": {
  "kernelspec": {
   "display_name": "Python 3",
   "language": "python",
   "name": "python3"
  },
  "language_info": {
   "codemirror_mode": {
    "name": "ipython",
    "version": 3
   },
   "file_extension": ".py",
   "mimetype": "text/x-python",
   "name": "python",
   "nbconvert_exporter": "python",
   "pygments_lexer": "ipython3",
   "version": "3.8.8"
  }
 },
 "nbformat": 4,
 "nbformat_minor": 5
}
