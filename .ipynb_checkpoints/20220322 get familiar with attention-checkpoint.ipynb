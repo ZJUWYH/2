{
 "cells": [
  {
   "cell_type": "code",
   "execution_count": 1,
   "id": "9d3f657c",
   "metadata": {},
   "outputs": [],
   "source": [
    "from tsfresh_feature_extraction import *"
   ]
  },
  {
   "cell_type": "code",
   "execution_count": 2,
   "id": "503f30bc",
   "metadata": {},
   "outputs": [],
   "source": [
    "set_seed(613)"
   ]
  },
  {
   "cell_type": "code",
   "execution_count": 3,
   "id": "f4892c21",
   "metadata": {},
   "outputs": [],
   "source": [
    "train_extracted_minmax_large=np.load(\"./numpy/train_extracted_minmax_train_0322.npy\")\n",
    "test_extracted_minmax_large=np.load(\"./numpy/test_extracted_minmax_train_0322.npy\")"
   ]
  },
  {
   "cell_type": "code",
   "execution_count": 4,
   "id": "a13cb7df",
   "metadata": {},
   "outputs": [],
   "source": [
    "device=CFG.device\n",
    "CFG.epoches=350"
   ]
  },
  {
   "cell_type": "code",
   "execution_count": 5,
   "id": "7f8248e1",
   "metadata": {},
   "outputs": [],
   "source": [
    "longlist=np.concatenate((train_extracted_minmax_large,test_extracted_minmax_large),axis=0)[:,np.random.permutation(100)]"
   ]
  },
  {
   "cell_type": "code",
   "execution_count": 6,
   "id": "7139f4a7",
   "metadata": {},
   "outputs": [],
   "source": [
    "train_extracted_minmax_large,test_extracted_minmax_large=np.vsplit(longlist,np.array([24020]))"
   ]
  },
  {
   "cell_type": "code",
   "execution_count": 7,
   "id": "6b472d76",
   "metadata": {},
   "outputs": [],
   "source": [
    "device=CFG.device\n",
    "train_dataset_expend_encoded = AircraftDataset_expend_feature_extraction(df_train, train_label, torch.FloatTensor(train_extracted_minmax_large),True)\n",
    "train_encoded_loader = DataLoader(\n",
    "    train_dataset_expend_encoded,\n",
    "    batch_size=CFG.batch_size,\n",
    "    shuffle=True,\n",
    "    drop_last=True,\n",
    ")\n",
    "test_dataset = AircraftDataset_no_expend_feature_extraction(df_train, test_label, torch.FloatTensor(test_extracted_minmax_large))\n",
    "test_encoded_loader = DataLoader(\n",
    "    test_dataset,\n",
    "    batch_size=1,\n",
    "    shuffle=False)"
   ]
  },
  {
   "cell_type": "code",
   "execution_count": 8,
   "id": "0f608355",
   "metadata": {},
   "outputs": [],
   "source": [
    "for train_data in train_encoded_loader:None\n",
    "for test_data in test_encoded_loader:None"
   ]
  },
  {
   "cell_type": "code",
   "execution_count": 9,
   "id": "b8c59b6e",
   "metadata": {},
   "outputs": [],
   "source": [
    "E_nn=nn.Linear(100,64)\n",
    "if isinstance(E_nn, nn.Linear):\n",
    "    nn.init.xavier_uniform_(E_nn.weight.data, gain=nn.init.calculate_gain('selu'))\n",
    "E_layer=F.selu(E_nn(train_data[\"input\"]))"
   ]
  },
  {
   "cell_type": "code",
   "execution_count": 10,
   "id": "4911fb35",
   "metadata": {},
   "outputs": [
    {
     "data": {
      "text/plain": [
       "torch.Size([2048, 64])"
      ]
     },
     "execution_count": 10,
     "metadata": {},
     "output_type": "execute_result"
    }
   ],
   "source": [
    "E_layer.shape"
   ]
  },
  {
   "cell_type": "code",
   "execution_count": 11,
   "id": "dc83c246",
   "metadata": {},
   "outputs": [
    {
     "data": {
      "text/plain": [
       "tensor([[-0.7048, -0.8974, -0.5697,  ...,  0.2642, -0.4832,  0.1092],\n",
       "        [-0.9822, -0.3495, -0.4260,  ...,  0.3723,  0.0641, -0.0778],\n",
       "        [-0.2665,  0.6754,  0.1107,  ..., -0.7471, -1.0351,  0.5701],\n",
       "        ...,\n",
       "        [-0.5747,  0.2891,  0.1957,  ..., -0.7821, -0.6218,  0.9948],\n",
       "        [-0.7645,  0.1398, -0.1231,  ..., -0.8296, -0.3290,  1.0322],\n",
       "        [-0.7689,  0.0261, -0.1824,  ..., -0.8806, -0.3425,  1.1826]],\n",
       "       grad_fn=<SliceBackward0>)"
      ]
     },
     "execution_count": 11,
     "metadata": {},
     "output_type": "execute_result"
    }
   ],
   "source": [
    "E_layer.view(2048,4,16)[:,0,:]"
   ]
  },
  {
   "cell_type": "code",
   "execution_count": 12,
   "id": "06872da0",
   "metadata": {},
   "outputs": [],
   "source": [
    "multi=clones(nn.Sequential(\n",
    "             nn.Linear(16, 16),\n",
    "             nn.ReLU(),\n",
    "             nn.Softmax(dim=1)),4)\n",
    "for idx in range(4):\n",
    "    for layer in multi[idx]:\n",
    "        if isinstance(layer, nn.Linear):\n",
    "            nn.init.xavier_uniform_(layer.weight.data, gain=nn.init.calculate_gain('relu'))"
   ]
  },
  {
   "cell_type": "code",
   "execution_count": 13,
   "id": "c85ab2b7",
   "metadata": {},
   "outputs": [
    {
     "data": {
      "text/plain": [
       "tensor([[0.0231, 0.0472, 0.0580,  ..., 0.0967, 0.0665, 0.0409],\n",
       "        [0.0322, 0.0643, 0.0589,  ..., 0.0523, 0.0653, 0.0626],\n",
       "        [0.0776, 0.0480, 0.0480,  ..., 0.0462, 0.0462, 0.0617],\n",
       "        ...,\n",
       "        [0.0429, 0.0517, 0.0559,  ..., 0.0485, 0.0485, 0.0679],\n",
       "        [0.0309, 0.0612, 0.0309,  ..., 0.0460, 0.0460, 0.0860],\n",
       "        [0.0283, 0.0640, 0.0283,  ..., 0.0425, 0.0471, 0.0787]],\n",
       "       grad_fn=<CatBackward0>)"
      ]
     },
     "execution_count": 13,
     "metadata": {},
     "output_type": "execute_result"
    }
   ],
   "source": [
    "list1=[layer(E_layer.view(2048,4,16)[:,idx,:]) for idx,layer in enumerate(multi)]\n",
    "torch.concat(list1,dim=1)\n",
    "    \n"
   ]
  },
  {
   "cell_type": "code",
   "execution_count": 14,
   "id": "865ac3fb",
   "metadata": {},
   "outputs": [],
   "source": [
    "Y_s=torch.FloatTensor(2048).unsqueeze(-1)\n",
    "ss=torch.concat([Y_s,Y_s],dim=1)"
   ]
  },
  {
   "cell_type": "code",
   "execution_count": 15,
   "id": "d8f9f24a",
   "metadata": {},
   "outputs": [
    {
     "data": {
      "text/plain": [
       "tensor([[ 3.3631e-44,  3.3631e-44],\n",
       "        [ 6.6141e-43,  6.6141e-43],\n",
       "        [-9.5693e-33, -9.5693e-33],\n",
       "        ...,\n",
       "        [-1.6471e+00, -1.6471e+00],\n",
       "        [ 1.0611e+00,  1.0611e+00],\n",
       "        [ 1.0656e+00,  1.0656e+00]])"
      ]
     },
     "execution_count": 15,
     "metadata": {},
     "output_type": "execute_result"
    }
   ],
   "source": [
    "ss"
   ]
  },
  {
   "cell_type": "code",
   "execution_count": 16,
   "id": "cb4e8203",
   "metadata": {},
   "outputs": [],
   "source": [
    "Y_d=torch.FloatTensor(2048,2)"
   ]
  },
  {
   "cell_type": "code",
   "execution_count": 17,
   "id": "44d1eecd",
   "metadata": {},
   "outputs": [
    {
     "data": {
      "text/plain": [
       "torch.Size([2048])"
      ]
     },
     "execution_count": 17,
     "metadata": {},
     "output_type": "execute_result"
    }
   ],
   "source": [
    "torch.sum(ss*Y_d,dim=1).shape"
   ]
  },
  {
   "cell_type": "markdown",
   "id": "67a5d4ab",
   "metadata": {},
   "source": [
    "# 试一下写的缝合怪"
   ]
  },
  {
   "cell_type": "code",
   "execution_count": 87,
   "id": "0b2def63",
   "metadata": {},
   "outputs": [],
   "source": [
    "class AML_model2(nn.Module):\n",
    "\n",
    "    def __init__(self, num_feature, num_hidden, num_attention, num_hidden_2, num_classes=2, num_head=20,\n",
    "                 shared=False, attention=True,expand=False,fix_mode_part=False):\n",
    "\n",
    "        super().__init__()\n",
    "        self.num_feature = num_feature\n",
    "        self.num_hidden = num_hidden\n",
    "        self.num_attention = num_attention\n",
    "        self.num_classes = num_classes\n",
    "        self.num_head = num_head\n",
    "        self.num_hidden_2 = num_hidden_2\n",
    "        self.shared=shared\n",
    "        self.attention=attention\n",
    "        self.expand=expand\n",
    "        self.fix_mode_part=fix_mode_part\n",
    "\n",
    "        self.shared_layer = nn.Sequential(\n",
    "            nn.Linear(self.num_feature, self.num_hidden),\n",
    "            nn.ReLU(),\n",
    "        )\n",
    "        for layer in self.shared_layer:\n",
    "            if isinstance(layer, nn.Linear):\n",
    "                nn.init.xavier_uniform_(layer.weight.data, gain=nn.init.calculate_gain('relu'))\n",
    "\n",
    "        if self.expand:\n",
    "            self.into_logic = self.num_hidden * 2\n",
    "            self.num_hidden_2 = self.num_hidden_2 * 2\n",
    "        else:\n",
    "            self.into_logic = self.num_hidden\n",
    "\n",
    "        self.A_d = MHA_layer(self.num_hidden, self.num_attention, num_classes=2, num_head=self.num_head,\n",
    "                             expand=self.expand)\n",
    "\n",
    "        self.Y_d = DNN_layer(self.into_logic, self.num_hidden_2, self.num_classes)\n",
    "        if self.fix_mode_part:\n",
    "            for p in self.parameters():\n",
    "                p.requires_grad = False\n",
    "\n",
    "        self.A_u = MHA_layer(self.num_hidden, self.num_attention, num_classes=2, num_head=self.num_head,\n",
    "                             expand=self.expand)\n",
    "        self.A_s = MHA_layer(self.num_hidden, self.num_attention, num_classes=2, num_head=self.num_head,\n",
    "                             expand=self.expand)\n",
    "\n",
    "        self.Y_u = DNN_layer(self.into_logic, self.num_hidden_2, 1)\n",
    "        self.Y_s = DNN_layer(self.into_logic, self.num_hidden_2, 1)\n",
    "\n",
    "    def forward(self, x):\n",
    "        if self.shared:\n",
    "            x = self.shared_layer(x)\n",
    "\n",
    "        if self.attention:\n",
    "\n",
    "            D, w_d = self.A_d(x)\n",
    "            D = self.Y_d(D)\n",
    "            log_mode = F.log_softmax(D,dim=1)\n",
    "            mode = torch.exp(log_mode)\n",
    "            R_u, w_u = self.A_u(x)\n",
    "            R_u = self.Y_u(R_u)\n",
    "            R_s, w_s = self.A_s(x)\n",
    "            R_s = self.Y_s(R_s)\n",
    "            y_pred = torch.sum(mode * torch.concat([R_u, R_s], dim=1), dim=1)\n",
    "\n",
    "            return y_pred, log_mode, [w_d, w_u, w_s]\n",
    "\n",
    "        else:\n",
    "            D = self.Y_d(x)\n",
    "            log_mode = F.log_softmax(D, dim=1)\n",
    "            mode = torch.exp(log_mode)\n",
    "            R_u = self.Y_u(x)\n",
    "            R_s = self.Y_s(x)\n",
    "            y_pred = torch.sum(mode * torch.concat([R_u, R_s], dim=1), dim=1)\n",
    "\n",
    "            return y_pred, log_mode"
   ]
  },
  {
   "cell_type": "code",
   "execution_count": 49,
   "id": "930671be",
   "metadata": {},
   "outputs": [],
   "source": [
    "# class AML_model2(nn.Module):\n",
    "\n",
    "#     def __init__(self, num_feature, num_hidden, num_attention, num_hidden_2, num_classes=2, num_head=20,\n",
    "#                  shared=False, attention=True,expand=False):\n",
    "\n",
    "#         super().__init__()\n",
    "#         self.num_feature = num_feature\n",
    "#         self.num_hidden = num_hidden\n",
    "#         self.num_attention = num_attention\n",
    "#         self.num_classes = num_classes\n",
    "#         self.num_head = num_head\n",
    "#         self.num_hidden_2 = num_hidden_2\n",
    "#         self.shared=shared\n",
    "#         self.attention=attention\n",
    "#         self.expand=expand\n",
    "\n",
    "#         self.shared_layer = nn.Sequential(\n",
    "#             nn.Linear(self.num_feature, self.num_hidden),\n",
    "#             nn.ReLU(),\n",
    "#         )\n",
    "#         for layer in self.shared_layer:\n",
    "#             if isinstance(layer, nn.Linear):\n",
    "#                 nn.init.xavier_uniform_(layer.weight.data, gain=nn.init.calculate_gain('relu'))\n",
    "\n",
    "#         self.A_d = MHA_layer(self.num_hidden, self.num_attention, num_classes=2, num_head=self.num_head,\n",
    "#                              expand=self.expand)\n",
    "#         self.A_u = MHA_layer(self.num_hidden, self.num_attention, num_classes=2, num_head=self.num_head,\n",
    "#                              expand=self.expand)\n",
    "#         self.A_s = MHA_layer(self.num_hidden, self.num_attention, num_classes=2, num_head=self.num_head,\n",
    "#                              expand=self.expand)\n",
    "\n",
    "#         if self.expand:\n",
    "#             self.into_logic = self.num_hidden * 2\n",
    "#             self.num_hidden_2 = self.num_hidden_2 * 2\n",
    "#         else:\n",
    "#             self.into_logic = self.num_hidden\n",
    "\n",
    "#         self.Y_d = DNN_layer(self.into_logic, self.num_hidden_2, self.num_classes)\n",
    "#         self.Y_u = DNN_layer(self.into_logic, self.num_hidden_2, 1)\n",
    "#         self.Y_s = DNN_layer(self.into_logic, self.num_hidden_2, 1)\n",
    "\n",
    "#     def forward(self, x):\n",
    "#         if self.shared:\n",
    "#             x = self.shared_layer(x)\n",
    "\n",
    "#         if self.attention:\n",
    "\n",
    "#             D, w_d = self.A_d(x)\n",
    "#             D = self.Y_d(D)\n",
    "#             log_mode = F.log_softmax(D,dim=1)\n",
    "#             mode = torch.exp(log_mode)\n",
    "#             R_u, w_u = self.A_u(x)\n",
    "#             R_u = self.Y_u(R_u)\n",
    "#             R_s, w_s = self.A_s(x)\n",
    "#             R_s = self.Y_s(R_s)\n",
    "#             y_pred = torch.sum(mode * torch.concat([R_u, R_s], dim=1), dim=1)\n",
    "\n",
    "#             return y_pred, log_mode, [w_d, w_u, w_s]\n",
    "\n",
    "#         else:\n",
    "#             D = self.Y_d(x)\n",
    "#             log_mode = F.log_softmax(D, dim=1)\n",
    "#             mode = torch.exp(log_mode)\n",
    "#             R_u = self.Y_u(x)\n",
    "#             R_s = self.Y_s(x)\n",
    "#             y_pred = torch.sum(mode * torch.concat([R_u, R_s], dim=1), dim=1)\n",
    "\n",
    "#             return y_pred, log_mode"
   ]
  },
  {
   "cell_type": "code",
   "execution_count": 50,
   "id": "b0d2390c",
   "metadata": {},
   "outputs": [],
   "source": [
    "test_model=AML_model2(100,100,100,128,2,20)\n",
    "#test_model=MHA_layer(100,100,2,20,expand=False)"
   ]
  },
  {
   "cell_type": "code",
   "execution_count": 51,
   "id": "93c9e3ba",
   "metadata": {
    "collapsed": true
   },
   "outputs": [
    {
     "data": {
      "text/plain": [
       "(tensor([0.6301, 0.3370, 0.4336,  ..., 0.4185, 0.4416, 0.4958],\n",
       "        grad_fn=<SumBackward1>),\n",
       " tensor([[-1.1977, -0.3594],\n",
       "         [-0.8490, -0.5583],\n",
       "         [-0.7254, -0.6619],\n",
       "         ...,\n",
       "         [-0.6116, -0.7819],\n",
       "         [-0.6078, -0.7865],\n",
       "         [-0.6630, -0.7242]], grad_fn=<LogSoftmaxBackward0>),\n",
       " [tensor([0.2297, 0.1383, 0.3199, 0.1342, 0.1779, 0.2340, 0.1518, 0.1915, 0.1504,\n",
       "          0.2723, 0.2220, 0.1993, 0.3068, 0.1435, 0.1284, 0.1426, 0.1238, 0.2821,\n",
       "          0.3278, 0.1237, 0.3412, 0.1396, 0.1430, 0.1399, 0.2364, 0.1654, 0.1563,\n",
       "          0.3284, 0.1694, 0.1805, 0.3413, 0.1703, 0.1779, 0.1734, 0.1371, 0.1720,\n",
       "          0.1719, 0.2396, 0.2075, 0.2090, 0.2439, 0.1200, 0.3098, 0.1197, 0.2066,\n",
       "          0.2018, 0.1853, 0.2114, 0.1476, 0.2539, 0.1997, 0.1307, 0.2839, 0.1181,\n",
       "          0.2676, 0.1535, 0.2301, 0.1778, 0.1824, 0.2563, 0.1593, 0.1195, 0.1968,\n",
       "          0.1269, 0.3975, 0.1918, 0.2323, 0.2114, 0.1365, 0.2280, 0.2361, 0.2036,\n",
       "          0.2428, 0.1441, 0.1734, 0.2422, 0.2012, 0.1953, 0.1795, 0.1818, 0.1745,\n",
       "          0.1737, 0.2775, 0.1948, 0.1795, 0.1546, 0.1491, 0.2497, 0.2865, 0.1601,\n",
       "          0.2164, 0.1529, 0.1799, 0.1526, 0.2982, 0.1562, 0.1589, 0.2125, 0.3004,\n",
       "          0.1720], grad_fn=<MeanBackward1>),\n",
       "  tensor([0.2812, 0.1944, 0.1683, 0.1831, 0.1731, 0.3160, 0.1059, 0.3983, 0.0894,\n",
       "          0.0904, 0.1261, 0.1727, 0.2144, 0.1475, 0.3393, 0.1391, 0.1144, 0.4692,\n",
       "          0.1444, 0.1329, 0.2027, 0.1848, 0.1910, 0.1849, 0.2365, 0.2584, 0.1426,\n",
       "          0.2036, 0.1368, 0.2586, 0.2964, 0.1774, 0.1968, 0.1392, 0.1903, 0.1939,\n",
       "          0.2428, 0.1992, 0.1283, 0.2358, 0.1393, 0.1781, 0.3633, 0.1395, 0.1798,\n",
       "          0.2013, 0.1625, 0.1621, 0.2268, 0.2473, 0.2297, 0.1459, 0.1470, 0.1533,\n",
       "          0.3241, 0.1414, 0.1334, 0.2662, 0.2966, 0.1625, 0.2326, 0.1339, 0.1789,\n",
       "          0.1948, 0.2598, 0.1375, 0.1211, 0.3215, 0.1255, 0.2944, 0.1604, 0.1747,\n",
       "          0.3201, 0.1268, 0.2180, 0.2920, 0.1584, 0.1709, 0.1744, 0.2042, 0.2151,\n",
       "          0.1533, 0.2288, 0.1877, 0.2152, 0.1922, 0.1524, 0.2622, 0.2291, 0.1641,\n",
       "          0.2365, 0.1784, 0.2153, 0.1769, 0.1929, 0.1547, 0.2305, 0.1688, 0.1457,\n",
       "          0.3003], grad_fn=<MeanBackward1>),\n",
       "  tensor([0.2836, 0.1511, 0.1434, 0.2273, 0.1946, 0.1864, 0.3168, 0.1410, 0.1618,\n",
       "          0.1940, 0.2323, 0.1395, 0.3673, 0.1146, 0.1463, 0.1101, 0.1081, 0.5656,\n",
       "          0.1081, 0.1081, 0.1905, 0.2106, 0.2245, 0.1867, 0.1878, 0.2215, 0.1460,\n",
       "          0.2070, 0.1163, 0.3092, 0.1945, 0.1864, 0.1578, 0.2330, 0.2283, 0.1851,\n",
       "          0.1651, 0.2308, 0.1620, 0.2570, 0.1325, 0.1270, 0.4597, 0.1270, 0.1539,\n",
       "          0.2153, 0.1418, 0.2284, 0.1550, 0.2595, 0.1848, 0.1799, 0.1926, 0.2086,\n",
       "          0.2341, 0.3298, 0.0584, 0.0733, 0.3144, 0.2241, 0.3460, 0.1632, 0.1863,\n",
       "          0.1518, 0.1527, 0.1964, 0.2501, 0.1546, 0.1728, 0.2260, 0.2651, 0.1773,\n",
       "          0.1151, 0.2271, 0.2155, 0.2413, 0.1485, 0.3096, 0.1488, 0.1518, 0.2490,\n",
       "          0.1490, 0.1488, 0.2084, 0.2447, 0.1546, 0.1881, 0.1611, 0.1898, 0.3063,\n",
       "          0.1935, 0.2214, 0.2177, 0.1965, 0.1709, 0.4183, 0.1626, 0.1203, 0.1738,\n",
       "          0.1250], grad_fn=<MeanBackward1>)])"
      ]
     },
     "execution_count": 51,
     "metadata": {},
     "output_type": "execute_result"
    }
   ],
   "source": [
    "test_model(train_data[\"input\"])"
   ]
  },
  {
   "cell_type": "markdown",
   "id": "45b3ff17",
   "metadata": {},
   "source": [
    "# 大的test"
   ]
  },
  {
   "cell_type": "code",
   "execution_count": null,
   "id": "07a1cd94",
   "metadata": {},
   "outputs": [],
   "source": []
  },
  {
   "cell_type": "code",
   "execution_count": 84,
   "id": "e9b73f30",
   "metadata": {},
   "outputs": [],
   "source": [
    "# class AML_model(nn.Module):\n",
    "\n",
    "#     def __init__(self, num_feature, num_hidden, num_attention, num_hidden_2=128,num_classes=2,num_head=10):\n",
    "\n",
    "#         super().__init__()\n",
    "#         self.num_feature = num_feature\n",
    "#         self.num_hidden = num_hidden\n",
    "#         self.num_attention = num_attention\n",
    "#         self.num_classes = num_classes\n",
    "#         self.num_head=num_head\n",
    "#         self.num_hidden_2=num_hidden_2\n",
    "\n",
    "#         self.shared = nn.Sequential(\n",
    "#             nn.Linear(self.num_feature, self.num_hidden),\n",
    "#             nn.ReLU(),\n",
    "#         )\n",
    "#         for layer in self.shared:\n",
    "#             if isinstance(layer, nn.Linear):\n",
    "#                 nn.init.xavier_uniform_(layer.weight.data, gain=nn.init.calculate_gain('relu'))\n",
    "        \n",
    "#         self.attention_net =  nn.Sequential(\n",
    "#              nn.Linear(self.num_hidden, self.num_attention),\n",
    "#              nn.ReLU(),\n",
    "#              nn.Softmax(dim=1))\n",
    "#         self.multi_attention_net=clones(nn.Sequential(\n",
    "#              nn.Linear(self.num_hidden//self.num_head, self.num_attention//self.num_head),\n",
    "#              nn.ReLU(),\n",
    "#              nn.Softmax(dim=1)),self.num_head)\n",
    "#         for layer in self.attention_net:\n",
    "#             if isinstance(layer, nn.Linear):\n",
    "#                 nn.init.xavier_uniform_(layer.weight.data, gain=nn.init.calculate_gain('relu'))\n",
    "#         for idx in range(self.num_head):\n",
    "#             for layer in self.multi_attention_net[idx]:\n",
    "#                 if isinstance(layer, nn.Linear):\n",
    "#                     nn.init.xavier_uniform_(layer.weight.data, gain=nn.init.calculate_gain('relu'))\n",
    "\n",
    "#         self.logic = nn.Sequential(\n",
    "#              nn.Linear(self.num_hidden, self.num_hidden_2),\n",
    "#              nn.ReLU(),\n",
    "#              nn.Linear(self.num_hidden_2, self.num_hidden_2//2),\n",
    "#              nn.ReLU(),\n",
    "#              nn.Linear(self.num_hidden_2 // 2, 1),\n",
    "#              #nn.Linear(self.num_hidden, 1)\n",
    "#         )\n",
    "#         for layer in self.logic:\n",
    "#             if isinstance(layer, nn.Linear):\n",
    "#                 nn.init.xavier_uniform_(layer.weight.data, gain=nn.init.calculate_gain('relu'))\n",
    "\n",
    "#     def forward(self, x):\n",
    "\n",
    "#         #x=self.shared(x)\n",
    "# #         attention_temp = F.relu(torch.tensordot(\n",
    "# #             x, self.attention_W, dims=([-1], [0])) + self.attention_b)\n",
    "# #         attention_temp =torch.tensordot(\n",
    "# #             x, self.attention_W, dims=([-1], [0])) + self.attention_b\n",
    "# #         normalized_att_score = F.softmax(torch.tensordot(\n",
    "# #             attention_temp, self.projection_h, dims=([-1], [0])), dim=1)\n",
    "# #         normalized_att_score = F.softmax(\n",
    "# #             attention_temp,dim=1)\n",
    "# #         normalized_att_score = self.attention_net(x)\n",
    "#         list1=[layer(x.view(x.shape[0],self.num_head,self.num_hidden//self.num_head)[:,idx,:]) \\\n",
    "#                for idx,layer in enumerate(self.multi_attention_net)]\n",
    "#         normalized_att_score=torch.concat(list1,dim=1)\n",
    "#         x = x * normalized_att_score\n",
    "#         x = self.logic(x)\n",
    "\n",
    "#         return x,torch.mean(normalized_att_score,dim=0)"
   ]
  },
  {
   "cell_type": "code",
   "execution_count": 58,
   "id": "9c8c4acb",
   "metadata": {},
   "outputs": [],
   "source": [
    "# class AML_model(nn.Module):\n",
    "\n",
    "#     def __init__(self, num_feature, num_hidden, num_attention, num_classes=2, num_head=5,\n",
    "#                  shared=True, attention=True):\n",
    "\n",
    "#         super().__init__()\n",
    "#         self.num_feature = num_feature\n",
    "#         self.num_hidden = num_hidden\n",
    "#         self.num_attention = num_attention\n",
    "#         self.num_classes = num_classes\n",
    "#         self.num_head = num_head\n",
    "#         self.shared=shared\n",
    "#         self.attention=attention\n",
    "\n",
    "#         self.shared = nn.Sequential(\n",
    "#             nn.Linear(self.num_feature, self.num_hidden),\n",
    "#             nn.ReLU(),\n",
    "#         )\n",
    "#         for layer in self.shared:\n",
    "#             if isinstance(layer, nn.Linear):\n",
    "#                 nn.init.xavier_uniform_(layer.weight.data, gain=nn.init.calculate_gain('relu'))\n",
    "\n",
    "#         #         self.attention_W = nn.Parameter(torch.Tensor(\n",
    "#         #             self.num_hidden, self.num_attention))\n",
    "#         #         self.projection_h = nn.Parameter(torch.Tensor(\n",
    "#         #             self.num_attention, self.num_hidden))\n",
    "#         #         for tensor in [self.attention_W, self.projection_h]:\n",
    "#         #             nn.init.xavier_normal_(tensor, gain=nn.init.calculate_gain('relu'))\n",
    "\n",
    "#         #         self.attention_b = nn.Parameter(torch.Tensor(self.num_attention))\n",
    "#         #         for tensor in [self.attention_b]:\n",
    "#         #             nn.init.zeros_(tensor, )\n",
    "\n",
    "#         self.attention_net = nn.Sequential(\n",
    "#             nn.Linear(self.num_hidden, self.num_attention),\n",
    "#             nn.ReLU(),\n",
    "#             nn.Softmax(dim=1))\n",
    "#         assert self.num_hidden % self.num_head == 0 and self.num_attention % self.num_head==0\n",
    "#         self.multi_attention_net = clones(nn.Sequential(\n",
    "#             nn.Linear(self.num_hidden // self.num_head, self.num_attention // self.num_head),\n",
    "#             nn.ReLU(),\n",
    "#             nn.Linear(self.num_attention // self.num_head, self.num_hidden // self.num_head),\n",
    "#             nn.Softmax(dim=1)), self.num_head)\n",
    "#         for layer in self.attention_net:\n",
    "#             if isinstance(layer, nn.Linear):\n",
    "#                 nn.init.xavier_uniform_(layer.weight.data, gain=nn.init.calculate_gain('relu'))\n",
    "#         for idx in range(self.num_head):\n",
    "#             for layer in self.multi_attention_net[idx]:\n",
    "#                 if isinstance(layer, nn.Linear):\n",
    "#                     nn.init.xavier_uniform_(layer.weight.data, gain=nn.init.calculate_gain('relu'))\n",
    "\n",
    "#         self.logic = nn.Sequential(\n",
    "#             nn.Linear(self.num_hidden, self.num_hidden // 2),\n",
    "#             nn.ReLU(),\n",
    "#             nn.Linear(self.num_hidden // 2, 1),\n",
    "#             # nn.Linear(self.num_hidden, 1)\n",
    "#         )\n",
    "#         for layer in self.logic:\n",
    "#             if isinstance(layer, nn.Linear):\n",
    "#                 nn.init.xavier_uniform_(layer.weight.data, gain=nn.init.calculate_gain('relu'))\n",
    "\n",
    "#     def forward(self, x):\n",
    "\n",
    "#         # x=self.shared(x)\n",
    "#         #         attention_temp = F.relu(torch.tensordot(\n",
    "#         #             x, self.attention_W, dims=([-1], [0])) + self.attention_b)\n",
    "#         #         attention_temp =torch.tensordot(\n",
    "#         #             x, self.attention_W, dims=([-1], [0])) + self.attention_b\n",
    "#         #         normalized_att_score = F.softmax(torch.tensordot(\n",
    "#         #             attention_temp, self.projection_h, dims=([-1], [0])), dim=1)\n",
    "#         #         normalized_att_score = F.softmax(\n",
    "#         #             attention_temp,dim=1)\n",
    "#         #         normalized_att_score = self.attention_net(x)\n",
    "#         if self.shared:\n",
    "#             x=self.shared(x)\n",
    "\n",
    "#         if self.attention:\n",
    "#             list1 = [layer(x.view(x.shape[0], self.num_head, self.num_hidden // self.num_head)[:, idx, :]) \\\n",
    "#                      for idx, layer in enumerate(self.multi_attention_net)]\n",
    "#             normalized_att_score = torch.concat(list1, dim=1)\n",
    "#             x = x * normalized_att_score\n",
    "#         x = self.logic(x)\n",
    "\n",
    "#         if self.attention:\n",
    "#             return x, torch.mean(normalized_att_score, dim=0)\n",
    "#         else:\n",
    "#             return x"
   ]
  },
  {
   "cell_type": "code",
   "execution_count": 325,
   "id": "82efdd47",
   "metadata": {},
   "outputs": [],
   "source": [
    "class AML_model(nn.Module):\n",
    "\n",
    "    def __init__(self, num_feature, num_hidden, num_attention, num_hidden_2, num_classes=2, num_head=5,\n",
    "                 shared=True, attention=True,expand=True):\n",
    "\n",
    "        super().__init__()\n",
    "        self.num_feature = num_feature\n",
    "        self.num_hidden = num_hidden\n",
    "        self.num_attention = num_attention\n",
    "        self.num_classes = num_classes\n",
    "        self.num_head = num_head\n",
    "        self.num_hidden_2 = num_hidden_2\n",
    "        self.shared=shared\n",
    "        self.attention=attention\n",
    "        self.expand=expand\n",
    "\n",
    "        self.shared_layer = nn.Sequential(\n",
    "            nn.Linear(self.num_feature, self.num_hidden),\n",
    "            nn.ReLU(),\n",
    "        )\n",
    "        for layer in self.shared_layer:\n",
    "            if isinstance(layer, nn.Linear):\n",
    "                nn.init.xavier_uniform_(layer.weight.data, gain=nn.init.calculate_gain('relu'))\n",
    "\n",
    "        self.attention_net = nn.Sequential(\n",
    "            nn.Linear(self.num_hidden, self.num_attention),\n",
    "            nn.ReLU(),\n",
    "            nn.Softmax(dim=1))\n",
    "        assert self.num_hidden % self.num_head == 0 and self.num_attention % self.num_head==0\n",
    "        self.multi_attention_net = clones(nn.Sequential(\n",
    "            nn.Linear(self.num_hidden // self.num_head, self.num_attention // self.num_head),\n",
    "            nn.ReLU(),\n",
    "            #nn.Linear(self.num_attention // self.num_head, self.num_hidden // self.num_head),\n",
    "            nn.Softmax(dim=1)), self.num_head)\n",
    "        for layer in self.attention_net:\n",
    "            if isinstance(layer, nn.Linear):\n",
    "                nn.init.xavier_uniform_(layer.weight.data, gain=nn.init.calculate_gain('relu'))\n",
    "        for idx in range(self.num_head):\n",
    "            for layer in self.multi_attention_net[idx]:\n",
    "                if isinstance(layer, nn.Linear):\n",
    "                    nn.init.xavier_uniform_(layer.weight.data, gain=nn.init.calculate_gain('relu'))\n",
    "\n",
    "        # self.logic = nn.Sequential(\n",
    "        #     nn.Linear(self.num_hidden, self.num_hidden // 2),\n",
    "        #     nn.ReLU(),\n",
    "        #     nn.Linear(self.num_hidden // 2, 1),\n",
    "        #     # nn.Linear(self.num_hidden, 1)\n",
    "        # )\n",
    "        if self.expand:\n",
    "            self.into_logic = self.num_hidden * 2\n",
    "            self.num_hidden_2 = self.num_hidden_2 * 2\n",
    "        else:\n",
    "            self.into_logic = self.num_hidden\n",
    "\n",
    "        self.logic = nn.Sequential(\n",
    "             nn.Linear(self.into_logic, self.num_hidden_2),\n",
    "             nn.ReLU(),\n",
    "             nn.Linear(self.num_hidden_2, self.num_hidden_2//2),\n",
    "             nn.ReLU(),\n",
    "             nn.Linear(self.num_hidden_2 // 2, 1),\n",
    "             #nn.Linear(self.num_hidden, 1)\n",
    "        )\n",
    "        for layer in self.logic:\n",
    "            if isinstance(layer, nn.Linear):\n",
    "                nn.init.xavier_uniform_(layer.weight.data, gain=nn.init.calculate_gain('relu'))\n",
    "\n",
    "    def forward(self, x):\n",
    "        if self.shared:\n",
    "            x = self.shared_layer(x)\n",
    "\n",
    "        if self.attention:\n",
    "            list1 = [layer(x.view(x.shape[0], self.num_head, self.num_hidden // self.num_head)[:, idx, :]) \\\n",
    "                     for idx, layer in enumerate(self.multi_attention_net)]\n",
    "            normalized_att_score = torch.concat(list1, dim=1)\n",
    "            selected = x * normalized_att_score\n",
    "            if self.expand:\n",
    "                x = torch.concat([x, selected], dim=1)\n",
    "            elif not self.expand:\n",
    "                x = selected\n",
    "\n",
    "        x = self.logic(x)\n",
    "        if self.attention:\n",
    "            return x, torch.mean(normalized_att_score, dim=0)\n",
    "        else:\n",
    "            return x"
   ]
  },
  {
   "cell_type": "code",
   "execution_count": 335,
   "id": "48115d39",
   "metadata": {},
   "outputs": [],
   "source": [
    "def fit_his_unit(train_loader,path, RESUME=False, shared=True, attention=True, expand=True):\n",
    "    model=AML_model(100,100,100,128,2,20,shared=shared,attention=attention,expand = expand).to(device)\n",
    "    #model=AML_model(99,99,99).to(device)\n",
    "    optimizer = getattr(torch.optim, CFG.optimizer)(model.parameters(), lr=CFG.lr)  # 优化器\n",
    "    scheduler = getattr(torch.optim.lr_scheduler, CFG.scheduler)(optimizer, gamma=CFG.sc_Gamma)  # 指数型学习率\n",
    "    start_epoch=-1\n",
    "    if RESUME:\n",
    "        path_checkpoint = path+'/ckpt.pth'   # 断点路径\n",
    "        checkpoint = torch.load(path_checkpoint)  # 加载断点\n",
    "\n",
    "        model.load_state_dict(checkpoint['net'])  # 加载模型可学习参数\n",
    "\n",
    "        optimizer.load_state_dict(checkpoint['optimizer'])  # 加载优化器参数\n",
    "        start_epoch = checkpoint['epoch']  # 设置开始的epoch\n",
    "        scheduler.load_state_dict(checkpoint['scheduler'])\n",
    "\n",
    "\n",
    "    for epoch in range(start_epoch+1,CFG.epoches):\n",
    "        for data in train_loader:\n",
    "            if attention:\n",
    "                pred_batch = model(data[\"input\"].to(device))[0]\n",
    "            elif not attention:\n",
    "                pred_batch = model(data[\"input\"].to(device))\n",
    "            target_batch = data[\"RUL\"].unsqueeze(-1).to(device)\n",
    "            loss = F.mse_loss(pred_batch, target_batch.float())\n",
    "        # loss = loss_function(pred_batch, target_batch, train_data, test_data)\n",
    "            optimizer.zero_grad()\n",
    "            loss.backward()\n",
    "            optimizer.step()\n",
    "            scheduler.step()\n",
    "        # scheduler.step(loss,last_loss)\n",
    "        # last_loss = loss\n",
    "        if CFG.print_training_process and epoch % 100 == 0:\n",
    "            print(f\"epoch:{epoch}, loss:{loss.item()},lr:{optimizer.state_dict()['param_groups'][0]['lr']}\")\n",
    "            checkpoint = {\n",
    "                \"net\": model.state_dict(),\n",
    "                'optimizer': optimizer.state_dict(),\n",
    "                \"epoch\": epoch,\n",
    "                'scheduler': scheduler.state_dict()\n",
    "            }\n",
    "            if not os.path.isdir(path):\n",
    "                os.mkdir(path)\n",
    "            torch.save(checkpoint,\n",
    "                       path+'/ckpt.pth')\n",
    "        if loss.mean() < CFG.jump_out_value:\n",
    "            save_model_weights(model, \"model_his.pt\",\n",
    "                               cp_folder=path)\n",
    "            break\n",
    "        elif epoch == (CFG.epoches - 1):\n",
    "            print(f\"epoch:{epoch}, loss:{loss.item()}\")\n",
    "            save_model_weights(model, \"model_his.pt\",\n",
    "                               cp_folder=path)"
   ]
  },
  {
   "cell_type": "code",
   "execution_count": 339,
   "id": "5146a573",
   "metadata": {},
   "outputs": [
    {
     "name": "stdout",
     "output_type": "stream",
     "text": [
      "epoch:0, loss:5013.71142578125,lr:0.09890548353295386\n",
      "epoch:100, loss:166.43272399902344,lr:0.032904660865335375\n",
      "epoch:200, loss:90.10308074951172,lr:0.010946983604827014\n",
      "\n",
      " -> Saving weights to ./model_checkpoints_at\\model_his.pt\n",
      "\n"
     ]
    }
   ],
   "source": [
    "fit_his_unit(train_encoded_loader,\"./model_checkpoints_at\", RESUME=False, shared=False, attention=True,expand=False)"
   ]
  },
  {
   "cell_type": "code",
   "execution_count": 340,
   "id": "407fe199",
   "metadata": {},
   "outputs": [
    {
     "data": {
      "text/plain": [
       "[<matplotlib.lines.Line2D at 0x2ccd6bd2be0>]"
      ]
     },
     "execution_count": 340,
     "metadata": {},
     "output_type": "execute_result"
    },
    {
     "data": {
      "image/png": "[encoded data removed]",
      "text/plain": [
       "<Figure size 432x288 with 1 Axes>"
      ]
     },
     "metadata": {
      "needs_background": "light"
     },
     "output_type": "display_data"
    }
   ],
   "source": [
    "aml_model=AML_model(100,100,100,128,2,20,shared=False,attention=True,expand = False).to(device)\n",
    "aml_model.load_state_dict(torch.load(\"./model_checkpoints_at/model_his.pt\"))\n",
    "plt.plot(aml_model(train_data[\"input\"].to(device))[1].cpu().detach().numpy())"
   ]
  },
  {
   "cell_type": "code",
   "execution_count": 341,
   "id": "2e82a356",
   "metadata": {},
   "outputs": [
    {
     "data": {
      "text/plain": [
       "2526.0"
      ]
     },
     "execution_count": 341,
     "metadata": {},
     "output_type": "execute_result"
    }
   ],
   "source": [
    "pred_1=[]\n",
    "for idx,test_data in enumerate(test_encoded_loader):\n",
    "    pred_1_q=aml_model(test_data[\"input\"].to(device))[0].item()\n",
    "    pred_1.append(pred_1_q)\n",
    "#RUL\n",
    "path = DATA_PATH+'RUL.csv'\n",
    "RUL_frame = pd.read_csv(path, header=None)\n",
    "RUL = RUL_frame.values[:, 0]\n",
    "RUL_y=pd.Series(RUL)\n",
    "RUL_y.index+=1\n",
    "np.sum(np.ceil((abs(np.array(pred_1)-RUL))))#目测结果"
   ]
  },
  {
   "cell_type": "code",
   "execution_count": 88,
   "id": "809dce14",
   "metadata": {},
   "outputs": [],
   "source": [
    "def fit_AML_model2_cls(train_loader,path, RESUME=False):\n",
    "    model=AML_model2(100,100,100,128,2,20).to(device)\n",
    "    #model=AML_model(99,99,99).to(device)\n",
    "    optimizer = getattr(torch.optim, CFG.optimizer)(model.parameters(), lr=0.001,weight_decay=0.001)  # 优化器\n",
    "    scheduler = getattr(torch.optim.lr_scheduler, CFG.scheduler)(optimizer, gamma=CFG.sc_Gamma)  # 指数型学习率\n",
    "    start_epoch=-1\n",
    "    if RESUME:\n",
    "        path_checkpoint = path+'/ckpt_aml_cls.pth'   # 断点路径\n",
    "        checkpoint = torch.load(path_checkpoint)  # 加载断点\n",
    "\n",
    "        model.load_state_dict(checkpoint['net'])  # 加载模型可学习参数\n",
    "\n",
    "        optimizer.load_state_dict(checkpoint['optimizer'])  # 加载优化器参数\n",
    "        start_epoch = checkpoint['epoch']  # 设置开始的epoch\n",
    "        #scheduler.load_state_dict(checkpoint['scheduler'])\n",
    "\n",
    "\n",
    "    for epoch in range(start_epoch+1,CFG.epoches):\n",
    "        for data in train_loader:\n",
    "            y_pred,cls_pred,weight_list=model(train_data[\"input\"].to(device))\n",
    "            y_pred=y_pred.unsqueeze(-1)\n",
    "            y_target=train_data[\"RUL\"].to(device).unsqueeze(-1).float()\n",
    "            cls_target=train_data[\"mode\"].to(device)\n",
    "            #loss=100*(-torch.sum(cls_pred*cls_target)/len(cls_pred))+F.mse_loss(y_pred,y_target)\n",
    "            loss=-torch.sum(cls_pred*cls_target)/len(cls_pred)\n",
    "        # loss = loss_function(pred_batch, target_batch, train_data, test_data)\n",
    "            optimizer.zero_grad()\n",
    "            loss.backward()\n",
    "            optimizer.step()\n",
    "            #scheduler.step()\n",
    "        # scheduler.step(loss,last_loss)\n",
    "        # last_loss = loss\n",
    "        if CFG.print_training_process and epoch % 100 == 0:\n",
    "            print(f\"epoch:{epoch}, loss:{loss.item()},lr:{optimizer.state_dict()['param_groups'][0]['lr']}\")\n",
    "            checkpoint = {\n",
    "                \"net\": model.state_dict(),\n",
    "                'optimizer': optimizer.state_dict(),\n",
    "                \"epoch\": epoch,\n",
    "                #'scheduler': scheduler.state_dict()\n",
    "            }\n",
    "            if not os.path.isdir(path):\n",
    "                os.mkdir(path)\n",
    "            torch.save(checkpoint,\n",
    "                       path+'/ckpt_aml_cls.pth')\n",
    "        if loss.mean() < 0.006:\n",
    "            save_model_weights(model, \"model_his_aml_cls.pt\",\n",
    "                               cp_folder=path)\n",
    "            break\n",
    "        elif epoch == (CFG.epoches - 1):\n",
    "            print(f\"epoch:{epoch}, loss:{loss.item()}\")\n",
    "            save_model_weights(model, \"model_his_aml_cls.pt\",\n",
    "                               cp_folder=path)"
   ]
  },
  {
   "cell_type": "code",
   "execution_count": 89,
   "id": "3a194fa8",
   "metadata": {},
   "outputs": [
    {
     "name": "stdout",
     "output_type": "stream",
     "text": [
      "epoch:0, loss:0.4049186706542969,lr:0.001\n",
      "\n",
      " -> Saving weights to ./model_checkpoints_at\\model_his_aml_cls.pt\n",
      "\n"
     ]
    }
   ],
   "source": [
    "fit_AML_model2_cls(train_encoded_loader,\"./model_checkpoints_at\", RESUME=False)"
   ]
  },
  {
   "cell_type": "code",
   "execution_count": 90,
   "id": "5ace4d58",
   "metadata": {},
   "outputs": [],
   "source": [
    "def fit_AML_model2(train_loader,path, RESUME=False):\n",
    "    model=AML_model2(100,100,100,128,2,20,fix_mode_part=True).to(device)\n",
    "    model.load_state_dict(torch.load(\"./model_checkpoints_at/model_his_aml_cls.pt\"))\n",
    "    #model=AML_model(99,99,99).to(device)\n",
    "    optimizer = getattr(torch.optim, CFG.optimizer)(filter(lambda p: p.requires_grad, model.parameters()), \n",
    "                                                    lr=CFG.lr,weight_decay=0.1)  # 优化器\n",
    "    scheduler = getattr(torch.optim.lr_scheduler, CFG.scheduler)(optimizer, gamma=CFG.sc_Gamma)  # 指数型学习率\n",
    "    start_epoch=-1\n",
    "    if RESUME:\n",
    "        path_checkpoint = path+'/ckpt_aml.pth'   # 断点路径\n",
    "        checkpoint = torch.load(path_checkpoint)  # 加载断点\n",
    "\n",
    "        model.load_state_dict(checkpoint['net'])  # 加载模型可学习参数\n",
    "\n",
    "        optimizer.load_state_dict(checkpoint['optimizer'])  # 加载优化器参数\n",
    "        start_epoch = checkpoint['epoch']  # 设置开始的epoch\n",
    "        scheduler.load_state_dict(checkpoint['scheduler'])\n",
    "\n",
    "\n",
    "    for epoch in range(start_epoch+1,CFG.epoches):\n",
    "        for data in train_loader:\n",
    "            y_pred,cls_pred,weight_list=model(train_data[\"input\"].to(device))\n",
    "            y_pred=y_pred.unsqueeze(-1)\n",
    "            y_target=train_data[\"RUL\"].to(device).unsqueeze(-1).float()\n",
    "            cls_target=train_data[\"mode\"].to(device)\n",
    "            loss=F.mse_loss(y_pred,y_target)\n",
    "        # loss = loss_function(pred_batch, target_batch, train_data, test_data)\n",
    "            optimizer.zero_grad()\n",
    "            loss.backward()\n",
    "            optimizer.step()\n",
    "            scheduler.step()\n",
    "        # scheduler.step(loss,last_loss)\n",
    "        # last_loss = loss\n",
    "        if CFG.print_training_process and epoch % 100 == 0:\n",
    "            print(f\"epoch:{epoch}, loss:{loss.item()},lr:{optimizer.state_dict()['param_groups'][0]['lr']}\")\n",
    "            checkpoint = {\n",
    "                \"net\": model.state_dict(),\n",
    "                'optimizer': optimizer.state_dict(),\n",
    "                \"epoch\": epoch,\n",
    "                'scheduler': scheduler.state_dict()\n",
    "            }\n",
    "            if not os.path.isdir(path):\n",
    "                os.mkdir(path)\n",
    "            torch.save(checkpoint,\n",
    "                       path+'/ckpt_aml.pth')\n",
    "        if loss.mean() < CFG.jump_out_value:\n",
    "            save_model_weights(model, \"model_his_aml.pt\",\n",
    "                               cp_folder=path)\n",
    "            break\n",
    "        elif epoch == (CFG.epoches - 1):\n",
    "            print(f\"epoch:{epoch}, loss:{loss.item()}\")\n",
    "            save_model_weights(model, \"model_his_aml.pt\",\n",
    "                               cp_folder=path)"
   ]
  },
  {
   "cell_type": "code",
   "execution_count": 91,
   "id": "fa505398",
   "metadata": {},
   "outputs": [
    {
     "name": "stdout",
     "output_type": "stream",
     "text": [
      "epoch:0, loss:4307.39453125,lr:0.09890548353295386\n",
      "\n",
      " -> Saving weights to ./model_checkpoints_at\\model_his_aml.pt\n",
      "\n"
     ]
    }
   ],
   "source": [
    "fit_AML_model2(train_encoded_loader,\"./model_checkpoints_at\", RESUME=False)"
   ]
  },
  {
   "cell_type": "code",
   "execution_count": 98,
   "id": "5601b183",
   "metadata": {},
   "outputs": [
    {
     "data": {
      "text/plain": [
       "[<matplotlib.lines.Line2D at 0x1d8cdf884f0>]"
      ]
     },
     "execution_count": 98,
     "metadata": {},
     "output_type": "execute_result"
    },
    {
     "data": {
      "image/png": "[encoded data removed]",
      "text/plain": [
       "<Figure size 432x288 with 1 Axes>"
      ]
     },
     "metadata": {
      "needs_background": "light"
     },
     "output_type": "display_data"
    }
   ],
   "source": [
    "aml_model_2=AML_model2(100,100,100,128,2,20,shared=False,attention=True,expand = False).to(device)\n",
    "aml_model_2.load_state_dict(torch.load(\"./model_checkpoints_at/model_his_aml.pt\"))\n",
    "plt.plot(aml_model_2(train_data[\"input\"].to(device))[2][0].cpu().detach().numpy())"
   ]
  },
  {
   "cell_type": "code",
   "execution_count": 99,
   "id": "c27487c7",
   "metadata": {},
   "outputs": [
    {
     "data": {
      "text/plain": [
       "3488.0"
      ]
     },
     "execution_count": 99,
     "metadata": {},
     "output_type": "execute_result"
    }
   ],
   "source": [
    "pred_2=[]\n",
    "for idx,test_data in enumerate(test_encoded_loader):\n",
    "    pred_2_q=aml_model_2(test_data[\"input\"].to(device))[0].item()\n",
    "    pred_2.append(pred_2_q)\n",
    "#RUL\n",
    "path = DATA_PATH+'RUL.csv'\n",
    "RUL_frame = pd.read_csv(path, header=None)\n",
    "RUL = RUL_frame.values[:, 0]\n",
    "RUL_y=pd.Series(RUL)\n",
    "RUL_y.index+=1\n",
    "np.sum(np.ceil((abs(np.array(pred_2)-RUL))))#目测结果"
   ]
  },
  {
   "cell_type": "code",
   "execution_count": 43,
   "id": "2d42682e",
   "metadata": {},
   "outputs": [
    {
     "data": {
      "text/plain": [
       "2642.0"
      ]
     },
     "execution_count": 43,
     "metadata": {},
     "output_type": "execute_result"
    }
   ],
   "source": [
    "aml_model2=AML_model2(100,100,100).to(device)\n",
    "aml_model2.load_state_dict(torch.load(\"./model_checkpoints_at/model_his_aml.pt\"))\n",
    "pred_2=[]\n",
    "mode=[]\n",
    "for idx,test_data in enumerate(test_encoded_loader):\n",
    "    pred_2_q=aml_model2(test_data[\"input\"].to(device))[0].item()\n",
    "    \n",
    "    pred_2.append(pred_2_q)\n",
    "    mode_q=-torch.inner(aml_model2(test_data[\"input\"].to(device))[1],test_data[\"mode\"].to(device)).item()\n",
    "    mode.append(mode_q)\n",
    "    \n",
    "#RUL\n",
    "path = DATA_PATH+'RUL.csv'\n",
    "RUL_frame = pd.read_csv(path, header=None)\n",
    "RUL = RUL_frame.values[:, 0]\n",
    "RUL_y=pd.Series(RUL)\n",
    "RUL_y.index+=1\n",
    "np.sum(np.ceil((abs(np.array(pred_2)-RUL))))#目测结果\n"
   ]
  },
  {
   "cell_type": "code",
   "execution_count": 35,
   "id": "78c48b01",
   "metadata": {},
   "outputs": [
    {
     "data": {
      "text/plain": [
       "{'input': tensor([[-0.6516,  0.9537,  0.4313,  0.6316,  0.4852,  0.6044,  0.6689,  0.5339,\n",
       "           0.9744,  0.7544, -0.8227, -0.8474,  0.9964, -0.7776,  0.8772,  0.9623,\n",
       "           0.3811,  0.4667,  0.6442,  0.6955, -0.5386,  0.5100,  0.5582,  0.9961,\n",
       "           0.9415,  0.6337,  0.6884,  0.8656,  0.0082, -0.2054,  0.5558, -0.9292,\n",
       "          -0.7807,  0.9843,  0.8102,  0.8632, -0.2222,  0.1831,  0.4875,  0.3835,\n",
       "           0.2793,  0.4744,  0.6917,  0.2636, -0.9344,  0.9273,  0.5795,  0.8640,\n",
       "          -0.2302,  0.4191,  0.5585,  0.5983,  0.9741,  0.7460, -0.4702, -0.9382,\n",
       "          -0.7738,  0.9507,  0.5952,  0.2157,  0.3846,  0.4177,  0.6884,  0.9569,\n",
       "           0.2910,  0.7061,  0.6683,  0.8777,  0.9718,  0.9697,  0.8225, -0.1723,\n",
       "          -0.6516, -0.9124,  0.8966,  0.8027,  0.6749, -0.9869, -0.4269, -0.8575,\n",
       "           0.8966,  0.5735, -0.8958,  0.9650, -0.9082,  0.3113,  0.9846,  0.3932,\n",
       "           0.6145,  0.7878,  0.3720,  0.6824, -0.6412,  0.8821,  0.5305,  0.8632,\n",
       "           0.4072,  0.5735, -0.7456,  0.0105]]),\n",
       " 'lifetime': tensor([152]),\n",
       " 'mode': tensor([[0., 1.]])}"
      ]
     },
     "execution_count": 35,
     "metadata": {},
     "output_type": "execute_result"
    }
   ],
   "source": [
    "test_data"
   ]
  },
  {
   "cell_type": "code",
   "execution_count": 36,
   "id": "a0789049",
   "metadata": {},
   "outputs": [
    {
     "data": {
      "text/plain": [
       "(tensor([12.4829], device='cuda:0', grad_fn=<SumBackward1>),\n",
       " tensor([[-1.3735e+01, -1.0729e-06]], device='cuda:0',\n",
       "        grad_fn=<LogSoftmaxBackward0>),\n",
       " tensor([[175.5587]], device='cuda:0', grad_fn=<AddmmBackward0>),\n",
       " tensor([[12.4827]], device='cuda:0', grad_fn=<AddmmBackward0>))"
      ]
     },
     "execution_count": 36,
     "metadata": {},
     "output_type": "execute_result"
    }
   ],
   "source": [
    "aml_model2(test_data[\"input\"].to(device))"
   ]
  },
  {
   "cell_type": "code",
   "execution_count": 37,
   "id": "cad1c97b",
   "metadata": {},
   "outputs": [
    {
     "data": {
      "text/plain": [
       "(tensor([173.2134,  94.5012,  33.1462,  ...,  84.7558, 223.0027, 452.1570],\n",
       "        device='cuda:0', grad_fn=<SumBackward1>),\n",
       " tensor([[-3.7610e-03, -5.5849e+00],\n",
       "         [-1.3238e+01, -1.7881e-06],\n",
       "         [-1.0753e+01, -2.1338e-05],\n",
       "         ...,\n",
       "         [-1.2598e+01, -3.3379e-06],\n",
       "         [-1.3404e+01, -1.5497e-06],\n",
       "         [-5.8712e+00, -2.8235e-03]], device='cuda:0',\n",
       "        grad_fn=<LogSoftmaxBackward0>),\n",
       " tensor([[172.6836],\n",
       "         [211.8717],\n",
       "         [189.1051],\n",
       "         ...,\n",
       "         [243.2878],\n",
       "         [124.3543],\n",
       "         [293.8671]], device='cuda:0', grad_fn=<AddmmBackward0>),\n",
       " tensor([[313.8056],\n",
       "         [ 94.5010],\n",
       "         [ 33.1429],\n",
       "         ...,\n",
       "         [ 84.7552],\n",
       "         [223.0029],\n",
       "         [452.6045]], device='cuda:0', grad_fn=<AddmmBackward0>))"
      ]
     },
     "execution_count": 37,
     "metadata": {},
     "output_type": "execute_result"
    }
   ],
   "source": [
    "aml_model2(train_data[\"input\"].to(device))"
   ]
  },
  {
   "cell_type": "code",
   "execution_count": 38,
   "id": "0c58130e",
   "metadata": {},
   "outputs": [
    {
     "data": {
      "text/plain": [
       "{'input': tensor([[-0.1067, -0.4864, -0.1129,  ...,  0.1114, -0.7733,  0.0446],\n",
       "         [-0.8057,  0.8836, -0.5841,  ...,  0.1195, -0.8508,  0.1009],\n",
       "         [-0.7675,  0.8767,  0.1832,  ...,  0.6308, -0.7961,  0.0368],\n",
       "         ...,\n",
       "         [-0.8197,  0.9048, -0.2119,  ...,  0.2881, -0.8256,  0.0467],\n",
       "         [-0.8739,  0.5057, -0.5439,  ...,  0.1579, -0.9376,  0.2967],\n",
       "         [-0.8657,  0.3416, -0.8772,  ...,  0.1663, -0.9487,  0.0443]]),\n",
       " 'RUL': tensor([193, 106,  41,  ...,  86, 233, 460]),\n",
       " 'mode': tensor([[1., 0.],\n",
       "         [0., 1.],\n",
       "         [0., 1.],\n",
       "         ...,\n",
       "         [0., 1.],\n",
       "         [0., 1.],\n",
       "         [0., 1.]])}"
      ]
     },
     "execution_count": 38,
     "metadata": {},
     "output_type": "execute_result"
    }
   ],
   "source": [
    "train_data"
   ]
  },
  {
   "cell_type": "code",
   "execution_count": 39,
   "id": "82f10f86",
   "metadata": {},
   "outputs": [
    {
     "data": {
      "text/plain": [
       "tensor(0.9980)"
      ]
     },
     "execution_count": 39,
     "metadata": {},
     "output_type": "execute_result"
    }
   ],
   "source": [
    "torch.exp(torch.tensor(-0.002))"
   ]
  },
  {
   "cell_type": "code",
   "execution_count": 40,
   "id": "3e942b96",
   "metadata": {},
   "outputs": [
    {
     "data": {
      "text/plain": [
       "tensor([0.2689, 0.7311])"
      ]
     },
     "execution_count": 40,
     "metadata": {},
     "output_type": "execute_result"
    }
   ],
   "source": [
    "torch.exp(F.log_softmax(torch.FloatTensor([5,6]),dim=-1))"
   ]
  },
  {
   "cell_type": "code",
   "execution_count": 41,
   "id": "489dd8b8",
   "metadata": {},
   "outputs": [
    {
     "data": {
      "text/plain": [
       "tensor([0.2689, 0.7311])"
      ]
     },
     "execution_count": 41,
     "metadata": {},
     "output_type": "execute_result"
    }
   ],
   "source": [
    "F.softmax(torch.FloatTensor([5,6]),dim=-1)"
   ]
  },
  {
   "cell_type": "code",
   "execution_count": null,
   "id": "6a807baa",
   "metadata": {},
   "outputs": [],
   "source": []
  }
 ],
 "metadata": {
  "kernelspec": {
   "display_name": "Python 3",
   "language": "python",
   "name": "python3"
  },
  "language_info": {
   "codemirror_mode": {
    "name": "ipython",
    "version": 3
   },
   "file_extension": ".py",
   "mimetype": "text/x-python",
   "name": "python",
   "nbconvert_exporter": "python",
   "pygments_lexer": "ipython3",
   "version": "3.8.8"
  }
 },
 "nbformat": 4,
 "nbformat_minor": 5
}
