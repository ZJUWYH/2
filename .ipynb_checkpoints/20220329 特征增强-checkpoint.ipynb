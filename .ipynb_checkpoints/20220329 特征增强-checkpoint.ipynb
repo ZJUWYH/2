{
 "cells": [
  {
   "cell_type": "code",
   "execution_count": 1,
   "id": "32367af4",
   "metadata": {},
   "outputs": [],
   "source": [
    "from tsfresh_feature_extraction import *"
   ]
  },
  {
   "cell_type": "code",
   "execution_count": 2,
   "id": "a880fdfd",
   "metadata": {},
   "outputs": [],
   "source": [
    "set_seed(612)"
   ]
  },
  {
   "cell_type": "code",
   "execution_count": 3,
   "id": "c483dd3c",
   "metadata": {},
   "outputs": [],
   "source": [
    "train_extracted_minmax_large=np.load(\"./numpy/train_extracted_minmax_train_0322.npy\")\n",
    "test_extracted_minmax_large=np.load(\"./numpy/test_extracted_minmax_train_0322.npy\")\n",
    "device=CFG.device\n",
    "CFG.epoches=350\n",
    "longlist=np.concatenate((train_extracted_minmax_large,test_extracted_minmax_large),axis=\\\n",
    "                        0)[:,np.random.permutation(100)]\n",
    "train_extracted_minmax_large,test_extracted_minmax_large=np.vsplit(longlist,np.array([24020]))\n",
    "device=CFG.device\n",
    "train_dataset_expend_encoded = AircraftDataset_expend_feature_extraction(df_train, train_label, \n",
    "                                                                         torch.FloatTensor(train_extracted_minmax_large),False)\n",
    "train_encoded_loader = DataLoader(\n",
    "    train_dataset_expend_encoded,\n",
    "    batch_size=CFG.batch_size,\n",
    "    shuffle=True,\n",
    "    drop_last=True,\n",
    ")\n",
    "test_dataset = AircraftDataset_no_expend_feature_extraction(df_test, test_label, torch.FloatTensor(test_extracted_minmax_large))\n",
    "test_encoded_loader = DataLoader(\n",
    "    test_dataset,\n",
    "    batch_size=1,\n",
    "    shuffle=False)\n",
    "for train_data in train_encoded_loader:None\n",
    "for test_data in test_encoded_loader:None"
   ]
  },
  {
   "cell_type": "code",
   "execution_count": 4,
   "id": "27607e14",
   "metadata": {},
   "outputs": [],
   "source": [
    "path = DATA_PATH+'RUL.csv'\n",
    "RUL_frame = pd.read_csv(path, header=None)\n",
    "RUL = RUL_frame.values[:, 0]\n",
    "RUL_y=pd.Series(RUL)\n",
    "RUL_y.index+=1"
   ]
  },
  {
   "cell_type": "code",
   "execution_count": 5,
   "id": "00331217",
   "metadata": {},
   "outputs": [
    {
     "data": {
      "text/plain": [
       "<All keys matched successfully>"
      ]
     },
     "execution_count": 5,
     "metadata": {},
     "output_type": "execute_result"
    }
   ],
   "source": [
    "aml_model_2=AML_model2(100,100,100,128,2,20,shared=False, attention=True,expand=False).to(device)\n",
    "aml_model_2.load_state_dict(torch.load(\"./model_checkpoints_at/model_his_aml.pt\"))"
   ]
  },
  {
   "cell_type": "code",
   "execution_count": 86,
   "id": "d22cbf0e",
   "metadata": {},
   "outputs": [],
   "source": [
    "h_idx=41 #[41, 44, 51, 53, 60, 64, 96]"
   ]
  },
  {
   "cell_type": "code",
   "execution_count": 87,
   "id": "ac0d807d",
   "metadata": {},
   "outputs": [
    {
     "data": {
      "text/plain": [
       "(261.0863342285156, 115)"
      ]
     },
     "execution_count": 87,
     "metadata": {},
     "output_type": "execute_result"
    }
   ],
   "source": [
    "aml_model_2(test_dataset[h_idx][\"input\"].unsqueeze(0).to(device))[0].item(),RUL[h_idx]"
   ]
  },
  {
   "cell_type": "code",
   "execution_count": 88,
   "id": "2493686f",
   "metadata": {},
   "outputs": [
    {
     "data": {
      "text/plain": [
       "tensor([-0.0900, -0.1092, -0.0177, -0.2472,  0.0457, -0.0419, -1.0000, -0.0211,\n",
       "         0.1659, -0.0182, -0.2327,  0.0808,  0.4121, -0.2625, -0.6741,  0.4536,\n",
       "        -0.2736, -0.6311,  0.0987,  0.1277,  0.0696,  0.0675,  0.1069,  0.1137,\n",
       "        -0.1880,  0.0875,  0.3429, -0.3089,  0.0443, -0.7995,  0.0159, -0.2143,\n",
       "        -0.6263, -1.0000, -0.8137,  0.1071,  0.5801,  1.0000, -0.1880,  0.5900,\n",
       "         0.0068, -0.6263, -0.9711,  0.1421,  0.0296,  0.1990,  0.1384, -0.1595,\n",
       "         0.2843,  0.1104, -0.8618,  0.2892, -0.3099,  0.0828, -0.1558,  0.0867,\n",
       "         0.2315, -0.8117, -0.2327, -0.1652,  0.1424, -0.0243,  0.1672, -0.8889,\n",
       "        -0.1097, -0.2143, -0.4170,  0.0296, -0.1168, -0.2102, -0.6133, -0.3823,\n",
       "         0.3010, -0.5863,  0.3563, -0.7853,  0.0847, -0.5594,  0.0746, -0.8406,\n",
       "        -0.1130,  0.1241,  0.1033,  0.0725, -0.6626, -0.0379, -0.1664, -0.7056,\n",
       "         0.2637,  0.0136,  0.0916,  0.2205,  0.1112,  0.1364, -0.6131,  0.0553,\n",
       "         0.1025,  0.3895,  0.1160,  0.1384])"
      ]
     },
     "execution_count": 88,
     "metadata": {},
     "output_type": "execute_result"
    }
   ],
   "source": [
    "test_dataset[h_idx][\"input\"]"
   ]
  },
  {
   "cell_type": "code",
   "execution_count": 89,
   "id": "18ecc523",
   "metadata": {},
   "outputs": [],
   "source": [
    "distance_list=torch.zeros(24020)\n",
    "for idx in range(24020):\n",
    "    x = train_dataset_expend_encoded[idx][\"input\"]\n",
    "    y = test_dataset[h_idx][\"input\"]\n",
    "    distance = -F.pairwise_distance(x, y, p=2)\n",
    "    #distance_list.append(distance)\n",
    "    distance_list[idx] = distance"
   ]
  },
  {
   "cell_type": "code",
   "execution_count": 90,
   "id": "02394aa8",
   "metadata": {},
   "outputs": [
    {
     "data": {
      "text/plain": [
       "7"
      ]
     },
     "execution_count": 90,
     "metadata": {},
     "output_type": "execute_result"
    }
   ],
   "source": [
    "len(torch.where(distance_list>-1.5)[0])"
   ]
  },
  {
   "cell_type": "code",
   "execution_count": 91,
   "id": "84a9c24b",
   "metadata": {},
   "outputs": [],
   "source": [
    "diag=torch.exp(distance_list).unsqueeze(-1) "
   ]
  },
  {
   "cell_type": "code",
   "execution_count": 92,
   "id": "ab5429e0",
   "metadata": {},
   "outputs": [],
   "source": [
    "# diag[torch.where(diag < torch.quantile(diag, 0.6, dim=0,\n",
    "#                                                 keepdim=False,\n",
    "#                                                interpolation='nearest'))] = 0"
   ]
  },
  {
   "cell_type": "code",
   "execution_count": 93,
   "id": "0380497e",
   "metadata": {},
   "outputs": [],
   "source": [
    "diag_reg=diag / torch.sum(diag)"
   ]
  },
  {
   "cell_type": "code",
   "execution_count": 94,
   "id": "25b32556",
   "metadata": {},
   "outputs": [],
   "source": [
    "test_44=torch.sum(torch.FloatTensor(train_extracted_minmax_large)*diag_reg,dim=0)"
   ]
  },
  {
   "cell_type": "code",
   "execution_count": 95,
   "id": "6fd76e47",
   "metadata": {},
   "outputs": [
    {
     "data": {
      "text/plain": [
       "tensor([-0.0564, -0.0444,  0.0270, -0.0473,  0.0106, -0.0689, -0.8728, -0.0313,\n",
       "         0.1126,  0.1122,  0.0789,  0.1152,  0.1323, -0.0809, -0.6480,  0.2367,\n",
       "        -0.3171, -0.0793,  0.0390,  0.1214,  0.0957,  0.0882,  0.4071,  0.4102,\n",
       "        -0.4539,  0.2204,  0.3437,  0.0256,  0.3205, -0.8524,  0.0949, -0.0307,\n",
       "        -0.4822,  0.0406, -0.7762,  0.1359,  0.2516,  0.1773, -0.1255,  0.3682,\n",
       "         0.0413, -0.4822, -0.9295,  0.0116, -0.0719,  0.2385,  0.2171, -0.0974,\n",
       "        -0.0850,  0.3920, -0.8135,  0.1275, -0.2388,  0.3791, -0.3735,  0.1619,\n",
       "         0.0823, -0.7564,  0.0789,  0.0853,  0.2047,  0.1060,  0.1819, -0.8085,\n",
       "         0.1034, -0.0307, -0.7237, -0.0719, -0.0401, -0.0995, -0.5439, -0.6824,\n",
       "         0.1493, -0.5614,  0.3658, -0.9211,  0.3848, -0.5970,  0.3597, -0.7871,\n",
       "         0.0375,  0.1249, -0.0566,  0.1121, -0.6731,  0.1372, -0.0554, -0.7716,\n",
       "         0.1748,  0.0384, -0.0368,  0.2353,  0.4190,  0.1518, -0.0301,  0.0782,\n",
       "         0.1195,  0.2682,  0.1204,  0.2171])"
      ]
     },
     "execution_count": 95,
     "metadata": {},
     "output_type": "execute_result"
    }
   ],
   "source": [
    "test_44"
   ]
  },
  {
   "cell_type": "code",
   "execution_count": 96,
   "id": "64dd4b00",
   "metadata": {},
   "outputs": [
    {
     "data": {
      "text/plain": [
       "(226.77703857421875, 115)"
      ]
     },
     "execution_count": 96,
     "metadata": {},
     "output_type": "execute_result"
    }
   ],
   "source": [
    "aml_model_2(test_44.unsqueeze(0).to(device))[0].item(),RUL[h_idx]"
   ]
  },
  {
   "cell_type": "markdown",
   "id": "31b6b4f4",
   "metadata": {},
   "source": [
    "# 特征增强函数"
   ]
  },
  {
   "cell_type": "code",
   "execution_count": 79,
   "id": "8627bd23",
   "metadata": {},
   "outputs": [],
   "source": [
    "def feature_enhance(instance_train,instance_test):\n",
    "    #instance_test_enhanced = instance_test\n",
    "    feature_enhanced_list=[]\n",
    "    for test_idx in range(len(instance_test)):\n",
    "        distance_list=torch.zeros(len(instance_train))\n",
    "        y = instance_test[test_idx][\"input\"]\n",
    "        for train_idx in range(len(instance_train)):\n",
    "            x = instance_train[train_idx][\"input\"]\n",
    "            distance = -F.pairwise_distance(x, y, p=2)\n",
    "            distance_list[train_idx] = distance\n",
    "        diag=torch.exp(distance_list).unsqueeze(-1) \n",
    "#         diag[torch.where(diag < torch.quantile(diag, 0.5, dim=0,\n",
    "#                                             keepdim=False,\n",
    "#                                            interpolation='nearest'))] = 0\n",
    "#         diag_reg=diag / torch.sum(diag)\n",
    "        #instance_test_enhanced[test_idx][\"input\"] = torch.sum(instance_train.all_feature_list*diag_reg,dim=0)\n",
    "        if instance_test[test_idx][\"lifetime\"]<100:\n",
    "            feature_enhanced_list.append(torch.sum(instance_train.all_feature_list*diag_reg,dim=0))\n",
    "        else:\n",
    "            feature_enhanced_list.append(y)\n",
    "    return feature_enhanced_list     \n",
    "                "
   ]
  },
  {
   "cell_type": "code",
   "execution_count": 80,
   "id": "b3c7232f",
   "metadata": {},
   "outputs": [],
   "source": [
    "#test_dataset_enhanced = feature_enhance(train_dataset_expend_encoded,test_dataset) #非常耗时的\n",
    "feature_enhanced_list = feature_enhance(train_dataset_expend_encoded,test_dataset)"
   ]
  },
  {
   "cell_type": "code",
   "execution_count": 81,
   "id": "e6191dae",
   "metadata": {},
   "outputs": [],
   "source": [
    "test_dataset_enhanced = AircraftDataset_no_expend_feature_extraction(df_test, \n",
    "                                                            test_label, \n",
    "                                                            feature_enhanced_list)"
   ]
  },
  {
   "cell_type": "code",
   "execution_count": 82,
   "id": "b909e271",
   "metadata": {},
   "outputs": [],
   "source": [
    "test_encoded_enhanced_loader = DataLoader(\n",
    "    test_dataset_enhanced,\n",
    "    batch_size=1,\n",
    "    shuffle=False)"
   ]
  },
  {
   "cell_type": "code",
   "execution_count": 83,
   "id": "590b15d7",
   "metadata": {},
   "outputs": [
    {
     "data": {
      "text/plain": [
       "1633.0"
      ]
     },
     "execution_count": 83,
     "metadata": {},
     "output_type": "execute_result"
    }
   ],
   "source": [
    "pred_2=[]\n",
    "for idx,test_data in enumerate(test_encoded_enhanced_loader):\n",
    "    pred_2_q=aml_model_2(test_data[\"input\"].to(device))[0].item()\n",
    "    pred_2.append(pred_2_q)\n",
    "#RUL\n",
    "path = DATA_PATH+'RUL.csv'\n",
    "RUL_frame = pd.read_csv(path, header=None)\n",
    "RUL = RUL_frame.values[:, 0]\n",
    "np.sum(np.ceil((abs(np.array(pred_2)-RUL))))#目测结果"
   ]
  },
  {
   "cell_type": "code",
   "execution_count": 84,
   "id": "855b27a5",
   "metadata": {},
   "outputs": [],
   "source": [
    "lifetime_list=[]\n",
    "for i in range(len(test_dataset)):\n",
    "    lifetime=test_dataset[i][\"lifetime\"].item()\n",
    "    lifetime_list.append(lifetime)\n",
    "lifetime_list=np.array(lifetime_list)"
   ]
  },
  {
   "cell_type": "code",
   "execution_count": 85,
   "id": "8bd6266f",
   "metadata": {},
   "outputs": [
    {
     "data": {
      "text/plain": [
       "matrix([[2.50000000e+01, 1.83977085e-02, 7.79060838e-03],\n",
       "        [5.00000000e+01, 2.06001250e-02, 5.23507152e-03],\n",
       "        [7.50000000e+01, 4.95345314e-02, 1.09287753e-02],\n",
       "        [1.00000000e+02, 6.43238260e-02, 1.00948500e-02],\n",
       "        [1.25000000e+02, 6.61056970e-02, 8.66538176e-03],\n",
       "        [1.50000000e+02, 7.38740530e-02, 8.04351985e-03]])"
      ]
     },
     "execution_count": 85,
     "metadata": {},
     "output_type": "execute_result"
    }
   ],
   "source": [
    "get_Accuracy(np.array(pred_2), RUL, lifetime_list)"
   ]
  },
  {
   "cell_type": "code",
   "execution_count": null,
   "id": "28676bab",
   "metadata": {},
   "outputs": [],
   "source": []
  }
 ],
 "metadata": {
  "kernelspec": {
   "display_name": "Python 3",
   "language": "python",
   "name": "python3"
  },
  "language_info": {
   "codemirror_mode": {
    "name": "ipython",
    "version": 3
   },
   "file_extension": ".py",
   "mimetype": "text/x-python",
   "name": "python",
   "nbconvert_exporter": "python",
   "pygments_lexer": "ipython3",
   "version": "3.8.8"
  }
 },
 "nbformat": 4,
 "nbformat_minor": 5
}
