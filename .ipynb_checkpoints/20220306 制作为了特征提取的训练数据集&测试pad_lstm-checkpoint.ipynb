{
 "cells": [
  {
   "cell_type": "code",
   "execution_count": 1,
   "id": "7d71f667",
   "metadata": {},
   "outputs": [
    {
     "name": "stderr",
     "output_type": "stream",
     "text": [
      "C:\\Users\\Administrator\\Documents\\yh.wang\\2\\diwang_feature_exrtaction.py:194: RuntimeWarning: invalid value encountered in true_divide\n",
      "  W = Weight / np.tile(reshape(sum(Weight, 2), (Num, TestData.shape[1] - 1, 1)), (1, 1, Nu))\n"
     ]
    }
   ],
   "source": [
    "from diwang_feature_exrtaction import *"
   ]
  },
  {
   "cell_type": "code",
   "execution_count": null,
   "id": "79c715e8",
   "metadata": {},
   "outputs": [],
   "source": [
    "# 目标是输入序列，之后补0"
   ]
  },
  {
   "cell_type": "code",
   "execution_count": 10,
   "id": "ee0a33a3",
   "metadata": {},
   "outputs": [],
   "source": [
    "import pandas as pd\n",
    "from torch.utils.data import Dataset\n",
    "import torch\n",
    "import numpy as np"
   ]
  },
  {
   "cell_type": "code",
   "execution_count": 90,
   "id": "2cdd052e",
   "metadata": {},
   "outputs": [],
   "source": [
    "import torch.nn as nn"
   ]
  },
  {
   "cell_type": "code",
   "execution_count": 3,
   "id": "58f6be75",
   "metadata": {},
   "outputs": [],
   "source": [
    "DATA_PATH =\"./Data_FD003/preprocessed data/\"\n",
    "attribute = ['Unit','T24', 'T30', 'T50', 'P30', 'Nf', 'Nc', 'Ps30',\n",
    "                  'phi', 'NRf', 'NRc', 'BPR', 'htBleed', 'W31', 'W32']\n",
    "df_train = pd.read_csv(DATA_PATH + 'TD_data.csv',names=attribute, header=None)"
   ]
  },
  {
   "cell_type": "code",
   "execution_count": 80,
   "id": "c563442b",
   "metadata": {},
   "outputs": [],
   "source": [
    "class AircraftDataset_expend(AircraftDataset):  # 截断原有的数据集，获得海量的数据\n",
    "    def __init__(self, df, add_zero):\n",
    "        super().__init__(df)\n",
    "        self.add_zero = add_zero\n",
    "        self.cut_data()\n",
    "\n",
    "    def cut_data(self):\n",
    "        lenth=super().__len__()\n",
    "        input_signal=[]\n",
    "        RUL=[]\n",
    "        for unit in range(lenth):\n",
    "            unit_input=super().__getitem__(unit)[\"input\"]\n",
    "            unit_life=super().__getitem__(unit)[\"lifetime\"]\n",
    "            if self.add_zero:\n",
    "                for time in range(3,unit_life):\n",
    "                    input_tensor = torch.zeros(525, 14, dtype=torch.float)\n",
    "                    input_tensor[0:time] = unit_input[0:time]\n",
    "                    unit_RUL=unit_life-time\n",
    "                    input_signal.append(input_tensor)\n",
    "                    RUL.append(unit_RUL)\n",
    "            else:\n",
    "                for time in range(3,unit_life):\n",
    "                    input_tensor = unit_input[0:time]\n",
    "                    unit_RUL=unit_life-time\n",
    "                    input_signal.append(input_tensor)\n",
    "                    RUL.append(unit_RUL)\n",
    "\n",
    "        self.RUL=np.array(RUL)\n",
    "        self.input_signal=input_signal\n",
    "\n",
    "    def __len__(self):\n",
    "        return len(self.RUL)\n",
    "\n",
    "    def __getitem__(self, idx):\n",
    "        data = {\n",
    "            \"input\": self.input_signal[idx],\n",
    "            \"RUL\": torch.tensor(self.RUL[idx],dtype=torch.int64)\n",
    "        }\n",
    "\n",
    "        return data"
   ]
  },
  {
   "cell_type": "code",
   "execution_count": 86,
   "id": "b628540d",
   "metadata": {},
   "outputs": [],
   "source": [
    "train_data_expend=AircraftDataset_expend(df_train,False)"
   ]
  },
  {
   "cell_type": "code",
   "execution_count": 89,
   "id": "222d78af",
   "metadata": {},
   "outputs": [
    {
     "data": {
      "text/plain": [
       "{'input': tensor([[ 9.3613e-01,  3.0634e-01,  2.9954e-01, -7.9379e-01, -5.8098e-01,\n",
       "           1.4285e-01,  5.1867e-01, -2.2405e-01,  1.6889e-01,  2.1825e-01,\n",
       "           1.1385e+00,  4.3863e-01,  3.6442e-01, -8.4621e-01],\n",
       "         [ 1.0359e+00,  4.5287e-01,  3.0333e-01, -4.4278e-01, -2.0905e-01,\n",
       "           1.2649e-01,  3.6916e-01, -9.8438e-02,  2.7012e-01,  5.2459e-01,\n",
       "           1.2638e+00,  7.5099e-01, -3.0534e-01, -3.6485e-01],\n",
       "         [ 7.9116e-01,  2.0638e-01,  8.0941e-01, -5.2620e-01,  3.5150e-04,\n",
       "           4.3203e-01,  3.4586e-01, -4.8677e-01,  1.1415e-01,  4.2597e-01,\n",
       "           7.9141e-01,  4.3863e-01, -7.5612e-01, -7.9190e-01]]),\n",
       " 'RUL': tensor(256)}"
      ]
     },
     "execution_count": 89,
     "metadata": {},
     "output_type": "execute_result"
    }
   ],
   "source": [
    "train_data_expend[0]"
   ]
  },
  {
   "cell_type": "code",
   "execution_count": null,
   "id": "c0c4cb74",
   "metadata": {},
   "outputs": [],
   "source": []
  }
 ],
 "metadata": {
  "kernelspec": {
   "display_name": "Python 3",
   "language": "python",
   "name": "python3"
  },
  "language_info": {
   "codemirror_mode": {
    "name": "ipython",
    "version": 3
   },
   "file_extension": ".py",
   "mimetype": "text/x-python",
   "name": "python",
   "nbconvert_exporter": "python",
   "pygments_lexer": "ipython3",
   "version": "3.8.8"
  }
 },
 "nbformat": 4,
 "nbformat_minor": 5
}
