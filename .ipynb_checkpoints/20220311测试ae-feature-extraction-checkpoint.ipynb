{
 "cells": [
  {
   "cell_type": "code",
   "execution_count": 1,
   "id": "6407f648",
   "metadata": {},
   "outputs": [],
   "source": [
    "from ae_feature_extraction import *"
   ]
  },
  {
   "cell_type": "code",
   "execution_count": 2,
   "id": "cca0d6c7",
   "metadata": {},
   "outputs": [
    {
     "name": "stdout",
     "output_type": "stream",
     "text": [
      "epoch:0, loss:0.7859496474266052,lr:0.001\n",
      "epoch:10, loss:0.3051682114601135,lr:0.001\n",
      "epoch:20, loss:0.22105863690376282,lr:0.001\n",
      "epoch:30, loss:0.2024524211883545,lr:0.001\n",
      "epoch:40, loss:0.18387043476104736,lr:0.001\n",
      "epoch:50, loss:0.28126901388168335,lr:0.001\n",
      "epoch:60, loss:0.1988537609577179,lr:0.001\n"
     ]
    },
    {
     "ename": "KeyboardInterrupt",
     "evalue": "",
     "output_type": "error",
     "traceback": [
      "\u001b[1;31m---------------------------------------------------------------------------\u001b[0m",
      "\u001b[1;31mKeyboardInterrupt\u001b[0m                         Traceback (most recent call last)",
      "\u001b[1;32m<ipython-input-2-41fe39623159>\u001b[0m in \u001b[0;36m<module>\u001b[1;34m\u001b[0m\n\u001b[1;32m----> 1\u001b[1;33m \u001b[0mtrain_ae\u001b[0m\u001b[1;33m(\u001b[0m\u001b[0mtrain_data_expend_loader\u001b[0m\u001b[1;33m,\u001b[0m \u001b[0mRESUME\u001b[0m\u001b[1;33m=\u001b[0m\u001b[1;32mFalse\u001b[0m\u001b[1;33m)\u001b[0m\u001b[1;33m\u001b[0m\u001b[1;33m\u001b[0m\u001b[0m\n\u001b[0m",
      "\u001b[1;32m~\\Documents\\yh.wang\\2\\ae_feature_extraction.py\u001b[0m in \u001b[0;36mtrain_ae\u001b[1;34m(train_loader, RESUME)\u001b[0m\n\u001b[0;32m     66\u001b[0m             \u001b[1;31m# loss = loss_function(pred_batch, target_batch, train_data, test_data)\u001b[0m\u001b[1;33m\u001b[0m\u001b[1;33m\u001b[0m\u001b[1;33m\u001b[0m\u001b[0m\n\u001b[0;32m     67\u001b[0m             \u001b[0moptimizer\u001b[0m\u001b[1;33m.\u001b[0m\u001b[0mzero_grad\u001b[0m\u001b[1;33m(\u001b[0m\u001b[1;33m)\u001b[0m\u001b[1;33m\u001b[0m\u001b[1;33m\u001b[0m\u001b[0m\n\u001b[1;32m---> 68\u001b[1;33m             \u001b[0mloss\u001b[0m\u001b[1;33m.\u001b[0m\u001b[0mbackward\u001b[0m\u001b[1;33m(\u001b[0m\u001b[1;33m)\u001b[0m\u001b[1;33m\u001b[0m\u001b[1;33m\u001b[0m\u001b[0m\n\u001b[0m\u001b[0;32m     69\u001b[0m             \u001b[0moptimizer\u001b[0m\u001b[1;33m.\u001b[0m\u001b[0mstep\u001b[0m\u001b[1;33m(\u001b[0m\u001b[1;33m)\u001b[0m\u001b[1;33m\u001b[0m\u001b[1;33m\u001b[0m\u001b[0m\n\u001b[0;32m     70\u001b[0m             \u001b[1;31m#scheduler.step()\u001b[0m\u001b[1;33m\u001b[0m\u001b[1;33m\u001b[0m\u001b[1;33m\u001b[0m\u001b[0m\n",
      "\u001b[1;32mC:\\ProgramData\\Anaconda3\\lib\\site-packages\\torch\\_tensor.py\u001b[0m in \u001b[0;36mbackward\u001b[1;34m(self, gradient, retain_graph, create_graph, inputs)\u001b[0m\n\u001b[0;32m    305\u001b[0m                 \u001b[0mcreate_graph\u001b[0m\u001b[1;33m=\u001b[0m\u001b[0mcreate_graph\u001b[0m\u001b[1;33m,\u001b[0m\u001b[1;33m\u001b[0m\u001b[1;33m\u001b[0m\u001b[0m\n\u001b[0;32m    306\u001b[0m                 inputs=inputs)\n\u001b[1;32m--> 307\u001b[1;33m         \u001b[0mtorch\u001b[0m\u001b[1;33m.\u001b[0m\u001b[0mautograd\u001b[0m\u001b[1;33m.\u001b[0m\u001b[0mbackward\u001b[0m\u001b[1;33m(\u001b[0m\u001b[0mself\u001b[0m\u001b[1;33m,\u001b[0m \u001b[0mgradient\u001b[0m\u001b[1;33m,\u001b[0m \u001b[0mretain_graph\u001b[0m\u001b[1;33m,\u001b[0m \u001b[0mcreate_graph\u001b[0m\u001b[1;33m,\u001b[0m \u001b[0minputs\u001b[0m\u001b[1;33m=\u001b[0m\u001b[0minputs\u001b[0m\u001b[1;33m)\u001b[0m\u001b[1;33m\u001b[0m\u001b[1;33m\u001b[0m\u001b[0m\n\u001b[0m\u001b[0;32m    308\u001b[0m \u001b[1;33m\u001b[0m\u001b[0m\n\u001b[0;32m    309\u001b[0m     \u001b[1;32mdef\u001b[0m \u001b[0mregister_hook\u001b[0m\u001b[1;33m(\u001b[0m\u001b[0mself\u001b[0m\u001b[1;33m,\u001b[0m \u001b[0mhook\u001b[0m\u001b[1;33m)\u001b[0m\u001b[1;33m:\u001b[0m\u001b[1;33m\u001b[0m\u001b[1;33m\u001b[0m\u001b[0m\n",
      "\u001b[1;32mC:\\ProgramData\\Anaconda3\\lib\\site-packages\\torch\\autograd\\__init__.py\u001b[0m in \u001b[0;36mbackward\u001b[1;34m(tensors, grad_tensors, retain_graph, create_graph, grad_variables, inputs)\u001b[0m\n\u001b[0;32m    152\u001b[0m         \u001b[0mretain_graph\u001b[0m \u001b[1;33m=\u001b[0m \u001b[0mcreate_graph\u001b[0m\u001b[1;33m\u001b[0m\u001b[1;33m\u001b[0m\u001b[0m\n\u001b[0;32m    153\u001b[0m \u001b[1;33m\u001b[0m\u001b[0m\n\u001b[1;32m--> 154\u001b[1;33m     Variable._execution_engine.run_backward(\n\u001b[0m\u001b[0;32m    155\u001b[0m         \u001b[0mtensors\u001b[0m\u001b[1;33m,\u001b[0m \u001b[0mgrad_tensors_\u001b[0m\u001b[1;33m,\u001b[0m \u001b[0mretain_graph\u001b[0m\u001b[1;33m,\u001b[0m \u001b[0mcreate_graph\u001b[0m\u001b[1;33m,\u001b[0m \u001b[0minputs\u001b[0m\u001b[1;33m,\u001b[0m\u001b[1;33m\u001b[0m\u001b[1;33m\u001b[0m\u001b[0m\n\u001b[0;32m    156\u001b[0m         allow_unreachable=True, accumulate_grad=True)  # allow_unreachable flag\n",
      "\u001b[1;31mKeyboardInterrupt\u001b[0m: "
     ]
    }
   ],
   "source": [
    "train_ae(train_data_expend_loader, RESUME=False)"
   ]
  },
  {
   "cell_type": "code",
   "execution_count": 3,
   "id": "8c39a89c",
   "metadata": {},
   "outputs": [
    {
     "data": {
      "text/plain": [
       "<All keys matched successfully>"
      ]
     },
     "execution_count": 3,
     "metadata": {},
     "output_type": "execute_result"
    }
   ],
   "source": [
    "aemodel.load_state_dict(torch.load(\"./model_checkpoints_ae/ae/model_ae.pt\", map_location=\"cpu\"))"
   ]
  },
  {
   "cell_type": "code",
   "execution_count": 4,
   "id": "23697e4c",
   "metadata": {},
   "outputs": [],
   "source": [
    "for train_data in train_data_expend_loader:\n",
    "    None"
   ]
  },
  {
   "cell_type": "code",
   "execution_count": 5,
   "id": "a8299844",
   "metadata": {},
   "outputs": [
    {
     "data": {
      "text/plain": [
       "LSTMAutoEncoder(\n",
       "  (encoder1): LSTM(6, 8, batch_first=True)\n",
       "  (encoder2): LSTM(8, 16, batch_first=True)\n",
       "  (decoder1): LSTM(16, 8, batch_first=True)\n",
       "  (decoder2): LSTM(8, 6, batch_first=True)\n",
       "  (logits): Sequential(\n",
       "    (0): Linear(in_features=16, out_features=8, bias=True)\n",
       "    (1): ReLU()\n",
       "    (2): Linear(in_features=8, out_features=2, bias=True)\n",
       "    (3): LogSoftmax(dim=-1)\n",
       "  )\n",
       ")"
      ]
     },
     "execution_count": 5,
     "metadata": {},
     "output_type": "execute_result"
    }
   ],
   "source": [
    "aemodel.cpu()"
   ]
  },
  {
   "cell_type": "code",
   "execution_count": 6,
   "id": "64cad06a",
   "metadata": {},
   "outputs": [],
   "source": [
    "class_true=train_data[\"mode\"]\n",
    "class_pred=aemodel(train_data[\"input\"])[1].squeeze(0)"
   ]
  },
  {
   "cell_type": "code",
   "execution_count": 7,
   "id": "f219c746",
   "metadata": {},
   "outputs": [
    {
     "data": {
      "text/plain": [
       "(tensor([[0., 1.],\n",
       "         [0., 1.],\n",
       "         [0., 1.],\n",
       "         [0., 1.],\n",
       "         [1., 0.],\n",
       "         [0., 1.],\n",
       "         [1., 0.],\n",
       "         [1., 0.],\n",
       "         [0., 1.],\n",
       "         [0., 1.]]),\n",
       " tensor([[4.9655e-05, 9.9995e-01],\n",
       "         [5.2019e-05, 9.9995e-01],\n",
       "         [5.1842e-05, 9.9995e-01],\n",
       "         [6.0345e-05, 9.9994e-01],\n",
       "         [9.9849e-01, 1.5070e-03],\n",
       "         [4.9584e-05, 9.9995e-01],\n",
       "         [9.9849e-01, 1.5070e-03],\n",
       "         [9.9849e-01, 1.5070e-03],\n",
       "         [4.9650e-05, 9.9995e-01],\n",
       "         [4.9647e-05, 9.9995e-01]], grad_fn=<ExpBackward0>))"
      ]
     },
     "execution_count": 7,
     "metadata": {},
     "output_type": "execute_result"
    }
   ],
   "source": [
    "class_true[0:10],torch.exp(class_pred[0:10])"
   ]
  },
  {
   "cell_type": "code",
   "execution_count": 8,
   "id": "d6cc6824",
   "metadata": {},
   "outputs": [],
   "source": [
    "def encode_feature_extraction(instance):\n",
    "    \"\"\"\n",
    "    instance is a 类的实例，含有原有的时间序列数据\n",
    "    return the extracted feature as a list n*num_feature\n",
    "    \"\"\"\n",
    "    aemodel_encode = LSTMAutoEncoder()\n",
    "    aemodel_encode.load_state_dict(torch.load(\"./model_checkpoints_ae/ae/model_ae.pt\", map_location=\"cpu\"))\n",
    "    all_features_list = []\n",
    "    for idx in range(len(instance)):\n",
    "        with torch.no_grad():\n",
    "            ae_result = aemodel_encode.encoder1(instance[idx][\"input\"].unsqueeze(0))[0]#.squeeze(0)\n",
    "            ae_result=aemodel_encode.encoder2(ae_result)[1][0].squeeze(0)\n",
    "        all_features_list.append(ae_result)\n",
    "    return all_features_list"
   ]
  },
  {
   "cell_type": "code",
   "execution_count": 14,
   "id": "ca2e6e03",
   "metadata": {},
   "outputs": [],
   "source": [
    "feature_list_expend = feature_preprocess(encode_feature_extraction(train_dataset_expend))"
   ]
  },
  {
   "cell_type": "code",
   "execution_count": 16,
   "id": "736d9049",
   "metadata": {},
   "outputs": [
    {
     "data": {
      "text/plain": [
       "torch.Size([24420, 16])"
      ]
     },
     "execution_count": 16,
     "metadata": {},
     "output_type": "execute_result"
    }
   ],
   "source": [
    "feature_list_expend.shape"
   ]
  },
  {
   "cell_type": "code",
   "execution_count": null,
   "id": "18ab4038",
   "metadata": {},
   "outputs": [],
   "source": []
  }
 ],
 "metadata": {
  "kernelspec": {
   "display_name": "Python 3",
   "language": "python",
   "name": "python3"
  },
  "language_info": {
   "codemirror_mode": {
    "name": "ipython",
    "version": 3
   },
   "file_extension": ".py",
   "mimetype": "text/x-python",
   "name": "python",
   "nbconvert_exporter": "python",
   "pygments_lexer": "ipython3",
   "version": "3.8.8"
  }
 },
 "nbformat": 4,
 "nbformat_minor": 5
}
