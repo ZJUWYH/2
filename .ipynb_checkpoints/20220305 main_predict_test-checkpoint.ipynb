{
 "cells": [
  {
   "cell_type": "code",
   "execution_count": 1,
   "id": "0533579a",
   "metadata": {},
   "outputs": [
    {
     "name": "stderr",
     "output_type": "stream",
     "text": [
      "C:\\Users\\Administrator\\Documents\\yh.wang\\2\\diwang_feature_exrtaction.py:194: RuntimeWarning: invalid value encountered in true_divide\n",
      "  W = Weight / np.tile(reshape(sum(Weight, 2), (Num, TestData.shape[1] - 1, 1)), (1, 1, Nu))\n"
     ]
    }
   ],
   "source": [
    "from main import *\n",
    "\n",
    "\n"
   ]
  },
  {
   "cell_type": "code",
   "execution_count": 2,
   "id": "59dfec67",
   "metadata": {},
   "outputs": [
    {
     "data": {
      "text/plain": [
       "array([ 44,  51,  27, 120, 101,  99,  71,  55,  55,  66,  77, 115, 115,\n",
       "        31, 108,  56, 136, 132,  85,  56,  18, 119,  78,   9,  58,  11,\n",
       "        88, 144, 124,  89,  79,  55,  71,  65,  87, 137, 145,  22,   8,\n",
       "        41, 131, 115, 128,  69, 111,   7, 137,  55, 135,  11,  78, 120,\n",
       "        87,  87,  55,  93,  88,  40,  49, 128, 129,  58, 117,  28, 115,\n",
       "        87,  92, 103, 100,  63,  35,  45,  99, 117,  45,  27,  86,  20,\n",
       "        18,  15,   6, 145, 104,  56,  25,  68, 144,  41,  51,  81,  14,\n",
       "        67,  10, 127, 123,  17,   8,  28], dtype=int64)"
      ]
     },
     "execution_count": 2,
     "metadata": {},
     "output_type": "execute_result"
    }
   ],
   "source": [
    "RUL_delete"
   ]
  },
  {
   "cell_type": "code",
   "execution_count": 3,
   "id": "725f9103",
   "metadata": {},
   "outputs": [],
   "source": [
    "model = CustomModel()"
   ]
  },
  {
   "cell_type": "code",
   "execution_count": 4,
   "id": "3fe45bad",
   "metadata": {},
   "outputs": [],
   "source": [
    "test_dataset_compelete = TestingFeature(tG_delete,\n",
    "                              dev_tG_delete,\n",
    "                              dev2_tG_delete,\n",
    "                              RUL_delete,\n",
    "                              classifier_in)"
   ]
  },
  {
   "cell_type": "code",
   "execution_count": 5,
   "id": "d9426a57",
   "metadata": {},
   "outputs": [],
   "source": [
    "test_loader_compelete = DataLoader(\n",
    "    test_dataset_compelete,\n",
    "    batch_size=1,\n",
    "    shuffle=False)  # test_dataset"
   ]
  },
  {
   "cell_type": "markdown",
   "id": "9d299cfe",
   "metadata": {},
   "source": [
    "# 没有运用kernel方法"
   ]
  },
  {
   "cell_type": "code",
   "execution_count": 6,
   "id": "69c294ba",
   "metadata": {},
   "outputs": [
    {
     "data": {
      "text/plain": [
       "<All keys matched successfully>"
      ]
     },
     "execution_count": 6,
     "metadata": {},
     "output_type": "execute_result"
    }
   ],
   "source": [
    "model.load_state_dict(torch.load(\"./model_checkpoints/no kernel no classify/model_his.pt\"))"
   ]
  },
  {
   "cell_type": "code",
   "execution_count": 7,
   "id": "eec63a24",
   "metadata": {},
   "outputs": [],
   "source": [
    "pred_1=[]\n",
    "for idx,test_data in enumerate(test_loader_compelete):\n",
    "    pred_1_q=model(test_data[\"input\"]).item()\n",
    "    pred_1.append(pred_1_q)\n"
   ]
  },
  {
   "cell_type": "code",
   "execution_count": 8,
   "id": "c94207b5",
   "metadata": {},
   "outputs": [
    {
     "data": {
      "text/plain": [
       "2069.0"
      ]
     },
     "execution_count": 8,
     "metadata": {},
     "output_type": "execute_result"
    }
   ],
   "source": [
    "np.sum(np.ceil((abs(np.array(pred_1)-RUL_delete))))#目测结果"
   ]
  },
  {
   "cell_type": "markdown",
   "id": "a2d7ced1",
   "metadata": {},
   "source": [
    "# 单个unit带入"
   ]
  },
  {
   "cell_type": "code",
   "execution_count": 9,
   "id": "2e400b39",
   "metadata": {},
   "outputs": [],
   "source": [
    "pred_2=[]\n",
    "for idx,test_data in enumerate(test_loader_compelete):\n",
    "    path=\"./model_checkpoints/kernel without classify/\"+f\"model_in_unit_{idx}.pt\"\n",
    "    model.load_state_dict(torch.load(path))\n",
    "    pred_2_q=model(test_data[\"input\"]).item()\n",
    "    pred_2.append(pred_2_q)\n",
    "\n"
   ]
  },
  {
   "cell_type": "code",
   "execution_count": 10,
   "id": "43d55afd",
   "metadata": {},
   "outputs": [
    {
     "data": {
      "text/plain": [
       "1599.0"
      ]
     },
     "execution_count": 10,
     "metadata": {},
     "output_type": "execute_result"
    }
   ],
   "source": [
    "np.sum(np.ceil((abs(np.array(pred_2)-RUL_delete))))"
   ]
  },
  {
   "cell_type": "markdown",
   "id": "1fe55c71",
   "metadata": {},
   "source": [
    "# 将test_data分类带入"
   ]
  },
  {
   "cell_type": "code",
   "execution_count": 11,
   "id": "5d91e564",
   "metadata": {},
   "outputs": [],
   "source": [
    "pred_3=[]\n",
    "for idx,test_data in enumerate(test_loader_compelete):\n",
    "    cls_index=test_data[\"label\"].item()\n",
    "    path=\"./model_checkpoints/kernel with classify/\"+f\"model_in_cls_{cls_index}.pt\"\n",
    "    model.load_state_dict(torch.load(path))\n",
    "    pred_3_q=model(test_data[\"input\"]).item()\n",
    "    pred_3.append(pred_3_q)"
   ]
  },
  {
   "cell_type": "code",
   "execution_count": 12,
   "id": "039a5cb0",
   "metadata": {},
   "outputs": [
    {
     "data": {
      "text/plain": [
       "1590.0"
      ]
     },
     "execution_count": 12,
     "metadata": {},
     "output_type": "execute_result"
    }
   ],
   "source": [
    "np.sum(np.ceil((abs(np.array(pred_3)-RUL_delete))))"
   ]
  },
  {
   "cell_type": "markdown",
   "id": "ba6b9c89",
   "metadata": {},
   "source": [
    "# 将train_data分类带入"
   ]
  },
  {
   "cell_type": "code",
   "execution_count": 13,
   "id": "014a0eb6",
   "metadata": {},
   "outputs": [],
   "source": [
    "test_dataset_his_cls = TestingFeature(tG_delete,\n",
    "                              dev_tG_delete,\n",
    "                              dev2_tG_delete,\n",
    "                              RUL_delete,\n",
    "                              classifier_his)"
   ]
  },
  {
   "cell_type": "code",
   "execution_count": 14,
   "id": "703e1241",
   "metadata": {},
   "outputs": [],
   "source": [
    "test_loader_his_cls = DataLoader(\n",
    "    test_dataset_his_cls ,\n",
    "    batch_size=1,\n",
    "    shuffle=False)  # test_dataset"
   ]
  },
  {
   "cell_type": "code",
   "execution_count": 15,
   "id": "76eee76d",
   "metadata": {},
   "outputs": [],
   "source": [
    "pred_4=[]\n",
    "for idx,test_data in enumerate(test_loader_his_cls):\n",
    "    cls_index=test_data[\"label\"].item()\n",
    "    path=\"./model_checkpoints/kernel with classify train/\"+f\"model_his_cls_{cls_index}.pt\"\n",
    "    model.load_state_dict(torch.load(path))\n",
    "    pred_4_q=model(test_data[\"input\"]).item()\n",
    "    pred_4.append(pred_4_q)"
   ]
  },
  {
   "cell_type": "code",
   "execution_count": 16,
   "id": "91591987",
   "metadata": {},
   "outputs": [
    {
     "data": {
      "text/plain": [
       "1662.0"
      ]
     },
     "execution_count": 16,
     "metadata": {},
     "output_type": "execute_result"
    }
   ],
   "source": [
    "np.sum(np.ceil((abs(np.array(pred_4)-RUL_delete))))"
   ]
  },
  {
   "cell_type": "code",
   "execution_count": null,
   "id": "e4e36a9b",
   "metadata": {},
   "outputs": [],
   "source": []
  },
  {
   "cell_type": "code",
   "execution_count": null,
   "id": "cf21c759",
   "metadata": {},
   "outputs": [],
   "source": []
  },
  {
   "cell_type": "code",
   "execution_count": null,
   "id": "9efd5572",
   "metadata": {},
   "outputs": [],
   "source": []
  }
 ],
 "metadata": {
  "kernelspec": {
   "display_name": "Python 3",
   "language": "python",
   "name": "python3"
  },
  "language_info": {
   "codemirror_mode": {
    "name": "ipython",
    "version": 3
   },
   "file_extension": ".py",
   "mimetype": "text/x-python",
   "name": "python",
   "nbconvert_exporter": "python",
   "pygments_lexer": "ipython3",
   "version": "3.8.8"
  }
 },
 "nbformat": 4,
 "nbformat_minor": 5
}
