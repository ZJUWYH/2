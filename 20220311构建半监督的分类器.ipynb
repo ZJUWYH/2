{
 "cells": [
  {
   "cell_type": "code",
   "execution_count": 1,
   "id": "35ac212e",
   "metadata": {},
   "outputs": [],
   "source": [
    "from ae_feature_extraction import *"
   ]
  },
  {
   "cell_type": "code",
   "execution_count": 5,
   "id": "0b5aa4fd",
   "metadata": {},
   "outputs": [],
   "source": [
    "train_label=pd.read_csv(DATA_PATH +\"TD_mode.csv\", header=None).values"
   ]
  },
  {
   "cell_type": "code",
   "execution_count": 180,
   "id": "ea07c09a",
   "metadata": {},
   "outputs": [],
   "source": [
    "class AircraftDataset(Dataset):\n",
    "    def __init__(self, df, labels):# df is a dataframe and label is an array indicate the true failure mode\n",
    "        self.df = df.groupby(\"Unit\").agg(list).reset_index()\n",
    "        self.labels=labels\n",
    "\n",
    "    def __len__(self):\n",
    "        return self.df.shape[0]\n",
    "\n",
    "    def __getitem__(self, idx):\n",
    "        data = {}\n",
    "#         sensor = ['T24', 'T30', 'T50', 'P30', 'Nf', 'Nc', 'Ps30',\n",
    "#                   'phi', 'NRf', 'NRc', 'BPR', 'htBleed', 'W31', 'W32']\n",
    "        sensor=['T24','T30','T50','P30','Ps30','phi']\n",
    "        multi_sensor = []\n",
    "        for sensor_name in sensor:\n",
    "            multi_sensor.append(np.array(self.df[sensor_name].values.tolist()[idx]))\n",
    "            single_sensor = np.array(self.df[sensor_name].values.tolist()[idx])[:, None]\n",
    "            #data[sensor_name] = torch.tensor(single_sensor, dtype=torch.float)\n",
    "        multi_sensor = np.vstack(multi_sensor).transpose(1, 0)\n",
    "        data[\"input\"] = torch.tensor(multi_sensor, dtype=torch.float)\n",
    "        data[\"lifetime\"] = torch.tensor(len(multi_sensor), dtype=torch.int64)\n",
    "        #data[\"timeseries\"] = torch.tensor(np.array(self.df[\"Time\"].values.tolist()[idx])[:, None], dtype=torch.int64)\n",
    "        if self.labels[idx].item()==-1:\n",
    "            data[\"mode\"]=torch.tensor([1,0],dtype=torch.float)\n",
    "        elif self.labels[idx].item()==1:\n",
    "            data[\"mode\"]=torch.tensor([0,1],dtype=torch.float)\n",
    "        return data"
   ]
  },
  {
   "cell_type": "code",
   "execution_count": 181,
   "id": "dd34be70",
   "metadata": {},
   "outputs": [],
   "source": [
    "train_dataset=AircraftDataset(df_train,train_label)"
   ]
  },
  {
   "cell_type": "code",
   "execution_count": 182,
   "id": "fe8bc9c7",
   "metadata": {},
   "outputs": [
    {
     "data": {
      "text/plain": [
       "{'input': tensor([[ 0.9361,  0.3063,  0.2995, -0.7938,  0.5187, -0.2241],\n",
       "         [ 1.0359,  0.4529,  0.3033, -0.4428,  0.3692, -0.0984],\n",
       "         [ 0.7912,  0.2064,  0.8094, -0.5262,  0.3459, -0.4868],\n",
       "         ...,\n",
       "         [ 1.5619,  1.3918,  1.4484, -1.6229,  1.5142, -1.5564],\n",
       "         [ 1.6165,  1.5726,  1.5852, -1.5222,  1.4769, -1.5536],\n",
       "         [ 1.7176,  1.3226,  1.6458, -1.5866,  1.6381, -1.6301]]),\n",
       " 'lifetime': tensor(259),\n",
       " 'mode': tensor([1., 0.])}"
      ]
     },
     "execution_count": 182,
     "metadata": {},
     "output_type": "execute_result"
    }
   ],
   "source": [
    "train_dataset[0]"
   ]
  },
  {
   "cell_type": "code",
   "execution_count": 183,
   "id": "12957aaf",
   "metadata": {},
   "outputs": [],
   "source": [
    "class AircraftDataset_expend(AircraftDataset):  # 截断原有的数据集，获得海量的数据\n",
    "    def __init__(self, df,labels,add_zero):\n",
    "        super().__init__(df,labels)\n",
    "        self.add_zero = add_zero\n",
    "        self.cut_data()\n",
    "\n",
    "    def cut_data(self):\n",
    "        lenth = super().__len__()\n",
    "        input_signal = []\n",
    "        RUL = []\n",
    "        label=[]\n",
    "        for unit in range(lenth):\n",
    "            unit_input = super().__getitem__(unit)[\"input\"]\n",
    "            unit_label=super().__getitem__(unit)[\"mode\"]\n",
    "            unit_life = len(unit_input)\n",
    "            if self.add_zero:\n",
    "                for time in range(3, unit_life):\n",
    "                    input_tensor = torch.zeros(525, 14, dtype=torch.float)\n",
    "                    input_tensor[0:time] = unit_input[0:time]\n",
    "                    unit_RUL = unit_life - time\n",
    "                    input_signal.append(input_tensor)\n",
    "                    RUL.append(unit_RUL)\n",
    "                    label.append(unit_label)\n",
    "            else:\n",
    "                for time in range(3, unit_life):\n",
    "                    input_tensor = unit_input[0:time]\n",
    "                    unit_RUL = unit_life - time\n",
    "                    input_signal.append(input_tensor)\n",
    "                    RUL.append(unit_RUL)\n",
    "                    label.append(unit_label)\n",
    "\n",
    "        self.RUL = np.array(RUL)\n",
    "        self.input_signal = input_signal\n",
    "        self.all_labels = label\n",
    "\n",
    "    def __len__(self):\n",
    "        return len(self.RUL)\n",
    "\n",
    "    def __getitem__(self, idx):\n",
    "        data = {\n",
    "            \"input\": self.input_signal[idx],\n",
    "            \"RUL\": torch.tensor(self.RUL[idx], dtype=torch.int64),\n",
    "            \"mode\":self.all_labels[idx]\n",
    "        }\n",
    "\n",
    "        return data"
   ]
  },
  {
   "cell_type": "code",
   "execution_count": 184,
   "id": "655ef729",
   "metadata": {},
   "outputs": [],
   "source": [
    "CFG.ae_input_layer=6\n",
    "CFG.ae_hidden_layer=8"
   ]
  },
  {
   "cell_type": "code",
   "execution_count": 185,
   "id": "eb272a82",
   "metadata": {},
   "outputs": [],
   "source": [
    "train_dataset_expend=AircraftDataset_expend(df_train,train_label,False)"
   ]
  },
  {
   "cell_type": "code",
   "execution_count": 186,
   "id": "88285a73",
   "metadata": {},
   "outputs": [
    {
     "data": {
      "text/plain": [
       "{'input': tensor([[ 1.0474,  1.2005,  0.2477, -0.2516,  0.2673, -0.4300],\n",
       "         [ 0.6587,  0.6947,  0.4586, -0.1370, -0.0272, -0.2752],\n",
       "         [ 0.6080,  1.0038,  0.0554, -0.2484,  0.6095, -0.2855]]),\n",
       " 'RUL': tensor(250),\n",
       " 'mode': tensor([0., 1.])}"
      ]
     },
     "execution_count": 186,
     "metadata": {},
     "output_type": "execute_result"
    }
   ],
   "source": [
    "train_dataset_expend[256]"
   ]
  },
  {
   "cell_type": "code",
   "execution_count": 187,
   "id": "fb767824",
   "metadata": {},
   "outputs": [],
   "source": [
    " def my_collate(batch):\n",
    " # batch contains a list of tuples of structure (sequence, target)\n",
    "    data = [item[\"input\"] for item in batch]\n",
    "    data = pack_sequence(data, enforce_sorted=False)\n",
    "    targets = [item[\"mode\"] for item in batch]\n",
    "    res={\n",
    "        \"input\":data,\n",
    "        \"mode\":torch.vstack(targets)\n",
    "        \n",
    "    }\n",
    "    \n",
    "    return res"
   ]
  },
  {
   "cell_type": "code",
   "execution_count": 188,
   "id": "f746ee68",
   "metadata": {},
   "outputs": [],
   "source": [
    "train_data_expend_loader = DataLoader(train_dataset_expend,\n",
    "                                      batch_size=CFG.ae_batch_size,\n",
    "                                      shuffle=True,\n",
    "                                      drop_last=True,\n",
    "                                      collate_fn=my_collate)"
   ]
  },
  {
   "cell_type": "code",
   "execution_count": 242,
   "id": "fc95a69e",
   "metadata": {},
   "outputs": [],
   "source": [
    "class LSTMAutoEncoder(nn.Module):\n",
    "    def __init__(self,input_layer=CFG.ae_input_layer,hidden_layer=CFG.ae_hidden_layer,ae_num_class=2):\n",
    "        super().__init__()\n",
    "        self.input_layer = input_layer\n",
    "        self.hidden_layer = hidden_layer\n",
    "        self.num_class= ae_num_class\n",
    "        self.encoder1=nn.LSTM(self.input_layer, self.hidden_layer, batch_first=True)\n",
    "        self.encoder2=nn.LSTM(self.hidden_layer,self.hidden_layer*2,batch_first=True)\n",
    "        self.decoder1=nn.LSTM(self.hidden_layer*2,self.hidden_layer,batch_first=True)\n",
    "        self.decoder2=nn.LSTM(self.hidden_layer,self.input_layer,batch_first=True)\n",
    "        self.logits = nn.Sequential(\n",
    "            nn.Linear(self.hidden_layer*2, self.hidden_layer),\n",
    "            nn.ReLU(),\n",
    "            nn.Linear(self.hidden_layer, self.num_class),\n",
    "            nn.LogSoftmax(dim=-1),\n",
    "        )\n",
    "\n",
    "\n",
    "    def forward(self, x):\n",
    "        x, (_,_) = self.encoder1(x)\n",
    "        x, (h0,_) = self.encoder2(x)\n",
    "        x,(_,_)= self.decoder1(x)\n",
    "        x,(_,_)= self.decoder2(x)\n",
    "        \n",
    "        label= self.logits(h0)\n",
    "                                                  \n",
    "\n",
    "        return x,label"
   ]
  },
  {
   "cell_type": "code",
   "execution_count": 243,
   "id": "c8d8daab",
   "metadata": {},
   "outputs": [],
   "source": [
    "aemodel=LSTMAutoEncoder()"
   ]
  },
  {
   "cell_type": "code",
   "execution_count": 244,
   "id": "3c292353",
   "metadata": {},
   "outputs": [],
   "source": [
    "for train_data in train_data_expend_loader:\n",
    "    None"
   ]
  },
  {
   "cell_type": "code",
   "execution_count": 245,
   "id": "38f3b44d",
   "metadata": {},
   "outputs": [
    {
     "data": {
      "text/plain": [
       "(PackedSequence(data=tensor([[-0.0098,  0.0122,  0.1225, -0.0200,  0.0868, -0.0897],\n",
       "         [-0.0098,  0.0122,  0.1225, -0.0200,  0.0868, -0.0897],\n",
       "         [-0.0098,  0.0122,  0.1225, -0.0200,  0.0868, -0.0897],\n",
       "         ...,\n",
       "         [-0.0284,  0.0033,  0.2189, -0.0309,  0.1651, -0.2215],\n",
       "         [-0.0283,  0.0033,  0.2189, -0.0308,  0.1651, -0.2215],\n",
       "         [-0.0283,  0.0034,  0.2190, -0.0308,  0.1650, -0.2215]],\n",
       "        grad_fn=<CatBackward0>), batch_sizes=tensor([512, 512, 512, 510, 508, 506, 506, 504, 502, 499, 497, 494, 490, 488,\n",
       "         486, 483, 482, 478, 473, 471, 468, 466, 462, 461, 455, 453, 452, 450,\n",
       "         445, 441, 440, 437, 435, 434, 430, 426, 426, 423, 422, 419, 418, 417,\n",
       "         416, 412, 411, 409, 404, 404, 403, 400, 397, 396, 394, 392, 388, 387,\n",
       "         384, 382, 382, 380, 380, 380, 377, 374, 372, 370, 369, 366, 363, 362,\n",
       "         362, 360, 358, 357, 355, 353, 352, 348, 347, 346, 345, 343, 341, 339,\n",
       "         336, 333, 330, 328, 327, 325, 324, 323, 321, 320, 317, 316, 315, 310,\n",
       "         307, 305, 301, 300, 297, 293, 291, 290, 287, 284, 284, 281, 280, 279,\n",
       "         276, 274, 273, 270, 267, 264, 262, 259, 257, 252, 248, 246, 246, 243,\n",
       "         242, 238, 238, 237, 234, 233, 230, 228, 226, 224, 223, 222, 220, 216,\n",
       "         215, 212, 210, 207, 202, 201, 201, 199, 198, 197, 195, 192, 191, 191,\n",
       "         187, 186, 184, 181, 178, 178, 177, 175, 174, 171, 169, 167, 166, 163,\n",
       "         161, 157, 157, 155, 154, 154, 153, 152, 152, 149, 144, 141, 140, 138,\n",
       "         137, 136, 134, 133, 133, 133, 131, 130, 127, 125, 124, 123, 122, 121,\n",
       "         120, 119, 119, 117, 116, 116, 113, 113, 113, 112, 110, 108, 108, 107,\n",
       "         105, 103, 103, 102, 100,  96,  96,  95,  95,  95,  95,  95,  93,  89,\n",
       "          88,  87,  87,  87,  87,  87,  84,  80,  79,  76,  76,  75,  74,  72,\n",
       "          71,  70,  67,  67,  66,  63,  63,  62,  60,  58,  58,  56,  54,  54,\n",
       "          53,  53,  52,  51,  51,  51,  51,  51,  49,  49,  48,  46,  45,  44,\n",
       "          44,  44,  44,  44,  43,  43,  43,  43,  43,  43,  42,  40,  40,  40,\n",
       "          40,  40,  40,  40,  40,  40,  40,  40,  39,  38,  37,  37,  37,  37,\n",
       "          36,  36,  34,  33,  33,  33,  33,  32,  32,  32,  32,  32,  31,  29,\n",
       "          29,  29,  29,  29,  28,  27,  27,  26,  25,  25,  25,  25,  25,  24,\n",
       "          23,  23,  23,  23,  23,  22,  22,  22,  22,  22,  21,  21,  21,  21,\n",
       "          21,  21,  20,  20,  20,  20,  20,  20,  20,  20,  20,  20,  20,  20,\n",
       "          20,  19,  19,  19,  19,  19,  19,  19,  19,  19,  19,  19,  19,  19,\n",
       "          18,  18,  18,  18,  17,  17,  17,  17,  17,  17,  17,  17,  14,  12,\n",
       "          12,  12,  12,  12,  12,  11,  11,  10,  10,  10,  10,  10,  10,  10,\n",
       "          10,  10,  10,  10,  10,  10,   9,   9,   9,   9,   9,   9,   9,   9,\n",
       "           9,   9,   9,   9,   9,   8,   8,   8,   8,   8,   7,   7,   7,   7,\n",
       "           7,   7,   7,   7,   7,   7,   7,   7,   6,   5,   5,   4,   4,   4,\n",
       "           4,   4,   4,   4,   4,   4,   4,   4,   4,   4,   4,   4,   4,   4,\n",
       "           4,   4,   4,   4,   3,   3,   3,   3,   3,   3,   3,   3,   3,   3,\n",
       "           3,   3,   3,   3,   3,   3,   3,   3,   3,   3,   3,   3,   3,   3,\n",
       "           3,   3,   3,   3,   3,   3,   3,   3,   3,   3,   3,   3,   3,   3,\n",
       "           3,   3,   3,   3,   3,   3,   3,   3,   3,   3,   2,   2,   2,   2,\n",
       "           2,   2,   2,   2,   2,   2,   2,   2,   2,   2,   2,   2,   2,   2,\n",
       "           2,   1,   1]), sorted_indices=tensor([444, 408, 111, 447, 259, 153, 288,  67, 351, 190, 251, 487, 489, 314,\n",
       "         257, 330, 372, 357,  23, 383, 231, 434, 235, 436, 395, 169, 147, 360,\n",
       "         419, 353, 349, 266,  86, 105, 497,  17, 476, 331, 302, 301, 284, 184,\n",
       "         326,   4, 460, 129, 336,  96, 166, 269, 423, 204, 285,  91, 430,  98,\n",
       "         200, 217, 499, 339,  70,  75,  77, 504, 319,  22, 100, 195, 152, 244,\n",
       "         198,  76, 261, 122, 276,  92, 186, 432, 481, 159, 252, 333, 191, 213,\n",
       "         491, 496, 511,  46, 232, 502,   2, 386, 468, 183, 418, 379,  40, 493,\n",
       "         443,  54, 238,  18,  61, 229,  33,  80, 265, 456, 283, 429, 367,  16,\n",
       "         492, 247, 205, 297, 303, 307, 346, 394, 137, 286, 170, 332, 415,   6,\n",
       "         335, 148, 407, 378, 377, 488,  56, 410, 149, 392,  53, 363, 455, 437,\n",
       "         167,  66, 400, 312, 196, 427,  49,  57, 103, 311, 428, 141, 393,  85,\n",
       "         442,  71, 274, 144, 449, 470, 256, 225, 327, 387, 175, 279, 171, 503,\n",
       "         273,  79,  37, 388, 139, 417, 233, 345, 180, 416, 308, 112, 236,  64,\n",
       "         422, 322, 179, 450, 343,  68, 445, 510, 469,  36, 142,  78, 253, 401,\n",
       "         433, 157, 424, 471, 498, 338, 474, 115, 373, 328, 324, 509, 254, 216,\n",
       "         188,  10,  60, 484, 374, 150, 396, 398,  45, 389, 320, 220, 126, 143,\n",
       "         246,  47, 197, 275, 309,  11, 260, 313, 325,  30, 101, 268, 281, 161,\n",
       "         490, 368, 364, 163,  38,  26, 189, 409, 473,  21, 340,  90, 107, 130,\n",
       "          63, 435, 381, 113, 271, 282, 414, 291, 243, 448, 248, 258,   8,  93,\n",
       "         116, 270, 118, 230, 501,  83, 467, 365, 403, 192, 202, 162,  27, 439,\n",
       "         421,  52, 128, 505,  15, 411, 172, 466, 206, 295,  97, 506, 454,  20,\n",
       "         366, 420, 117, 218, 294, 452, 131,  84,   0,  81, 323, 223,  99, 280,\n",
       "         296, 480,  12, 145, 479, 472, 426, 477, 210,  73, 177, 239, 358, 385,\n",
       "          13, 136, 457, 451, 391, 362, 194, 178, 508, 356, 134, 215, 329, 125,\n",
       "         209, 164,  32, 495, 359, 321, 168, 212, 203, 108, 494,  25, 292, 478,\n",
       "         465,  72, 289, 347, 123, 390, 483, 462, 221,  69, 272, 369, 277,   1,\n",
       "          50, 140, 242, 124, 485, 234, 376, 463, 316, 412, 438, 413, 120, 315,\n",
       "         350, 102, 187, 461,  39,  19,   7, 226, 245, 278, 155, 127, 146, 440,\n",
       "         104, 208, 464,  58, 384,  94,  24, 459, 354, 250, 267, 382, 318,  65,\n",
       "         227,  43, 425, 446, 334,  82, 176,  88, 342, 290, 114, 135, 341, 305,\n",
       "         344, 287, 348, 402, 371,  62, 306, 133, 355, 397, 132, 441, 453, 151,\n",
       "          51, 304, 219, 264, 475, 300,   5, 160, 121, 222, 404, 237,  74, 240,\n",
       "          87, 458,  95, 110, 241, 109, 310, 211, 370, 165, 181,  34, 201,  28,\n",
       "         193, 262, 106, 156, 317,   3,  14,  44,  41, 173,  29, 199, 182, 185,\n",
       "         293, 507, 228, 431, 399, 158, 255, 154, 249,  59, 174, 299, 337, 224,\n",
       "         263,  31, 138, 500,  48, 486, 119, 405,  89, 298, 361,  55, 214, 406,\n",
       "         207, 352,  35,  42,   9, 380, 482, 375]), unsorted_indices=tensor([302, 363,  90, 467,  43, 440, 125, 384, 264, 508, 211, 229, 310, 322,\n",
       "         468, 284, 111,  35, 101, 383, 293, 247,  65,  18, 398, 347, 243, 278,\n",
       "         461, 472, 233, 491, 338, 104, 459, 506, 191, 170, 242, 382,  96, 470,\n",
       "         507, 407, 469, 218,  87, 225, 494, 146, 364, 434, 281, 136,  99, 501,\n",
       "         132, 147, 395, 485, 212, 102, 425, 252, 181, 405, 141,   7, 187, 359,\n",
       "          60, 155, 351, 317, 446,  61,  71,  62, 193, 169, 105, 303, 411, 271,\n",
       "         301, 153,  32, 448, 413, 498, 249,  53,  75, 265, 397, 450,  47, 290,\n",
       "          55, 306,  66, 234, 379, 148, 392,  33, 464, 250, 345, 453, 451,   2,\n",
       "         179, 255, 416, 203, 266, 296, 268, 496, 376, 442,  73, 354, 367, 335,\n",
       "         222, 389, 282,  45, 251, 300, 430, 427, 332, 417, 323, 120, 492, 172,\n",
       "         365, 151, 192, 223, 157, 311, 390,  26, 127, 134, 215, 433,  68,   5,\n",
       "         483, 388, 465, 197, 481,  79, 441, 237, 277, 241, 337, 457,  48, 140,\n",
       "         342,  25, 122, 166, 286, 471, 486, 164, 412, 318, 329, 184, 176, 458,\n",
       "         474,  93,  41, 475,  76, 380, 210, 244,   9,  82, 275, 462, 328,  67,\n",
       "         144, 226,  70, 473,  56, 460, 276, 344,  51, 114, 288, 504, 393, 336,\n",
       "         316, 455, 343,  83, 502, 333, 209,  57, 297, 436, 221, 358, 443, 305,\n",
       "         489, 161, 385, 406, 478, 103, 269,  20,  88, 174, 369,  22, 180, 445,\n",
       "         100, 319, 447, 452, 366, 260,  69, 386, 224, 113, 262, 484, 401,  10,\n",
       "          80, 194, 208, 482, 160,  14, 263,   4, 230,  72, 463, 490, 437, 106,\n",
       "          31, 402, 235,  49, 267, 256, 360, 168, 156, 227,  74, 362, 387, 165,\n",
       "         307, 236, 257, 108,  40,  52, 121, 421,   6, 352, 415, 259, 348, 476,\n",
       "         298, 289, 308, 115, 499, 487, 439,  39,  38, 116, 435, 419, 426, 117,\n",
       "         178, 228, 454, 149, 143, 231,  13, 377, 372, 466, 404,  64, 220, 341,\n",
       "         183, 304, 206, 232,  42, 162, 205, 334,  15,  37, 123,  81, 410, 126,\n",
       "          46, 488, 201,  59, 248, 418, 414, 186, 420, 175, 118, 353, 422,  30,\n",
       "         378,   8, 505,  29, 400, 428, 331,  17, 320, 340,  27, 500, 327, 137,\n",
       "         240, 273, 294, 110, 239, 361, 456, 424,  16, 204, 214, 511, 370, 130,\n",
       "         129,  95, 509, 254, 403,  19, 396, 321,  91, 163, 171, 219, 355, 326,\n",
       "         135, 152, 119,  24, 216, 429, 217, 480, 142, 195, 423, 274, 444, 497,\n",
       "         503, 128,   1, 245, 133, 285, 373, 375, 258, 124, 177, 173,  94,  28,\n",
       "         295, 280, 182,  50, 198, 408, 314, 145, 150, 109,  54, 479,  77, 196,\n",
       "          21, 253,  23, 139, 374, 279, 391, 431, 154,  98,   0, 188, 409,   3,\n",
       "         261, 158, 185, 325, 299, 432, 292, 138, 107, 324, 449, 399,  44, 381,\n",
       "         357, 371, 394, 350, 287, 272,  92, 190, 159, 199, 313, 246, 202, 438,\n",
       "          36, 315, 349, 312, 309,  78, 510, 356, 213, 368, 495,  11, 131,  12,\n",
       "         238,  84, 112,  97, 346, 339,  85,  34, 200,  58, 493, 270,  89, 167,\n",
       "          63, 283, 291, 477, 330, 207, 189,  86])),\n",
       " tensor([[[-0.7674, -0.6240],\n",
       "          [-0.7672, -0.6242],\n",
       "          [-0.7646, -0.6265],\n",
       "          ...,\n",
       "          [-0.7699, -0.6218],\n",
       "          [-0.7632, -0.6277],\n",
       "          [-0.7668, -0.6246]]], grad_fn=<LogSoftmaxBackward0>))"
      ]
     },
     "execution_count": 245,
     "metadata": {},
     "output_type": "execute_result"
    }
   ],
   "source": [
    "aemodel(train_data[\"input\"])"
   ]
  },
  {
   "cell_type": "code",
   "execution_count": 246,
   "id": "91f9c246",
   "metadata": {},
   "outputs": [],
   "source": [
    "x=train_data[\"input\"].data\n",
    "x_=aemodel(train_data[\"input\"])[0].data"
   ]
  },
  {
   "cell_type": "code",
   "execution_count": 247,
   "id": "03cd3530",
   "metadata": {},
   "outputs": [],
   "source": [
    "class_true=train_data[\"mode\"]\n",
    "class_pred=aemodel(train_data[\"input\"])[1].squeeze(0)"
   ]
  },
  {
   "cell_type": "code",
   "execution_count": 248,
   "id": "c39b0811",
   "metadata": {},
   "outputs": [
    {
     "data": {
      "text/plain": [
       "(tensor([[-0.7674, -0.6240],\n",
       "         [-0.7672, -0.6242],\n",
       "         [-0.7646, -0.6265],\n",
       "         ...,\n",
       "         [-0.7699, -0.6218],\n",
       "         [-0.7632, -0.6277],\n",
       "         [-0.7668, -0.6246]], grad_fn=<SqueezeBackward1>),\n",
       " tensor([[0., 1.],\n",
       "         [1., 0.],\n",
       "         [0., 1.],\n",
       "         ...,\n",
       "         [1., 0.],\n",
       "         [1., 0.],\n",
       "         [0., 1.]]))"
      ]
     },
     "execution_count": 248,
     "metadata": {},
     "output_type": "execute_result"
    }
   ],
   "source": [
    "class_pred,class_true"
   ]
  },
  {
   "cell_type": "code",
   "execution_count": 221,
   "id": "f1f539b3",
   "metadata": {},
   "outputs": [],
   "source": [
    "b = nn.MSELoss()(x,x_)\n",
    "a = nn.CrossEntropyLoss()(class_pred, class_true)"
   ]
  },
  {
   "cell_type": "code",
   "execution_count": 222,
   "id": "c00c34a4",
   "metadata": {},
   "outputs": [
    {
     "data": {
      "text/plain": [
       "(tensor(0.5862, grad_fn=<MseLossBackward0>),\n",
       " tensor(0.6929, grad_fn=<DivBackward1>))"
      ]
     },
     "execution_count": 222,
     "metadata": {},
     "output_type": "execute_result"
    }
   ],
   "source": [
    "b,a"
   ]
  },
  {
   "cell_type": "code",
   "execution_count": 255,
   "id": "5ebb9d18",
   "metadata": {},
   "outputs": [
    {
     "data": {
      "text/plain": [
       "tensor(0.6900, grad_fn=<DivBackward0>)"
      ]
     },
     "execution_count": 255,
     "metadata": {},
     "output_type": "execute_result"
    }
   ],
   "source": [
    "-torch.sum(class_pred*class_true)/len(class_pred)"
   ]
  },
  {
   "cell_type": "code",
   "execution_count": 256,
   "id": "7448d30b",
   "metadata": {},
   "outputs": [
    {
     "data": {
      "text/plain": [
       "tensor(1.1342, grad_fn=<SubBackward0>)"
      ]
     },
     "execution_count": 256,
     "metadata": {},
     "output_type": "execute_result"
    }
   ],
   "source": [
    "nn.MSELoss()(x,x_)-torch.sum(class_pred*class_true)/len(class_pred)"
   ]
  },
  {
   "cell_type": "code",
   "execution_count": null,
   "id": "b3feb30e",
   "metadata": {},
   "outputs": [],
   "source": []
  }
 ],
 "metadata": {
  "kernelspec": {
   "display_name": "Python 3",
   "language": "python",
   "name": "python3"
  },
  "language_info": {
   "codemirror_mode": {
    "name": "ipython",
    "version": 3
   },
   "file_extension": ".py",
   "mimetype": "text/x-python",
   "name": "python",
   "nbconvert_exporter": "python",
   "pygments_lexer": "ipython3",
   "version": "3.8.8"
  }
 },
 "nbformat": 4,
 "nbformat_minor": 5
}
